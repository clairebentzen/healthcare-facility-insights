{
 "cells": [
  {
   "cell_type": "markdown",
   "id": "fb452d61",
   "metadata": {},
   "source": [
    "# Hospital Facilities Insight \n",
    "\n",
    "Data obtained from Community Benefits Insight: http://www.communitybenefitinsight.org/api/get_hospitals.php"
   ]
  },
  {
   "cell_type": "markdown",
   "id": "cbd8fe43",
   "metadata": {},
   "source": [
    "## Import Libaries"
   ]
  },
  {
   "cell_type": "code",
   "execution_count": 2,
   "id": "3d73b33f",
   "metadata": {
    "ExecuteTime": {
     "end_time": "2024-02-19T04:03:26.518022400Z",
     "start_time": "2024-02-19T04:03:26.313977Z"
    }
   },
   "outputs": [],
   "source": [
    "# import appropriate packages\n",
    "import requests\n",
    "import json \n",
    "import pandas as pd\n",
    "from datetime import datetime\n",
    "import matplotlib.pyplot as plt\n",
    "import seaborn as sns\n",
    "\n",
    "import warnings\n",
    "warnings.filterwarnings(\"ignore\") #supress warnings"
   ]
  },
  {
   "cell_type": "markdown",
   "id": "70997038",
   "metadata": {},
   "source": [
    "## Import Data"
   ]
  },
  {
   "cell_type": "code",
   "execution_count": 3,
   "id": "4725e8ab",
   "metadata": {
    "ExecuteTime": {
     "end_time": "2024-02-19T04:03:27.531922300Z",
     "start_time": "2024-02-19T04:03:26.505020Z"
    }
   },
   "outputs": [
    {
     "name": "stdout",
     "output_type": "stream",
     "text": [
      "     hospital_id hospital_org_id        ein  \\\n",
      "0              1               1  630307951   \n",
      "1              2               2  630578923   \n",
      "2              3               3  630312913   \n",
      "3              4               4  630459034   \n",
      "4              5               5  581973570   \n",
      "...          ...             ...        ...   \n",
      "3486        3487            2647  813040663   \n",
      "3487        3488            2304  741109643   \n",
      "3488        3489            2648  831954982   \n",
      "3489        3490            2302  750800661   \n",
      "3490        3491            2649  831869297   \n",
      "\n",
      "                                     name  \\\n",
      "0                Mizell Memorial Hospital   \n",
      "1                        St Vincents East   \n",
      "2           Shelby Baptist Medical Center   \n",
      "3            Callahan Eye Foundation Hosp   \n",
      "4                 Cherokee Medical Center   \n",
      "...                                   ...   \n",
      "3486          Bsw Medical Center - Austin   \n",
      "3487              Ascension Seton Bastrop   \n",
      "3488         Texas Health Hospital Frisco   \n",
      "3489  Methodist Midlothian Medical Center   \n",
      "3490      Texas Health Hospital Mansfield   \n",
      "\n",
      "                                  name_cr              street_address  \\\n",
      "0                Mizell Memorial Hospital             702 Main Street   \n",
      "1                        St Vincents East  50 Medical Park Drive East   \n",
      "2           Shelby Baptist Medical Center     1000 First Street North   \n",
      "3            Callahan Eye Foundation Hosp   1720 University Boulevard   \n",
      "4                 Cherokee Medical Center         400 Northwood Drive   \n",
      "...                                   ...                         ...   \n",
      "3486          Bsw Medical Center - Austin               5245 W Us 290   \n",
      "3487              Ascension Seton Bastrop            630 Highway 71 W   \n",
      "3488         Texas Health Hospital Frisco      12400 N Dallas Parkway   \n",
      "3489  Methodist Midlothian Medical Center          1201 E Highway 287   \n",
      "3490      Texas Health Hospital Mansfield         2300 Lone Star Road   \n",
      "\n",
      "            city state zip_code fips_state_and_county_code hospital_bed_count  \\\n",
      "0            Opp    AL    36462                      01039                 99   \n",
      "1     Birmingham    AL    35235                      01073                362   \n",
      "2      Alabaster    AL    35007                      01117                252   \n",
      "3     Birmingham    AL    35233                      01073                106   \n",
      "4         Centre    AL    35960                      01019                 60   \n",
      "...          ...   ...      ...                        ...                ...   \n",
      "3486      Austin    TX    78735                      48453                 16   \n",
      "3487     Bastrop    TX    78602                      48021                  7   \n",
      "3488      Frisco    TX    75033                      48121                 63   \n",
      "3489  Midlothian    TX    76065                      48139                 46   \n",
      "3490   Mansfield    TX    76063                      48439                 59   \n",
      "\n",
      "     chrch_affl_f urban_location_f children_hospital_f  \\\n",
      "0               N                N                   N   \n",
      "1               N                Y                   N   \n",
      "2               N                Y                   N   \n",
      "3               N                Y                   N   \n",
      "4               N                N                   N   \n",
      "...           ...              ...                 ...   \n",
      "3486            N                Y                   N   \n",
      "3487            N                Y                   N   \n",
      "3488            N                Y                   N   \n",
      "3489            N                Y                   N   \n",
      "3490            N                Y                   N   \n",
      "\n",
      "     memb_counc_teach_hosps_f medicare_provider_number            county  \\\n",
      "0                           N                   010007  Covington County   \n",
      "1                           Y                   010011  Jefferson County   \n",
      "2                           N                   010016     Shelby County   \n",
      "3                           Y                   010018  Jefferson County   \n",
      "4                           N                   010022   Cherokee County   \n",
      "...                       ...                      ...               ...   \n",
      "3486                        N                   670136     Travis County   \n",
      "3487                        N                   670143    Bastrop County   \n",
      "3488                        N                   670260     Denton County   \n",
      "3489                        N                   670300      Ellis County   \n",
      "3490                        N                   670309    Tarrant County   \n",
      "\n",
      "     hospital_bed_size         updated_dt  \n",
      "0            <100 beds  November 20, 2023  \n",
      "1            >299 beds  November 20, 2023  \n",
      "2         100-299 beds  November 20, 2023  \n",
      "3         100-299 beds  November 20, 2023  \n",
      "4            <100 beds  November 20, 2023  \n",
      "...                ...                ...  \n",
      "3486         <100 beds  November 20, 2023  \n",
      "3487         <100 beds  November 20, 2023  \n",
      "3488         <100 beds  November 20, 2023  \n",
      "3489         <100 beds  November 20, 2023  \n",
      "3490         <100 beds  November 20, 2023  \n",
      "\n",
      "[3491 rows x 19 columns]\n"
     ]
    }
   ],
   "source": [
    "# API \n",
    "api_url = 'http://www.communitybenefitinsight.org/api/get_hospitals.php'\n",
    "\n",
    "# request for api \n",
    "response = requests.get(api_url)\n",
    "\n",
    "# check status\n",
    "if response.status_code == 200:\n",
    "    data = response.json()\n",
    "    \n",
    "    # data update check \n",
    "    last_modified_header = response.headers.get('Last-Modified')\n",
    "    \n",
    "    if last_modified_header:\n",
    "        last_modified = datetime.strptime(last_modified_header, '%a, %d %b %Y %H:%M:%S GMT')\n",
    "        print(f\"Data was last modified: {last_modified}\")\n",
    "\n",
    "    # convert data to df \n",
    "    hospital_df = pd.DataFrame(data)\n",
    "    \n",
    "    print(hospital_df)\n",
    "else:\n",
    "    print(f\"Failed to fetch data. Status code: {response.status_code}\")\n",
    "    print(response.text)"
   ]
  },
  {
   "cell_type": "code",
   "execution_count": 4,
   "id": "15fa3a7b",
   "metadata": {
    "ExecuteTime": {
     "end_time": "2024-02-19T04:03:27.590421500Z",
     "start_time": "2024-02-19T04:03:27.543925Z"
    }
   },
   "outputs": [
    {
     "data": {
      "text/plain": "     hospital_id hospital_org_id        ein  \\\n0              1               1  630307951   \n1              2               2  630578923   \n2              3               3  630312913   \n3              4               4  630459034   \n4              5               5  581973570   \n...          ...             ...        ...   \n3486        3487            2647  813040663   \n3487        3488            2304  741109643   \n3488        3489            2648  831954982   \n3489        3490            2302  750800661   \n3490        3491            2649  831869297   \n\n                                     name  \\\n0                Mizell Memorial Hospital   \n1                        St Vincents East   \n2           Shelby Baptist Medical Center   \n3            Callahan Eye Foundation Hosp   \n4                 Cherokee Medical Center   \n...                                   ...   \n3486          Bsw Medical Center - Austin   \n3487              Ascension Seton Bastrop   \n3488         Texas Health Hospital Frisco   \n3489  Methodist Midlothian Medical Center   \n3490      Texas Health Hospital Mansfield   \n\n                                  name_cr              street_address  \\\n0                Mizell Memorial Hospital             702 Main Street   \n1                        St Vincents East  50 Medical Park Drive East   \n2           Shelby Baptist Medical Center     1000 First Street North   \n3            Callahan Eye Foundation Hosp   1720 University Boulevard   \n4                 Cherokee Medical Center         400 Northwood Drive   \n...                                   ...                         ...   \n3486          Bsw Medical Center - Austin               5245 W Us 290   \n3487              Ascension Seton Bastrop            630 Highway 71 W   \n3488         Texas Health Hospital Frisco      12400 N Dallas Parkway   \n3489  Methodist Midlothian Medical Center          1201 E Highway 287   \n3490      Texas Health Hospital Mansfield         2300 Lone Star Road   \n\n            city state zip_code fips_state_and_county_code hospital_bed_count  \\\n0            Opp    AL    36462                      01039                 99   \n1     Birmingham    AL    35235                      01073                362   \n2      Alabaster    AL    35007                      01117                252   \n3     Birmingham    AL    35233                      01073                106   \n4         Centre    AL    35960                      01019                 60   \n...          ...   ...      ...                        ...                ...   \n3486      Austin    TX    78735                      48453                 16   \n3487     Bastrop    TX    78602                      48021                  7   \n3488      Frisco    TX    75033                      48121                 63   \n3489  Midlothian    TX    76065                      48139                 46   \n3490   Mansfield    TX    76063                      48439                 59   \n\n     chrch_affl_f urban_location_f children_hospital_f  \\\n0               N                N                   N   \n1               N                Y                   N   \n2               N                Y                   N   \n3               N                Y                   N   \n4               N                N                   N   \n...           ...              ...                 ...   \n3486            N                Y                   N   \n3487            N                Y                   N   \n3488            N                Y                   N   \n3489            N                Y                   N   \n3490            N                Y                   N   \n\n     memb_counc_teach_hosps_f medicare_provider_number            county  \\\n0                           N                   010007  Covington County   \n1                           Y                   010011  Jefferson County   \n2                           N                   010016     Shelby County   \n3                           Y                   010018  Jefferson County   \n4                           N                   010022   Cherokee County   \n...                       ...                      ...               ...   \n3486                        N                   670136     Travis County   \n3487                        N                   670143    Bastrop County   \n3488                        N                   670260     Denton County   \n3489                        N                   670300      Ellis County   \n3490                        N                   670309    Tarrant County   \n\n     hospital_bed_size         updated_dt  \n0            <100 beds  November 20, 2023  \n1            >299 beds  November 20, 2023  \n2         100-299 beds  November 20, 2023  \n3         100-299 beds  November 20, 2023  \n4            <100 beds  November 20, 2023  \n...                ...                ...  \n3486         <100 beds  November 20, 2023  \n3487         <100 beds  November 20, 2023  \n3488         <100 beds  November 20, 2023  \n3489         <100 beds  November 20, 2023  \n3490         <100 beds  November 20, 2023  \n\n[3491 rows x 19 columns]",
      "text/html": "<div>\n<style scoped>\n    .dataframe tbody tr th:only-of-type {\n        vertical-align: middle;\n    }\n\n    .dataframe tbody tr th {\n        vertical-align: top;\n    }\n\n    .dataframe thead th {\n        text-align: right;\n    }\n</style>\n<table border=\"1\" class=\"dataframe\">\n  <thead>\n    <tr style=\"text-align: right;\">\n      <th></th>\n      <th>hospital_id</th>\n      <th>hospital_org_id</th>\n      <th>ein</th>\n      <th>name</th>\n      <th>name_cr</th>\n      <th>street_address</th>\n      <th>city</th>\n      <th>state</th>\n      <th>zip_code</th>\n      <th>fips_state_and_county_code</th>\n      <th>hospital_bed_count</th>\n      <th>chrch_affl_f</th>\n      <th>urban_location_f</th>\n      <th>children_hospital_f</th>\n      <th>memb_counc_teach_hosps_f</th>\n      <th>medicare_provider_number</th>\n      <th>county</th>\n      <th>hospital_bed_size</th>\n      <th>updated_dt</th>\n    </tr>\n  </thead>\n  <tbody>\n    <tr>\n      <th>0</th>\n      <td>1</td>\n      <td>1</td>\n      <td>630307951</td>\n      <td>Mizell Memorial Hospital</td>\n      <td>Mizell Memorial Hospital</td>\n      <td>702 Main Street</td>\n      <td>Opp</td>\n      <td>AL</td>\n      <td>36462</td>\n      <td>01039</td>\n      <td>99</td>\n      <td>N</td>\n      <td>N</td>\n      <td>N</td>\n      <td>N</td>\n      <td>010007</td>\n      <td>Covington County</td>\n      <td>&lt;100 beds</td>\n      <td>November 20, 2023</td>\n    </tr>\n    <tr>\n      <th>1</th>\n      <td>2</td>\n      <td>2</td>\n      <td>630578923</td>\n      <td>St Vincents East</td>\n      <td>St Vincents East</td>\n      <td>50 Medical Park Drive East</td>\n      <td>Birmingham</td>\n      <td>AL</td>\n      <td>35235</td>\n      <td>01073</td>\n      <td>362</td>\n      <td>N</td>\n      <td>Y</td>\n      <td>N</td>\n      <td>Y</td>\n      <td>010011</td>\n      <td>Jefferson County</td>\n      <td>&gt;299 beds</td>\n      <td>November 20, 2023</td>\n    </tr>\n    <tr>\n      <th>2</th>\n      <td>3</td>\n      <td>3</td>\n      <td>630312913</td>\n      <td>Shelby Baptist Medical Center</td>\n      <td>Shelby Baptist Medical Center</td>\n      <td>1000 First Street North</td>\n      <td>Alabaster</td>\n      <td>AL</td>\n      <td>35007</td>\n      <td>01117</td>\n      <td>252</td>\n      <td>N</td>\n      <td>Y</td>\n      <td>N</td>\n      <td>N</td>\n      <td>010016</td>\n      <td>Shelby County</td>\n      <td>100-299 beds</td>\n      <td>November 20, 2023</td>\n    </tr>\n    <tr>\n      <th>3</th>\n      <td>4</td>\n      <td>4</td>\n      <td>630459034</td>\n      <td>Callahan Eye Foundation Hosp</td>\n      <td>Callahan Eye Foundation Hosp</td>\n      <td>1720 University Boulevard</td>\n      <td>Birmingham</td>\n      <td>AL</td>\n      <td>35233</td>\n      <td>01073</td>\n      <td>106</td>\n      <td>N</td>\n      <td>Y</td>\n      <td>N</td>\n      <td>Y</td>\n      <td>010018</td>\n      <td>Jefferson County</td>\n      <td>100-299 beds</td>\n      <td>November 20, 2023</td>\n    </tr>\n    <tr>\n      <th>4</th>\n      <td>5</td>\n      <td>5</td>\n      <td>581973570</td>\n      <td>Cherokee Medical Center</td>\n      <td>Cherokee Medical Center</td>\n      <td>400 Northwood Drive</td>\n      <td>Centre</td>\n      <td>AL</td>\n      <td>35960</td>\n      <td>01019</td>\n      <td>60</td>\n      <td>N</td>\n      <td>N</td>\n      <td>N</td>\n      <td>N</td>\n      <td>010022</td>\n      <td>Cherokee County</td>\n      <td>&lt;100 beds</td>\n      <td>November 20, 2023</td>\n    </tr>\n    <tr>\n      <th>...</th>\n      <td>...</td>\n      <td>...</td>\n      <td>...</td>\n      <td>...</td>\n      <td>...</td>\n      <td>...</td>\n      <td>...</td>\n      <td>...</td>\n      <td>...</td>\n      <td>...</td>\n      <td>...</td>\n      <td>...</td>\n      <td>...</td>\n      <td>...</td>\n      <td>...</td>\n      <td>...</td>\n      <td>...</td>\n      <td>...</td>\n      <td>...</td>\n    </tr>\n    <tr>\n      <th>3486</th>\n      <td>3487</td>\n      <td>2647</td>\n      <td>813040663</td>\n      <td>Bsw Medical Center - Austin</td>\n      <td>Bsw Medical Center - Austin</td>\n      <td>5245 W Us 290</td>\n      <td>Austin</td>\n      <td>TX</td>\n      <td>78735</td>\n      <td>48453</td>\n      <td>16</td>\n      <td>N</td>\n      <td>Y</td>\n      <td>N</td>\n      <td>N</td>\n      <td>670136</td>\n      <td>Travis County</td>\n      <td>&lt;100 beds</td>\n      <td>November 20, 2023</td>\n    </tr>\n    <tr>\n      <th>3487</th>\n      <td>3488</td>\n      <td>2304</td>\n      <td>741109643</td>\n      <td>Ascension Seton Bastrop</td>\n      <td>Ascension Seton Bastrop</td>\n      <td>630 Highway 71 W</td>\n      <td>Bastrop</td>\n      <td>TX</td>\n      <td>78602</td>\n      <td>48021</td>\n      <td>7</td>\n      <td>N</td>\n      <td>Y</td>\n      <td>N</td>\n      <td>N</td>\n      <td>670143</td>\n      <td>Bastrop County</td>\n      <td>&lt;100 beds</td>\n      <td>November 20, 2023</td>\n    </tr>\n    <tr>\n      <th>3488</th>\n      <td>3489</td>\n      <td>2648</td>\n      <td>831954982</td>\n      <td>Texas Health Hospital Frisco</td>\n      <td>Texas Health Hospital Frisco</td>\n      <td>12400 N Dallas Parkway</td>\n      <td>Frisco</td>\n      <td>TX</td>\n      <td>75033</td>\n      <td>48121</td>\n      <td>63</td>\n      <td>N</td>\n      <td>Y</td>\n      <td>N</td>\n      <td>N</td>\n      <td>670260</td>\n      <td>Denton County</td>\n      <td>&lt;100 beds</td>\n      <td>November 20, 2023</td>\n    </tr>\n    <tr>\n      <th>3489</th>\n      <td>3490</td>\n      <td>2302</td>\n      <td>750800661</td>\n      <td>Methodist Midlothian Medical Center</td>\n      <td>Methodist Midlothian Medical Center</td>\n      <td>1201 E Highway 287</td>\n      <td>Midlothian</td>\n      <td>TX</td>\n      <td>76065</td>\n      <td>48139</td>\n      <td>46</td>\n      <td>N</td>\n      <td>Y</td>\n      <td>N</td>\n      <td>N</td>\n      <td>670300</td>\n      <td>Ellis County</td>\n      <td>&lt;100 beds</td>\n      <td>November 20, 2023</td>\n    </tr>\n    <tr>\n      <th>3490</th>\n      <td>3491</td>\n      <td>2649</td>\n      <td>831869297</td>\n      <td>Texas Health Hospital Mansfield</td>\n      <td>Texas Health Hospital Mansfield</td>\n      <td>2300 Lone Star Road</td>\n      <td>Mansfield</td>\n      <td>TX</td>\n      <td>76063</td>\n      <td>48439</td>\n      <td>59</td>\n      <td>N</td>\n      <td>Y</td>\n      <td>N</td>\n      <td>N</td>\n      <td>670309</td>\n      <td>Tarrant County</td>\n      <td>&lt;100 beds</td>\n      <td>November 20, 2023</td>\n    </tr>\n  </tbody>\n</table>\n<p>3491 rows × 19 columns</p>\n</div>"
     },
     "execution_count": 4,
     "metadata": {},
     "output_type": "execute_result"
    }
   ],
   "source": [
    "hospital_df # print df "
   ]
  },
  {
   "cell_type": "code",
   "execution_count": 5,
   "id": "a6d2dd36",
   "metadata": {
    "ExecuteTime": {
     "end_time": "2024-02-19T04:03:27.654388100Z",
     "start_time": "2024-02-19T04:03:27.580419800Z"
    }
   },
   "outputs": [
    {
     "data": {
      "text/plain": "     hospital_id hospital_org_id        ein  \\\n1954        1955            1491  010649794   \n279          280             196  951644042   \n3385        3386            2525  390806374   \n598          599             256  362193608   \n155          156             111  954896822   \n2551        2552             140  941105628   \n3248        3249            2463  910564491   \n2434        2435             850  521301088   \n2990        2991            2292  751837454   \n968          969             714  822736786   \n\n                                      name  \\\n1954         Jfk University Medical Center   \n279       Torrance Memorial Medical Center   \n3385              Franciscan Skemp Arcadia   \n598   Shriners Hospital For Children Tampa   \n155    Dewitt Hospital & Nursing Home  Inc   \n2551        Kaiser Westside Medical Center   \n3248                   St Anthony Hospital   \n2434                  Mercy Allen Hospital   \n2990       Baylor Medical Center At Uptown   \n968                 Iu Health Jay Hospital   \n\n                                   name_cr            street_address  \\\n1954         Jfk University Medical Center           65 James Street   \n279       Torrance Memorial Medical Center     3330 Lomita Boulevard   \n3385                                             464 S St Joseph Ave   \n598   Shriners Hospital For Children Tampa      12505 Usf Pine Drive   \n155    Dewitt Hospital & Nursing Home  Inc       Highway 1 & Madison   \n2551        Kaiser Westside Medical Center     2875 Nw Stucki Avenue   \n3248                   St Anthony Hospital  11567 Canterwood Blvd Nw   \n2434                  Mercy Allen Hospital    200 West Lorain Street   \n2990       Baylor Medical Center At Uptown        2727 Lemmon Avenue   \n968                 Iu Health Jay Hospital               500 W Votaw   \n\n            city state zip_code fips_state_and_county_code hospital_bed_count  \\\n1954      Edison    NJ    08818                      34023                459   \n279     Torrance    CA    90505                      06037                380   \n3385     Arcadia    WI    54612                      55121                 25   \n598        Tampa    FL    33612                      12057                 60   \n155       Dewitt    AR    72042                      05001                 25   \n2551   Hillsboro    OR    97124                      41067                122   \n3248  Gig Harbor    WA    98332                      53053                 80   \n2434     Oberlin    OH    44074                      39093                 25   \n2990      Dallas    TX    75204                      48113                 28   \n968     Portland    IN    47371                      18075                 35   \n\n     chrch_affl_f urban_location_f children_hospital_f  \\\n1954            N                Y                   N   \n279             N                Y                   N   \n3385            Y                N                   N   \n598             N                Y                   Y   \n155             N                N                   N   \n2551            N                Y                   N   \n3248            Y                Y                   N   \n2434            N                Y                   N   \n2990            N                Y                   N   \n968             N                N                   N   \n\n     memb_counc_teach_hosps_f medicare_provider_number               county  \\\n1954                        Y                   310108     Middlesex County   \n279                         N                   050351   Los Angeles County   \n3385                        N                   521306   Trempealeau County   \n598                         Y                   103303  Hillsborough County   \n155                         N                   041314      Arkansas County   \n2551                        Y                   380103    Washington County   \n3248                        Y                   500151        Pierce County   \n2434                        N                   361306        Lorain County   \n2990                        N                   450422        Dallas County   \n968                         N                   151320           Jay County   \n\n     hospital_bed_size         updated_dt  \n1954         >299 beds  November 20, 2023  \n279          >299 beds  November 20, 2023  \n3385         <100 beds  November 20, 2023  \n598          <100 beds  November 20, 2023  \n155          <100 beds  November 20, 2023  \n2551      100-299 beds  November 20, 2023  \n3248         <100 beds  November 20, 2023  \n2434         <100 beds  November 20, 2023  \n2990         <100 beds  November 20, 2023  \n968          <100 beds  November 20, 2023  ",
      "text/html": "<div>\n<style scoped>\n    .dataframe tbody tr th:only-of-type {\n        vertical-align: middle;\n    }\n\n    .dataframe tbody tr th {\n        vertical-align: top;\n    }\n\n    .dataframe thead th {\n        text-align: right;\n    }\n</style>\n<table border=\"1\" class=\"dataframe\">\n  <thead>\n    <tr style=\"text-align: right;\">\n      <th></th>\n      <th>hospital_id</th>\n      <th>hospital_org_id</th>\n      <th>ein</th>\n      <th>name</th>\n      <th>name_cr</th>\n      <th>street_address</th>\n      <th>city</th>\n      <th>state</th>\n      <th>zip_code</th>\n      <th>fips_state_and_county_code</th>\n      <th>hospital_bed_count</th>\n      <th>chrch_affl_f</th>\n      <th>urban_location_f</th>\n      <th>children_hospital_f</th>\n      <th>memb_counc_teach_hosps_f</th>\n      <th>medicare_provider_number</th>\n      <th>county</th>\n      <th>hospital_bed_size</th>\n      <th>updated_dt</th>\n    </tr>\n  </thead>\n  <tbody>\n    <tr>\n      <th>1954</th>\n      <td>1955</td>\n      <td>1491</td>\n      <td>010649794</td>\n      <td>Jfk University Medical Center</td>\n      <td>Jfk University Medical Center</td>\n      <td>65 James Street</td>\n      <td>Edison</td>\n      <td>NJ</td>\n      <td>08818</td>\n      <td>34023</td>\n      <td>459</td>\n      <td>N</td>\n      <td>Y</td>\n      <td>N</td>\n      <td>Y</td>\n      <td>310108</td>\n      <td>Middlesex County</td>\n      <td>&gt;299 beds</td>\n      <td>November 20, 2023</td>\n    </tr>\n    <tr>\n      <th>279</th>\n      <td>280</td>\n      <td>196</td>\n      <td>951644042</td>\n      <td>Torrance Memorial Medical Center</td>\n      <td>Torrance Memorial Medical Center</td>\n      <td>3330 Lomita Boulevard</td>\n      <td>Torrance</td>\n      <td>CA</td>\n      <td>90505</td>\n      <td>06037</td>\n      <td>380</td>\n      <td>N</td>\n      <td>Y</td>\n      <td>N</td>\n      <td>N</td>\n      <td>050351</td>\n      <td>Los Angeles County</td>\n      <td>&gt;299 beds</td>\n      <td>November 20, 2023</td>\n    </tr>\n    <tr>\n      <th>3385</th>\n      <td>3386</td>\n      <td>2525</td>\n      <td>390806374</td>\n      <td>Franciscan Skemp Arcadia</td>\n      <td></td>\n      <td>464 S St Joseph Ave</td>\n      <td>Arcadia</td>\n      <td>WI</td>\n      <td>54612</td>\n      <td>55121</td>\n      <td>25</td>\n      <td>Y</td>\n      <td>N</td>\n      <td>N</td>\n      <td>N</td>\n      <td>521306</td>\n      <td>Trempealeau County</td>\n      <td>&lt;100 beds</td>\n      <td>November 20, 2023</td>\n    </tr>\n    <tr>\n      <th>598</th>\n      <td>599</td>\n      <td>256</td>\n      <td>362193608</td>\n      <td>Shriners Hospital For Children Tampa</td>\n      <td>Shriners Hospital For Children Tampa</td>\n      <td>12505 Usf Pine Drive</td>\n      <td>Tampa</td>\n      <td>FL</td>\n      <td>33612</td>\n      <td>12057</td>\n      <td>60</td>\n      <td>N</td>\n      <td>Y</td>\n      <td>Y</td>\n      <td>Y</td>\n      <td>103303</td>\n      <td>Hillsborough County</td>\n      <td>&lt;100 beds</td>\n      <td>November 20, 2023</td>\n    </tr>\n    <tr>\n      <th>155</th>\n      <td>156</td>\n      <td>111</td>\n      <td>954896822</td>\n      <td>Dewitt Hospital &amp; Nursing Home  Inc</td>\n      <td>Dewitt Hospital &amp; Nursing Home  Inc</td>\n      <td>Highway 1 &amp; Madison</td>\n      <td>Dewitt</td>\n      <td>AR</td>\n      <td>72042</td>\n      <td>05001</td>\n      <td>25</td>\n      <td>N</td>\n      <td>N</td>\n      <td>N</td>\n      <td>N</td>\n      <td>041314</td>\n      <td>Arkansas County</td>\n      <td>&lt;100 beds</td>\n      <td>November 20, 2023</td>\n    </tr>\n    <tr>\n      <th>2551</th>\n      <td>2552</td>\n      <td>140</td>\n      <td>941105628</td>\n      <td>Kaiser Westside Medical Center</td>\n      <td>Kaiser Westside Medical Center</td>\n      <td>2875 Nw Stucki Avenue</td>\n      <td>Hillsboro</td>\n      <td>OR</td>\n      <td>97124</td>\n      <td>41067</td>\n      <td>122</td>\n      <td>N</td>\n      <td>Y</td>\n      <td>N</td>\n      <td>Y</td>\n      <td>380103</td>\n      <td>Washington County</td>\n      <td>100-299 beds</td>\n      <td>November 20, 2023</td>\n    </tr>\n    <tr>\n      <th>3248</th>\n      <td>3249</td>\n      <td>2463</td>\n      <td>910564491</td>\n      <td>St Anthony Hospital</td>\n      <td>St Anthony Hospital</td>\n      <td>11567 Canterwood Blvd Nw</td>\n      <td>Gig Harbor</td>\n      <td>WA</td>\n      <td>98332</td>\n      <td>53053</td>\n      <td>80</td>\n      <td>Y</td>\n      <td>Y</td>\n      <td>N</td>\n      <td>Y</td>\n      <td>500151</td>\n      <td>Pierce County</td>\n      <td>&lt;100 beds</td>\n      <td>November 20, 2023</td>\n    </tr>\n    <tr>\n      <th>2434</th>\n      <td>2435</td>\n      <td>850</td>\n      <td>521301088</td>\n      <td>Mercy Allen Hospital</td>\n      <td>Mercy Allen Hospital</td>\n      <td>200 West Lorain Street</td>\n      <td>Oberlin</td>\n      <td>OH</td>\n      <td>44074</td>\n      <td>39093</td>\n      <td>25</td>\n      <td>N</td>\n      <td>Y</td>\n      <td>N</td>\n      <td>N</td>\n      <td>361306</td>\n      <td>Lorain County</td>\n      <td>&lt;100 beds</td>\n      <td>November 20, 2023</td>\n    </tr>\n    <tr>\n      <th>2990</th>\n      <td>2991</td>\n      <td>2292</td>\n      <td>751837454</td>\n      <td>Baylor Medical Center At Uptown</td>\n      <td>Baylor Medical Center At Uptown</td>\n      <td>2727 Lemmon Avenue</td>\n      <td>Dallas</td>\n      <td>TX</td>\n      <td>75204</td>\n      <td>48113</td>\n      <td>28</td>\n      <td>N</td>\n      <td>Y</td>\n      <td>N</td>\n      <td>N</td>\n      <td>450422</td>\n      <td>Dallas County</td>\n      <td>&lt;100 beds</td>\n      <td>November 20, 2023</td>\n    </tr>\n    <tr>\n      <th>968</th>\n      <td>969</td>\n      <td>714</td>\n      <td>822736786</td>\n      <td>Iu Health Jay Hospital</td>\n      <td>Iu Health Jay Hospital</td>\n      <td>500 W Votaw</td>\n      <td>Portland</td>\n      <td>IN</td>\n      <td>47371</td>\n      <td>18075</td>\n      <td>35</td>\n      <td>N</td>\n      <td>N</td>\n      <td>N</td>\n      <td>N</td>\n      <td>151320</td>\n      <td>Jay County</td>\n      <td>&lt;100 beds</td>\n      <td>November 20, 2023</td>\n    </tr>\n  </tbody>\n</table>\n</div>"
     },
     "execution_count": 5,
     "metadata": {},
     "output_type": "execute_result"
    }
   ],
   "source": [
    "# print 10 random samples from the dataframe \n",
    "hospital_df.sample(10)"
   ]
  },
  {
   "cell_type": "markdown",
   "id": "8e149eca",
   "metadata": {},
   "source": [
    "## Data Inspection"
   ]
  },
  {
   "cell_type": "code",
   "execution_count": 6,
   "id": "8103d4c0",
   "metadata": {
    "ExecuteTime": {
     "end_time": "2024-02-19T04:03:27.657387800Z",
     "start_time": "2024-02-19T04:03:27.610425900Z"
    }
   },
   "outputs": [
    {
     "data": {
      "text/plain": "(3491, 19)"
     },
     "execution_count": 6,
     "metadata": {},
     "output_type": "execute_result"
    }
   ],
   "source": [
    "hospital_df.shape "
   ]
  },
  {
   "cell_type": "code",
   "execution_count": 7,
   "id": "984b5789",
   "metadata": {
    "ExecuteTime": {
     "end_time": "2024-02-19T04:03:27.898972600Z",
     "start_time": "2024-02-19T04:03:27.626431800Z"
    }
   },
   "outputs": [
    {
     "name": "stdout",
     "output_type": "stream",
     "text": [
      "<class 'pandas.core.frame.DataFrame'>\n",
      "RangeIndex: 3491 entries, 0 to 3490\n",
      "Data columns (total 19 columns):\n",
      " #   Column                      Non-Null Count  Dtype \n",
      "---  ------                      --------------  ----- \n",
      " 0   hospital_id                 3491 non-null   object\n",
      " 1   hospital_org_id             3491 non-null   object\n",
      " 2   ein                         3491 non-null   object\n",
      " 3   name                        3491 non-null   object\n",
      " 4   name_cr                     3491 non-null   object\n",
      " 5   street_address              3491 non-null   object\n",
      " 6   city                        3491 non-null   object\n",
      " 7   state                       3491 non-null   object\n",
      " 8   zip_code                    3491 non-null   object\n",
      " 9   fips_state_and_county_code  3491 non-null   object\n",
      " 10  hospital_bed_count          3491 non-null   object\n",
      " 11  chrch_affl_f                3491 non-null   object\n",
      " 12  urban_location_f            3491 non-null   object\n",
      " 13  children_hospital_f         3491 non-null   object\n",
      " 14  memb_counc_teach_hosps_f    3491 non-null   object\n",
      " 15  medicare_provider_number    3491 non-null   object\n",
      " 16  county                      3490 non-null   object\n",
      " 17  hospital_bed_size           3491 non-null   object\n",
      " 18  updated_dt                  3491 non-null   object\n",
      "dtypes: object(19)\n",
      "memory usage: 518.3+ KB\n"
     ]
    }
   ],
   "source": [
    "hospital_df.info() #all variables in df are labeled as object variables"
   ]
  },
  {
   "cell_type": "code",
   "execution_count": 8,
   "id": "4a7e4844",
   "metadata": {
    "ExecuteTime": {
     "end_time": "2024-02-19T04:03:28.035004400Z",
     "start_time": "2024-02-19T04:03:27.682394Z"
    }
   },
   "outputs": [
    {
     "name": "stdout",
     "output_type": "stream",
     "text": [
      "<class 'pandas.core.frame.DataFrame'>\n",
      "RangeIndex: 3491 entries, 0 to 3490\n",
      "Data columns (total 19 columns):\n",
      " #   Column                      Non-Null Count  Dtype \n",
      "---  ------                      --------------  ----- \n",
      " 0   hospital_id                 3491 non-null   object\n",
      " 1   hospital_org_id             3491 non-null   object\n",
      " 2   ein                         3491 non-null   object\n",
      " 3   name                        3491 non-null   object\n",
      " 4   name_cr                     3491 non-null   object\n",
      " 5   street_address              3491 non-null   object\n",
      " 6   city                        3491 non-null   object\n",
      " 7   state                       3491 non-null   object\n",
      " 8   zip_code                    3491 non-null   object\n",
      " 9   fips_state_and_county_code  3491 non-null   object\n",
      " 10  hospital_bed_count          3491 non-null   int64 \n",
      " 11  chrch_affl_f                3491 non-null   int64 \n",
      " 12  urban_location_f            3491 non-null   int64 \n",
      " 13  children_hospital_f         3491 non-null   int64 \n",
      " 14  memb_counc_teach_hosps_f    3491 non-null   int64 \n",
      " 15  medicare_provider_number    3491 non-null   int64 \n",
      " 16  county                      3490 non-null   object\n",
      " 17  hospital_bed_size           3491 non-null   object\n",
      " 18  updated_dt                  3491 non-null   object\n",
      "dtypes: int64(6), object(13)\n",
      "memory usage: 518.3+ KB\n"
     ]
    }
   ],
   "source": [
    "columns_to_convert = ['hospital_bed_count', 'medicare_provider_number']\n",
    "binary_columns = ['chrch_affl_f', 'urban_location_f', 'children_hospital_f', 'memb_counc_teach_hosps_f']\n",
    "\n",
    "# iterate through the list of columns\n",
    "for col in columns_to_convert:\n",
    "    # convert to numeric, coerce errors to NaN\n",
    "    hospital_df[col] = pd.to_numeric(hospital_df[col], errors='coerce')\n",
    "    \n",
    "for col in binary_columns:\n",
    "    # Map 'N' to 0 and 'Y' to 1\n",
    "    hospital_df[col] = hospital_df[col].map({'N': 0, 'Y': 1})\n",
    "\n",
    "# check the data types after conversion\n",
    "hospital_df.info()\n"
   ]
  },
  {
   "cell_type": "code",
   "execution_count": 9,
   "id": "2acf36ac",
   "metadata": {
    "ExecuteTime": {
     "end_time": "2024-02-19T04:03:28.037004900Z",
     "start_time": "2024-02-19T04:03:27.736405Z"
    }
   },
   "outputs": [
    {
     "data": {
      "text/plain": "hospital_id                   3491\nhospital_org_id               2377\nein                           2377\nname                          3330\nname_cr                       3072\nstreet_address                3439\ncity                          2192\nstate                           51\nzip_code                      3200\nfips_state_and_county_code    1751\nhospital_bed_count             696\nchrch_affl_f                     2\nurban_location_f                 2\nchildren_hospital_f              2\nmemb_counc_teach_hosps_f         2\nmedicare_provider_number      3491\ncounty                        1195\nhospital_bed_size                3\nupdated_dt                       1\ndtype: int64"
     },
     "execution_count": 9,
     "metadata": {},
     "output_type": "execute_result"
    }
   ],
   "source": [
    "hospital_df.nunique() #unique variables "
   ]
  },
  {
   "cell_type": "code",
   "execution_count": 10,
   "id": "f0aac437",
   "metadata": {
    "ExecuteTime": {
     "end_time": "2024-02-19T04:03:28.148029700Z",
     "start_time": "2024-02-19T04:03:27.768412300Z"
    }
   },
   "outputs": [
    {
     "data": {
      "text/plain": "hospital_id                   0\nhospital_org_id               0\nein                           0\nname                          0\nname_cr                       0\nstreet_address                0\ncity                          0\nstate                         0\nzip_code                      0\nfips_state_and_county_code    0\nhospital_bed_count            0\nchrch_affl_f                  0\nurban_location_f              0\nchildren_hospital_f           0\nmemb_counc_teach_hosps_f      0\nmedicare_provider_number      0\ncounty                        1\nhospital_bed_size             0\nupdated_dt                    0\ndtype: int64"
     },
     "execution_count": 10,
     "metadata": {},
     "output_type": "execute_result"
    }
   ],
   "source": [
    "hospital_df.isnull().sum() #null values "
   ]
  },
  {
   "cell_type": "code",
   "execution_count": 11,
   "id": "2449df19",
   "metadata": {
    "ExecuteTime": {
     "end_time": "2024-02-19T04:03:28.152029300Z",
     "start_time": "2024-02-19T04:03:27.804420400Z"
    }
   },
   "outputs": [
    {
     "name": "stdout",
     "output_type": "stream",
     "text": [
      "Duplicate Rows except first occurrence:\n",
      "Empty DataFrame\n",
      "Columns: [hospital_id, hospital_org_id, ein, name, name_cr, street_address, city, state, zip_code, fips_state_and_county_code, hospital_bed_count, chrch_affl_f, urban_location_f, children_hospital_f, memb_counc_teach_hosps_f, medicare_provider_number, county, hospital_bed_size, updated_dt]\n",
      "Index: []\n",
      "No duplicates found in the DataFrame.\n"
     ]
    }
   ],
   "source": [
    "duplicate_rows = hospital_df[hospital_df.duplicated()]\n",
    "\n",
    "print(\"Duplicate Rows except first occurrence:\")\n",
    "print(duplicate_rows)\n",
    "\n",
    "if hospital_df.duplicated().any():\n",
    "    print(\"Duplicates exist in the DataFrame.\")\n",
    "else:\n",
    "    print(\"No duplicates found in the DataFrame.\")"
   ]
  },
  {
   "cell_type": "markdown",
   "id": "964f532e",
   "metadata": {},
   "source": [
    "## Table Manipulation"
   ]
  },
  {
   "cell_type": "code",
   "execution_count": 12,
   "id": "e3107bd3",
   "metadata": {
    "ExecuteTime": {
     "end_time": "2024-02-19T04:03:28.181036400Z",
     "start_time": "2024-02-19T04:03:27.846429800Z"
    }
   },
   "outputs": [
    {
     "data": {
      "text/plain": "     hospital_id hospital_org_id                                 name  \\\n0              1               1             Mizell Memorial Hospital   \n1              2               2                     St Vincents East   \n2              3               3        Shelby Baptist Medical Center   \n3              4               4         Callahan Eye Foundation Hosp   \n4              5               5              Cherokee Medical Center   \n...          ...             ...                                  ...   \n3486        3487            2647          Bsw Medical Center - Austin   \n3487        3488            2304              Ascension Seton Bastrop   \n3488        3489            2648         Texas Health Hospital Frisco   \n3489        3490            2302  Methodist Midlothian Medical Center   \n3490        3491            2649      Texas Health Hospital Mansfield   \n\n            ein  medicare_provider_number  address_id  capacity_id  \\\n0     630307951                     10007         609            2   \n1     630578923                     10011        1075          370   \n2     630312913                     10016        3323          490   \n3     630459034                     10018        2440          680   \n4     581973570                     10022        1337          155   \n...         ...                       ...         ...          ...   \n3486  813040663                    670136         949          587   \n3487  741109643                    670143         718           63   \n3488  831954982                    670260        2901          135   \n3489  750800661                    670300        2967          264   \n3490  831869297                    670309        2007          163   \n\n             updated_dt  \n0     November 20, 2023  \n1     November 20, 2023  \n2     November 20, 2023  \n3     November 20, 2023  \n4     November 20, 2023  \n...                 ...  \n3486  November 20, 2023  \n3487  November 20, 2023  \n3488  November 20, 2023  \n3489  November 20, 2023  \n3490  November 20, 2023  \n\n[3491 rows x 8 columns]",
      "text/html": "<div>\n<style scoped>\n    .dataframe tbody tr th:only-of-type {\n        vertical-align: middle;\n    }\n\n    .dataframe tbody tr th {\n        vertical-align: top;\n    }\n\n    .dataframe thead th {\n        text-align: right;\n    }\n</style>\n<table border=\"1\" class=\"dataframe\">\n  <thead>\n    <tr style=\"text-align: right;\">\n      <th></th>\n      <th>hospital_id</th>\n      <th>hospital_org_id</th>\n      <th>name</th>\n      <th>ein</th>\n      <th>medicare_provider_number</th>\n      <th>address_id</th>\n      <th>capacity_id</th>\n      <th>updated_dt</th>\n    </tr>\n  </thead>\n  <tbody>\n    <tr>\n      <th>0</th>\n      <td>1</td>\n      <td>1</td>\n      <td>Mizell Memorial Hospital</td>\n      <td>630307951</td>\n      <td>10007</td>\n      <td>609</td>\n      <td>2</td>\n      <td>November 20, 2023</td>\n    </tr>\n    <tr>\n      <th>1</th>\n      <td>2</td>\n      <td>2</td>\n      <td>St Vincents East</td>\n      <td>630578923</td>\n      <td>10011</td>\n      <td>1075</td>\n      <td>370</td>\n      <td>November 20, 2023</td>\n    </tr>\n    <tr>\n      <th>2</th>\n      <td>3</td>\n      <td>3</td>\n      <td>Shelby Baptist Medical Center</td>\n      <td>630312913</td>\n      <td>10016</td>\n      <td>3323</td>\n      <td>490</td>\n      <td>November 20, 2023</td>\n    </tr>\n    <tr>\n      <th>3</th>\n      <td>4</td>\n      <td>4</td>\n      <td>Callahan Eye Foundation Hosp</td>\n      <td>630459034</td>\n      <td>10018</td>\n      <td>2440</td>\n      <td>680</td>\n      <td>November 20, 2023</td>\n    </tr>\n    <tr>\n      <th>4</th>\n      <td>5</td>\n      <td>5</td>\n      <td>Cherokee Medical Center</td>\n      <td>581973570</td>\n      <td>10022</td>\n      <td>1337</td>\n      <td>155</td>\n      <td>November 20, 2023</td>\n    </tr>\n    <tr>\n      <th>...</th>\n      <td>...</td>\n      <td>...</td>\n      <td>...</td>\n      <td>...</td>\n      <td>...</td>\n      <td>...</td>\n      <td>...</td>\n      <td>...</td>\n    </tr>\n    <tr>\n      <th>3486</th>\n      <td>3487</td>\n      <td>2647</td>\n      <td>Bsw Medical Center - Austin</td>\n      <td>813040663</td>\n      <td>670136</td>\n      <td>949</td>\n      <td>587</td>\n      <td>November 20, 2023</td>\n    </tr>\n    <tr>\n      <th>3487</th>\n      <td>3488</td>\n      <td>2304</td>\n      <td>Ascension Seton Bastrop</td>\n      <td>741109643</td>\n      <td>670143</td>\n      <td>718</td>\n      <td>63</td>\n      <td>November 20, 2023</td>\n    </tr>\n    <tr>\n      <th>3488</th>\n      <td>3489</td>\n      <td>2648</td>\n      <td>Texas Health Hospital Frisco</td>\n      <td>831954982</td>\n      <td>670260</td>\n      <td>2901</td>\n      <td>135</td>\n      <td>November 20, 2023</td>\n    </tr>\n    <tr>\n      <th>3489</th>\n      <td>3490</td>\n      <td>2302</td>\n      <td>Methodist Midlothian Medical Center</td>\n      <td>750800661</td>\n      <td>670300</td>\n      <td>2967</td>\n      <td>264</td>\n      <td>November 20, 2023</td>\n    </tr>\n    <tr>\n      <th>3490</th>\n      <td>3491</td>\n      <td>2649</td>\n      <td>Texas Health Hospital Mansfield</td>\n      <td>831869297</td>\n      <td>670309</td>\n      <td>2007</td>\n      <td>163</td>\n      <td>November 20, 2023</td>\n    </tr>\n  </tbody>\n</table>\n<p>3491 rows × 8 columns</p>\n</div>"
     },
     "execution_count": 12,
     "metadata": {},
     "output_type": "execute_result"
    }
   ],
   "source": [
    "# Hospital Information Table\n",
    "\n",
    "# create unique ID for address\n",
    "hospital_df['address_id'] = hospital_df['street_address'] + '_' + hospital_df['city'] + '_' + hospital_df['state'] + '_' + hospital_df['zip_code'] + '_' + hospital_df['fips_state_and_county_code']\n",
    "hospital_df['address_id'] = hospital_df['address_id'].rank(method='dense', ascending=False).astype(int)\n",
    "\n",
    "#create unique ID for hospital capacity\n",
    "hospital_df['capacity_id'] = hospital_df['hospital_bed_count'].astype(str) + '_' + hospital_df['hospital_bed_size']\n",
    "hospital_df['capacity_id'] = hospital_df['capacity_id'].rank(method='dense', ascending=False).astype(int)\n",
    "\n",
    "# create hospital information table\n",
    "hospital = hospital_df[['hospital_id', 'hospital_org_id', 'name', 'ein', 'medicare_provider_number', 'address_id', 'capacity_id', 'updated_dt']]\n",
    "hospital"
   ]
  },
  {
   "cell_type": "code",
   "execution_count": 13,
   "id": "8a8f478d",
   "metadata": {
    "ExecuteTime": {
     "end_time": "2024-02-19T04:03:28.202040600Z",
     "start_time": "2024-02-19T04:03:27.910975Z"
    }
   },
   "outputs": [
    {
     "data": {
      "text/plain": "     hospital_id  chrch_affl_f         updated_dt\n0              1             0  November 20, 2023\n1              2             0  November 20, 2023\n2              3             0  November 20, 2023\n3              4             0  November 20, 2023\n4              5             0  November 20, 2023\n...          ...           ...                ...\n3486        3487             0  November 20, 2023\n3487        3488             0  November 20, 2023\n3488        3489             0  November 20, 2023\n3489        3490             0  November 20, 2023\n3490        3491             0  November 20, 2023\n\n[3491 rows x 3 columns]",
      "text/html": "<div>\n<style scoped>\n    .dataframe tbody tr th:only-of-type {\n        vertical-align: middle;\n    }\n\n    .dataframe tbody tr th {\n        vertical-align: top;\n    }\n\n    .dataframe thead th {\n        text-align: right;\n    }\n</style>\n<table border=\"1\" class=\"dataframe\">\n  <thead>\n    <tr style=\"text-align: right;\">\n      <th></th>\n      <th>hospital_id</th>\n      <th>chrch_affl_f</th>\n      <th>updated_dt</th>\n    </tr>\n  </thead>\n  <tbody>\n    <tr>\n      <th>0</th>\n      <td>1</td>\n      <td>0</td>\n      <td>November 20, 2023</td>\n    </tr>\n    <tr>\n      <th>1</th>\n      <td>2</td>\n      <td>0</td>\n      <td>November 20, 2023</td>\n    </tr>\n    <tr>\n      <th>2</th>\n      <td>3</td>\n      <td>0</td>\n      <td>November 20, 2023</td>\n    </tr>\n    <tr>\n      <th>3</th>\n      <td>4</td>\n      <td>0</td>\n      <td>November 20, 2023</td>\n    </tr>\n    <tr>\n      <th>4</th>\n      <td>5</td>\n      <td>0</td>\n      <td>November 20, 2023</td>\n    </tr>\n    <tr>\n      <th>...</th>\n      <td>...</td>\n      <td>...</td>\n      <td>...</td>\n    </tr>\n    <tr>\n      <th>3486</th>\n      <td>3487</td>\n      <td>0</td>\n      <td>November 20, 2023</td>\n    </tr>\n    <tr>\n      <th>3487</th>\n      <td>3488</td>\n      <td>0</td>\n      <td>November 20, 2023</td>\n    </tr>\n    <tr>\n      <th>3488</th>\n      <td>3489</td>\n      <td>0</td>\n      <td>November 20, 2023</td>\n    </tr>\n    <tr>\n      <th>3489</th>\n      <td>3490</td>\n      <td>0</td>\n      <td>November 20, 2023</td>\n    </tr>\n    <tr>\n      <th>3490</th>\n      <td>3491</td>\n      <td>0</td>\n      <td>November 20, 2023</td>\n    </tr>\n  </tbody>\n</table>\n<p>3491 rows × 3 columns</p>\n</div>"
     },
     "execution_count": 13,
     "metadata": {},
     "output_type": "execute_result"
    }
   ],
   "source": [
    "# Church Affiliation Table\n",
    "church_affiliation = hospital_df[['hospital_id', 'chrch_affl_f', 'updated_dt']]\n",
    "church_affiliation"
   ]
  },
  {
   "cell_type": "code",
   "execution_count": 14,
   "id": "603afe4c",
   "metadata": {
    "ExecuteTime": {
     "end_time": "2024-02-19T04:03:28.204044500Z",
     "start_time": "2024-02-19T04:03:27.945983400Z"
    }
   },
   "outputs": [
    {
     "data": {
      "text/plain": "      capacity_id hospital_bed_size  hospital_bed_count         updated_dt\n0               2         <100 beds                  99  November 20, 2023\n1             370         >299 beds                 362  November 20, 2023\n2             490      100-299 beds                 252  November 20, 2023\n3             680      100-299 beds                 106  November 20, 2023\n4             155         <100 beds                  60  November 20, 2023\n...           ...               ...                 ...                ...\n3486          587         <100 beds                  16  November 20, 2023\n3487           63         <100 beds                   7  November 20, 2023\n3488          135         <100 beds                  63  November 20, 2023\n3489          264         <100 beds                  46  November 20, 2023\n3490          163         <100 beds                  59  November 20, 2023\n\n[3491 rows x 4 columns]",
      "text/html": "<div>\n<style scoped>\n    .dataframe tbody tr th:only-of-type {\n        vertical-align: middle;\n    }\n\n    .dataframe tbody tr th {\n        vertical-align: top;\n    }\n\n    .dataframe thead th {\n        text-align: right;\n    }\n</style>\n<table border=\"1\" class=\"dataframe\">\n  <thead>\n    <tr style=\"text-align: right;\">\n      <th></th>\n      <th>capacity_id</th>\n      <th>hospital_bed_size</th>\n      <th>hospital_bed_count</th>\n      <th>updated_dt</th>\n    </tr>\n  </thead>\n  <tbody>\n    <tr>\n      <th>0</th>\n      <td>2</td>\n      <td>&lt;100 beds</td>\n      <td>99</td>\n      <td>November 20, 2023</td>\n    </tr>\n    <tr>\n      <th>1</th>\n      <td>370</td>\n      <td>&gt;299 beds</td>\n      <td>362</td>\n      <td>November 20, 2023</td>\n    </tr>\n    <tr>\n      <th>2</th>\n      <td>490</td>\n      <td>100-299 beds</td>\n      <td>252</td>\n      <td>November 20, 2023</td>\n    </tr>\n    <tr>\n      <th>3</th>\n      <td>680</td>\n      <td>100-299 beds</td>\n      <td>106</td>\n      <td>November 20, 2023</td>\n    </tr>\n    <tr>\n      <th>4</th>\n      <td>155</td>\n      <td>&lt;100 beds</td>\n      <td>60</td>\n      <td>November 20, 2023</td>\n    </tr>\n    <tr>\n      <th>...</th>\n      <td>...</td>\n      <td>...</td>\n      <td>...</td>\n      <td>...</td>\n    </tr>\n    <tr>\n      <th>3486</th>\n      <td>587</td>\n      <td>&lt;100 beds</td>\n      <td>16</td>\n      <td>November 20, 2023</td>\n    </tr>\n    <tr>\n      <th>3487</th>\n      <td>63</td>\n      <td>&lt;100 beds</td>\n      <td>7</td>\n      <td>November 20, 2023</td>\n    </tr>\n    <tr>\n      <th>3488</th>\n      <td>135</td>\n      <td>&lt;100 beds</td>\n      <td>63</td>\n      <td>November 20, 2023</td>\n    </tr>\n    <tr>\n      <th>3489</th>\n      <td>264</td>\n      <td>&lt;100 beds</td>\n      <td>46</td>\n      <td>November 20, 2023</td>\n    </tr>\n    <tr>\n      <th>3490</th>\n      <td>163</td>\n      <td>&lt;100 beds</td>\n      <td>59</td>\n      <td>November 20, 2023</td>\n    </tr>\n  </tbody>\n</table>\n<p>3491 rows × 4 columns</p>\n</div>"
     },
     "execution_count": 14,
     "metadata": {},
     "output_type": "execute_result"
    }
   ],
   "source": [
    "# Hospital Capacity Table\n",
    "hospital_capacity = hospital_df[['capacity_id', 'hospital_bed_size', 'hospital_bed_count', 'updated_dt']]\n",
    "hospital_capacity"
   ]
  },
  {
   "cell_type": "code",
   "execution_count": 15,
   "id": "9a1633c9",
   "metadata": {
    "ExecuteTime": {
     "end_time": "2024-02-19T04:03:28.221044900Z",
     "start_time": "2024-02-19T04:03:27.975989900Z"
    }
   },
   "outputs": [
    {
     "data": {
      "text/plain": "     hospital_id  children_hospital_f         updated_dt\n0              1                    0  November 20, 2023\n1              2                    0  November 20, 2023\n2              3                    0  November 20, 2023\n3              4                    0  November 20, 2023\n4              5                    0  November 20, 2023\n...          ...                  ...                ...\n3486        3487                    0  November 20, 2023\n3487        3488                    0  November 20, 2023\n3488        3489                    0  November 20, 2023\n3489        3490                    0  November 20, 2023\n3490        3491                    0  November 20, 2023\n\n[3491 rows x 3 columns]",
      "text/html": "<div>\n<style scoped>\n    .dataframe tbody tr th:only-of-type {\n        vertical-align: middle;\n    }\n\n    .dataframe tbody tr th {\n        vertical-align: top;\n    }\n\n    .dataframe thead th {\n        text-align: right;\n    }\n</style>\n<table border=\"1\" class=\"dataframe\">\n  <thead>\n    <tr style=\"text-align: right;\">\n      <th></th>\n      <th>hospital_id</th>\n      <th>children_hospital_f</th>\n      <th>updated_dt</th>\n    </tr>\n  </thead>\n  <tbody>\n    <tr>\n      <th>0</th>\n      <td>1</td>\n      <td>0</td>\n      <td>November 20, 2023</td>\n    </tr>\n    <tr>\n      <th>1</th>\n      <td>2</td>\n      <td>0</td>\n      <td>November 20, 2023</td>\n    </tr>\n    <tr>\n      <th>2</th>\n      <td>3</td>\n      <td>0</td>\n      <td>November 20, 2023</td>\n    </tr>\n    <tr>\n      <th>3</th>\n      <td>4</td>\n      <td>0</td>\n      <td>November 20, 2023</td>\n    </tr>\n    <tr>\n      <th>4</th>\n      <td>5</td>\n      <td>0</td>\n      <td>November 20, 2023</td>\n    </tr>\n    <tr>\n      <th>...</th>\n      <td>...</td>\n      <td>...</td>\n      <td>...</td>\n    </tr>\n    <tr>\n      <th>3486</th>\n      <td>3487</td>\n      <td>0</td>\n      <td>November 20, 2023</td>\n    </tr>\n    <tr>\n      <th>3487</th>\n      <td>3488</td>\n      <td>0</td>\n      <td>November 20, 2023</td>\n    </tr>\n    <tr>\n      <th>3488</th>\n      <td>3489</td>\n      <td>0</td>\n      <td>November 20, 2023</td>\n    </tr>\n    <tr>\n      <th>3489</th>\n      <td>3490</td>\n      <td>0</td>\n      <td>November 20, 2023</td>\n    </tr>\n    <tr>\n      <th>3490</th>\n      <td>3491</td>\n      <td>0</td>\n      <td>November 20, 2023</td>\n    </tr>\n  </tbody>\n</table>\n<p>3491 rows × 3 columns</p>\n</div>"
     },
     "execution_count": 15,
     "metadata": {},
     "output_type": "execute_result"
    }
   ],
   "source": [
    "# Children Hospital Table\n",
    "children_hospital= hospital_df[['hospital_id', 'children_hospital_f', 'updated_dt']]\n",
    "children_hospital"
   ]
  },
  {
   "cell_type": "code",
   "execution_count": 16,
   "id": "c898e0f5",
   "metadata": {
    "ExecuteTime": {
     "end_time": "2024-02-19T04:03:28.227046700Z",
     "start_time": "2024-02-19T04:03:28.005996600Z"
    }
   },
   "outputs": [
    {
     "data": {
      "text/plain": "     hospital_id  memb_counc_teach_hosps_f         updated_dt\n0              1                         0  November 20, 2023\n1              2                         1  November 20, 2023\n2              3                         0  November 20, 2023\n3              4                         1  November 20, 2023\n4              5                         0  November 20, 2023\n...          ...                       ...                ...\n3486        3487                         0  November 20, 2023\n3487        3488                         0  November 20, 2023\n3488        3489                         0  November 20, 2023\n3489        3490                         0  November 20, 2023\n3490        3491                         0  November 20, 2023\n\n[3491 rows x 3 columns]",
      "text/html": "<div>\n<style scoped>\n    .dataframe tbody tr th:only-of-type {\n        vertical-align: middle;\n    }\n\n    .dataframe tbody tr th {\n        vertical-align: top;\n    }\n\n    .dataframe thead th {\n        text-align: right;\n    }\n</style>\n<table border=\"1\" class=\"dataframe\">\n  <thead>\n    <tr style=\"text-align: right;\">\n      <th></th>\n      <th>hospital_id</th>\n      <th>memb_counc_teach_hosps_f</th>\n      <th>updated_dt</th>\n    </tr>\n  </thead>\n  <tbody>\n    <tr>\n      <th>0</th>\n      <td>1</td>\n      <td>0</td>\n      <td>November 20, 2023</td>\n    </tr>\n    <tr>\n      <th>1</th>\n      <td>2</td>\n      <td>1</td>\n      <td>November 20, 2023</td>\n    </tr>\n    <tr>\n      <th>2</th>\n      <td>3</td>\n      <td>0</td>\n      <td>November 20, 2023</td>\n    </tr>\n    <tr>\n      <th>3</th>\n      <td>4</td>\n      <td>1</td>\n      <td>November 20, 2023</td>\n    </tr>\n    <tr>\n      <th>4</th>\n      <td>5</td>\n      <td>0</td>\n      <td>November 20, 2023</td>\n    </tr>\n    <tr>\n      <th>...</th>\n      <td>...</td>\n      <td>...</td>\n      <td>...</td>\n    </tr>\n    <tr>\n      <th>3486</th>\n      <td>3487</td>\n      <td>0</td>\n      <td>November 20, 2023</td>\n    </tr>\n    <tr>\n      <th>3487</th>\n      <td>3488</td>\n      <td>0</td>\n      <td>November 20, 2023</td>\n    </tr>\n    <tr>\n      <th>3488</th>\n      <td>3489</td>\n      <td>0</td>\n      <td>November 20, 2023</td>\n    </tr>\n    <tr>\n      <th>3489</th>\n      <td>3490</td>\n      <td>0</td>\n      <td>November 20, 2023</td>\n    </tr>\n    <tr>\n      <th>3490</th>\n      <td>3491</td>\n      <td>0</td>\n      <td>November 20, 2023</td>\n    </tr>\n  </tbody>\n</table>\n<p>3491 rows × 3 columns</p>\n</div>"
     },
     "execution_count": 16,
     "metadata": {},
     "output_type": "execute_result"
    }
   ],
   "source": [
    "# Teaching Table\n",
    "teaching = hospital_df[['hospital_id', 'memb_counc_teach_hosps_f', 'updated_dt']]\n",
    "teaching"
   ]
  },
  {
   "cell_type": "code",
   "outputs": [
    {
     "data": {
      "text/plain": "      urban_location_f         updated_dt hospital_id\n0                    0  November 20, 2023           1\n1                    1  November 20, 2023           2\n2                    1  November 20, 2023           3\n3                    1  November 20, 2023           4\n4                    0  November 20, 2023           5\n...                ...                ...         ...\n3486                 1  November 20, 2023        3487\n3487                 1  November 20, 2023        3488\n3488                 1  November 20, 2023        3489\n3489                 1  November 20, 2023        3490\n3490                 1  November 20, 2023        3491\n\n[3491 rows x 3 columns]",
      "text/html": "<div>\n<style scoped>\n    .dataframe tbody tr th:only-of-type {\n        vertical-align: middle;\n    }\n\n    .dataframe tbody tr th {\n        vertical-align: top;\n    }\n\n    .dataframe thead th {\n        text-align: right;\n    }\n</style>\n<table border=\"1\" class=\"dataframe\">\n  <thead>\n    <tr style=\"text-align: right;\">\n      <th></th>\n      <th>urban_location_f</th>\n      <th>updated_dt</th>\n      <th>hospital_id</th>\n    </tr>\n  </thead>\n  <tbody>\n    <tr>\n      <th>0</th>\n      <td>0</td>\n      <td>November 20, 2023</td>\n      <td>1</td>\n    </tr>\n    <tr>\n      <th>1</th>\n      <td>1</td>\n      <td>November 20, 2023</td>\n      <td>2</td>\n    </tr>\n    <tr>\n      <th>2</th>\n      <td>1</td>\n      <td>November 20, 2023</td>\n      <td>3</td>\n    </tr>\n    <tr>\n      <th>3</th>\n      <td>1</td>\n      <td>November 20, 2023</td>\n      <td>4</td>\n    </tr>\n    <tr>\n      <th>4</th>\n      <td>0</td>\n      <td>November 20, 2023</td>\n      <td>5</td>\n    </tr>\n    <tr>\n      <th>...</th>\n      <td>...</td>\n      <td>...</td>\n      <td>...</td>\n    </tr>\n    <tr>\n      <th>3486</th>\n      <td>1</td>\n      <td>November 20, 2023</td>\n      <td>3487</td>\n    </tr>\n    <tr>\n      <th>3487</th>\n      <td>1</td>\n      <td>November 20, 2023</td>\n      <td>3488</td>\n    </tr>\n    <tr>\n      <th>3488</th>\n      <td>1</td>\n      <td>November 20, 2023</td>\n      <td>3489</td>\n    </tr>\n    <tr>\n      <th>3489</th>\n      <td>1</td>\n      <td>November 20, 2023</td>\n      <td>3490</td>\n    </tr>\n    <tr>\n      <th>3490</th>\n      <td>1</td>\n      <td>November 20, 2023</td>\n      <td>3491</td>\n    </tr>\n  </tbody>\n</table>\n<p>3491 rows × 3 columns</p>\n</div>"
     },
     "execution_count": 17,
     "metadata": {},
     "output_type": "execute_result"
    }
   ],
   "source": [
    "# Urban Table\n",
    "urban = hospital_df[['urban_location_f', 'updated_dt','hospital_id']]\n",
    "urban"
   ],
   "metadata": {
    "collapsed": false,
    "ExecuteTime": {
     "end_time": "2024-02-19T04:03:28.231047Z",
     "start_time": "2024-02-19T04:03:28.038005400Z"
    }
   },
   "id": "825453c355236a99",
   "execution_count": 17
  },
  {
   "cell_type": "code",
   "outputs": [
    {
     "data": {
      "text/plain": "                  street_address        city state zip_code  \\\n0                702 Main Street         Opp    AL    36462   \n1     50 Medical Park Drive East  Birmingham    AL    35235   \n2        1000 First Street North   Alabaster    AL    35007   \n3      1720 University Boulevard  Birmingham    AL    35233   \n4            400 Northwood Drive      Centre    AL    35960   \n...                          ...         ...   ...      ...   \n3486               5245 W Us 290      Austin    TX    78735   \n3487            630 Highway 71 W     Bastrop    TX    78602   \n3488      12400 N Dallas Parkway      Frisco    TX    75033   \n3489          1201 E Highway 287  Midlothian    TX    76065   \n3490         2300 Lone Star Road   Mansfield    TX    76063   \n\n     fips_state_and_county_code            county         updated_dt  \n0                         01039  Covington County  November 20, 2023  \n1                         01073  Jefferson County  November 20, 2023  \n2                         01117     Shelby County  November 20, 2023  \n3                         01073  Jefferson County  November 20, 2023  \n4                         01019   Cherokee County  November 20, 2023  \n...                         ...               ...                ...  \n3486                      48453     Travis County  November 20, 2023  \n3487                      48021    Bastrop County  November 20, 2023  \n3488                      48121     Denton County  November 20, 2023  \n3489                      48139      Ellis County  November 20, 2023  \n3490                      48439    Tarrant County  November 20, 2023  \n\n[3491 rows x 7 columns]",
      "text/html": "<div>\n<style scoped>\n    .dataframe tbody tr th:only-of-type {\n        vertical-align: middle;\n    }\n\n    .dataframe tbody tr th {\n        vertical-align: top;\n    }\n\n    .dataframe thead th {\n        text-align: right;\n    }\n</style>\n<table border=\"1\" class=\"dataframe\">\n  <thead>\n    <tr style=\"text-align: right;\">\n      <th></th>\n      <th>street_address</th>\n      <th>city</th>\n      <th>state</th>\n      <th>zip_code</th>\n      <th>fips_state_and_county_code</th>\n      <th>county</th>\n      <th>updated_dt</th>\n    </tr>\n  </thead>\n  <tbody>\n    <tr>\n      <th>0</th>\n      <td>702 Main Street</td>\n      <td>Opp</td>\n      <td>AL</td>\n      <td>36462</td>\n      <td>01039</td>\n      <td>Covington County</td>\n      <td>November 20, 2023</td>\n    </tr>\n    <tr>\n      <th>1</th>\n      <td>50 Medical Park Drive East</td>\n      <td>Birmingham</td>\n      <td>AL</td>\n      <td>35235</td>\n      <td>01073</td>\n      <td>Jefferson County</td>\n      <td>November 20, 2023</td>\n    </tr>\n    <tr>\n      <th>2</th>\n      <td>1000 First Street North</td>\n      <td>Alabaster</td>\n      <td>AL</td>\n      <td>35007</td>\n      <td>01117</td>\n      <td>Shelby County</td>\n      <td>November 20, 2023</td>\n    </tr>\n    <tr>\n      <th>3</th>\n      <td>1720 University Boulevard</td>\n      <td>Birmingham</td>\n      <td>AL</td>\n      <td>35233</td>\n      <td>01073</td>\n      <td>Jefferson County</td>\n      <td>November 20, 2023</td>\n    </tr>\n    <tr>\n      <th>4</th>\n      <td>400 Northwood Drive</td>\n      <td>Centre</td>\n      <td>AL</td>\n      <td>35960</td>\n      <td>01019</td>\n      <td>Cherokee County</td>\n      <td>November 20, 2023</td>\n    </tr>\n    <tr>\n      <th>...</th>\n      <td>...</td>\n      <td>...</td>\n      <td>...</td>\n      <td>...</td>\n      <td>...</td>\n      <td>...</td>\n      <td>...</td>\n    </tr>\n    <tr>\n      <th>3486</th>\n      <td>5245 W Us 290</td>\n      <td>Austin</td>\n      <td>TX</td>\n      <td>78735</td>\n      <td>48453</td>\n      <td>Travis County</td>\n      <td>November 20, 2023</td>\n    </tr>\n    <tr>\n      <th>3487</th>\n      <td>630 Highway 71 W</td>\n      <td>Bastrop</td>\n      <td>TX</td>\n      <td>78602</td>\n      <td>48021</td>\n      <td>Bastrop County</td>\n      <td>November 20, 2023</td>\n    </tr>\n    <tr>\n      <th>3488</th>\n      <td>12400 N Dallas Parkway</td>\n      <td>Frisco</td>\n      <td>TX</td>\n      <td>75033</td>\n      <td>48121</td>\n      <td>Denton County</td>\n      <td>November 20, 2023</td>\n    </tr>\n    <tr>\n      <th>3489</th>\n      <td>1201 E Highway 287</td>\n      <td>Midlothian</td>\n      <td>TX</td>\n      <td>76065</td>\n      <td>48139</td>\n      <td>Ellis County</td>\n      <td>November 20, 2023</td>\n    </tr>\n    <tr>\n      <th>3490</th>\n      <td>2300 Lone Star Road</td>\n      <td>Mansfield</td>\n      <td>TX</td>\n      <td>76063</td>\n      <td>48439</td>\n      <td>Tarrant County</td>\n      <td>November 20, 2023</td>\n    </tr>\n  </tbody>\n</table>\n<p>3491 rows × 7 columns</p>\n</div>"
     },
     "execution_count": 20,
     "metadata": {},
     "output_type": "execute_result"
    }
   ],
   "source": [
    "# Address/Location Table\n",
    "Address = hospital_df[['street_address','city','state','zip_code','fips_state_and_county_code','county','updated_dt']]\n",
    "Address"
   ],
   "metadata": {
    "collapsed": false,
    "ExecuteTime": {
     "end_time": "2024-02-19T04:07:18.925941800Z",
     "start_time": "2024-02-19T04:07:18.889933700Z"
    }
   },
   "id": "526169548cb4e80d",
   "execution_count": 20
  },
  {
   "cell_type": "code",
   "outputs": [
    {
     "ename": "NameError",
     "evalue": "name 'conn' is not defined",
     "output_type": "error",
     "traceback": [
      "\u001B[1;31m---------------------------------------------------------------------------\u001B[0m",
      "\u001B[1;31mNameError\u001B[0m                                 Traceback (most recent call last)",
      "Cell \u001B[1;32mIn[22], line 9\u001B[0m\n\u001B[0;32m      5\u001B[0m sql_insert_address_data \u001B[38;5;241m=\u001B[39m \u001B[38;5;124m\"\"\"\u001B[39m\u001B[38;5;124mINSERT INTO Address (street_address, city, state, zip_code, fips_state_and_county_code, county, updated_dt)\u001B[39m\n\u001B[0;32m      6\u001B[0m \u001B[38;5;124mVALUES (\u001B[39m\u001B[38;5;132;01m%s\u001B[39;00m\u001B[38;5;124m, \u001B[39m\u001B[38;5;132;01m%s\u001B[39;00m\u001B[38;5;124m, \u001B[39m\u001B[38;5;132;01m%s\u001B[39;00m\u001B[38;5;124m, \u001B[39m\u001B[38;5;132;01m%s\u001B[39;00m\u001B[38;5;124m, \u001B[39m\u001B[38;5;132;01m%s\u001B[39;00m\u001B[38;5;124m, \u001B[39m\u001B[38;5;132;01m%s\u001B[39;00m\u001B[38;5;124m, \u001B[39m\u001B[38;5;132;01m%s\u001B[39;00m\u001B[38;5;124m)\u001B[39m\u001B[38;5;124m\"\"\"\u001B[39m\n\u001B[0;32m      8\u001B[0m \u001B[38;5;66;03m# execute query\u001B[39;00m\n\u001B[1;32m----> 9\u001B[0m cursor \u001B[38;5;241m=\u001B[39m \u001B[43mconn\u001B[49m\u001B[38;5;241m.\u001B[39mcursor()\n\u001B[0;32m     10\u001B[0m cursor\u001B[38;5;241m.\u001B[39mexecutemany(sql_insert_address_data, address_data)\n\u001B[0;32m     11\u001B[0m conn\u001B[38;5;241m.\u001B[39mcommit()\n",
      "\u001B[1;31mNameError\u001B[0m: name 'conn' is not defined"
     ]
    }
   ],
   "source": [
    "# Address/Location table - convert df to list of tuples\n",
    "address_data = [tuple(x) for x in Address.values]\n",
    "\n",
    "# SQL query - insert data into address table\n",
    "sql_insert_address_data = \"\"\"INSERT INTO Address (street_address, city, state, zip_code, fips_state_and_county_code, county, updated_dt)\n",
    "VALUES (%s, %s, %s, %s, %s, %s, %s)\"\"\"\n",
    "\n",
    "# execute query\n",
    "cursor = conn.cursor()\n",
    "cursor.executemany(sql_insert_address_data, address_data)\n",
    "conn.commit()"
   ],
   "metadata": {
    "collapsed": false,
    "ExecuteTime": {
     "end_time": "2024-02-19T04:18:29.888031700Z",
     "start_time": "2024-02-19T04:18:29.838019900Z"
    }
   },
   "id": "98230796f7331510",
   "execution_count": 22
  },
  {
   "cell_type": "code",
   "outputs": [],
   "source": [],
   "metadata": {
    "collapsed": false
   },
   "id": "110f7d87d36881b0"
  }
 ],
 "metadata": {
  "kernelspec": {
   "display_name": "Python 3 (ipykernel)",
   "language": "python",
   "name": "python3"
  },
  "language_info": {
   "codemirror_mode": {
    "name": "ipython",
    "version": 3
   },
   "file_extension": ".py",
   "mimetype": "text/x-python",
   "name": "python",
   "nbconvert_exporter": "python",
   "pygments_lexer": "ipython3",
   "version": "3.11.7"
  }
 },
 "nbformat": 4,
 "nbformat_minor": 5
}
