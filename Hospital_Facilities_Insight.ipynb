{
 "cells": [
  {
   "cell_type": "markdown",
   "id": "fb452d61",
   "metadata": {},
   "source": [
    "# Hospital Facilities Insight \n",
    "\n",
    "Data obtained from Community Benefits Insight: http://www.communitybenefitinsight.org/api/get_hospitals.php"
   ]
  },
  {
   "cell_type": "markdown",
   "id": "cbd8fe43",
   "metadata": {},
   "source": [
    "## Import Libaries"
   ]
  },
  {
   "cell_type": "code",
   "execution_count": 1,
   "id": "3d73b33f",
   "metadata": {
    "ExecuteTime": {
     "end_time": "2024-02-10T15:24:00.591432800Z",
     "start_time": "2024-02-10T15:24:00.477407200Z"
    }
   },
   "outputs": [],
   "source": [
    "# import appropriate packages\n",
    "import requests\n",
    "import json \n",
    "import pandas as pd\n",
    "from datetime import datetime\n",
    "import matplotlib.pyplot as plt\n",
    "import seaborn as sns\n",
    "\n",
    "import warnings\n",
    "warnings.filterwarnings(\"ignore\") #supress warnings"
   ]
  },
  {
   "cell_type": "markdown",
   "id": "70997038",
   "metadata": {},
   "source": [
    "## Import Data"
   ]
  },
  {
   "cell_type": "code",
   "execution_count": 2,
   "id": "4725e8ab",
   "metadata": {
    "ExecuteTime": {
     "end_time": "2024-02-10T15:24:01.339601600Z",
     "start_time": "2024-02-10T15:24:00.591432800Z"
    }
   },
   "outputs": [
    {
     "name": "stdout",
     "output_type": "stream",
     "text": [
      "     hospital_id hospital_org_id        ein  \\\n",
      "0              1               1  630307951   \n",
      "1              2               2  630578923   \n",
      "2              3               3  630312913   \n",
      "3              4               4  630459034   \n",
      "4              5               5  581973570   \n",
      "...          ...             ...        ...   \n",
      "3486        3487            2647  813040663   \n",
      "3487        3488            2304  741109643   \n",
      "3488        3489            2648  831954982   \n",
      "3489        3490            2302  750800661   \n",
      "3490        3491            2649  831869297   \n",
      "\n",
      "                                     name  \\\n",
      "0                Mizell Memorial Hospital   \n",
      "1                        St Vincents East   \n",
      "2           Shelby Baptist Medical Center   \n",
      "3            Callahan Eye Foundation Hosp   \n",
      "4                 Cherokee Medical Center   \n",
      "...                                   ...   \n",
      "3486          Bsw Medical Center - Austin   \n",
      "3487              Ascension Seton Bastrop   \n",
      "3488         Texas Health Hospital Frisco   \n",
      "3489  Methodist Midlothian Medical Center   \n",
      "3490      Texas Health Hospital Mansfield   \n",
      "\n",
      "                                  name_cr              street_address  \\\n",
      "0                Mizell Memorial Hospital             702 Main Street   \n",
      "1                        St Vincents East  50 Medical Park Drive East   \n",
      "2           Shelby Baptist Medical Center     1000 First Street North   \n",
      "3            Callahan Eye Foundation Hosp   1720 University Boulevard   \n",
      "4                 Cherokee Medical Center         400 Northwood Drive   \n",
      "...                                   ...                         ...   \n",
      "3486          Bsw Medical Center - Austin               5245 W Us 290   \n",
      "3487              Ascension Seton Bastrop            630 Highway 71 W   \n",
      "3488         Texas Health Hospital Frisco      12400 N Dallas Parkway   \n",
      "3489  Methodist Midlothian Medical Center          1201 E Highway 287   \n",
      "3490      Texas Health Hospital Mansfield         2300 Lone Star Road   \n",
      "\n",
      "            city state zip_code fips_state_and_county_code hospital_bed_count  \\\n",
      "0            Opp    AL    36462                      01039                 99   \n",
      "1     Birmingham    AL    35235                      01073                362   \n",
      "2      Alabaster    AL    35007                      01117                252   \n",
      "3     Birmingham    AL    35233                      01073                106   \n",
      "4         Centre    AL    35960                      01019                 60   \n",
      "...          ...   ...      ...                        ...                ...   \n",
      "3486      Austin    TX    78735                      48453                 16   \n",
      "3487     Bastrop    TX    78602                      48021                  7   \n",
      "3488      Frisco    TX    75033                      48121                 63   \n",
      "3489  Midlothian    TX    76065                      48139                 46   \n",
      "3490   Mansfield    TX    76063                      48439                 59   \n",
      "\n",
      "     chrch_affl_f urban_location_f children_hospital_f  \\\n",
      "0               N                N                   N   \n",
      "1               N                Y                   N   \n",
      "2               N                Y                   N   \n",
      "3               N                Y                   N   \n",
      "4               N                N                   N   \n",
      "...           ...              ...                 ...   \n",
      "3486            N                Y                   N   \n",
      "3487            N                Y                   N   \n",
      "3488            N                Y                   N   \n",
      "3489            N                Y                   N   \n",
      "3490            N                Y                   N   \n",
      "\n",
      "     memb_counc_teach_hosps_f medicare_provider_number            county  \\\n",
      "0                           N                   010007  Covington County   \n",
      "1                           Y                   010011  Jefferson County   \n",
      "2                           N                   010016     Shelby County   \n",
      "3                           Y                   010018  Jefferson County   \n",
      "4                           N                   010022   Cherokee County   \n",
      "...                       ...                      ...               ...   \n",
      "3486                        N                   670136     Travis County   \n",
      "3487                        N                   670143    Bastrop County   \n",
      "3488                        N                   670260     Denton County   \n",
      "3489                        N                   670300      Ellis County   \n",
      "3490                        N                   670309    Tarrant County   \n",
      "\n",
      "     hospital_bed_size         updated_dt  \n",
      "0            <100 beds  November 20, 2023  \n",
      "1            >299 beds  November 20, 2023  \n",
      "2         100-299 beds  November 20, 2023  \n",
      "3         100-299 beds  November 20, 2023  \n",
      "4            <100 beds  November 20, 2023  \n",
      "...                ...                ...  \n",
      "3486         <100 beds  November 20, 2023  \n",
      "3487         <100 beds  November 20, 2023  \n",
      "3488         <100 beds  November 20, 2023  \n",
      "3489         <100 beds  November 20, 2023  \n",
      "3490         <100 beds  November 20, 2023  \n",
      "\n",
      "[3491 rows x 19 columns]\n"
     ]
    }
   ],
   "source": [
    "# API \n",
    "api_url = 'http://www.communitybenefitinsight.org/api/get_hospitals.php'\n",
    "\n",
    "# request for api \n",
    "response = requests.get(api_url)\n",
    "\n",
    "# check status\n",
    "if response.status_code == 200:\n",
    "    data = response.json()\n",
    "    \n",
    "    # data update check \n",
    "    last_modified_header = response.headers.get('Last-Modified')\n",
    "    \n",
    "    if last_modified_header:\n",
    "        last_modified = datetime.strptime(last_modified_header, '%a, %d %b %Y %H:%M:%S GMT')\n",
    "        print(f\"Data was last modified: {last_modified}\")\n",
    "\n",
    "    # convert data to df \n",
    "    hospital_df = pd.DataFrame(data)\n",
    "    \n",
    "    print(hospital_df)\n",
    "else:\n",
    "    print(f\"Failed to fetch data. Status code: {response.status_code}\")\n",
    "    print(response.text)"
   ]
  },
  {
   "cell_type": "code",
   "execution_count": 3,
   "id": "15fa3a7b",
   "metadata": {
    "ExecuteTime": {
     "end_time": "2024-02-10T15:24:01.384611400Z",
     "start_time": "2024-02-10T15:24:01.342601900Z"
    }
   },
   "outputs": [
    {
     "data": {
      "text/plain": "     hospital_id hospital_org_id        ein  \\\n0              1               1  630307951   \n1              2               2  630578923   \n2              3               3  630312913   \n3              4               4  630459034   \n4              5               5  581973570   \n...          ...             ...        ...   \n3486        3487            2647  813040663   \n3487        3488            2304  741109643   \n3488        3489            2648  831954982   \n3489        3490            2302  750800661   \n3490        3491            2649  831869297   \n\n                                     name  \\\n0                Mizell Memorial Hospital   \n1                        St Vincents East   \n2           Shelby Baptist Medical Center   \n3            Callahan Eye Foundation Hosp   \n4                 Cherokee Medical Center   \n...                                   ...   \n3486          Bsw Medical Center - Austin   \n3487              Ascension Seton Bastrop   \n3488         Texas Health Hospital Frisco   \n3489  Methodist Midlothian Medical Center   \n3490      Texas Health Hospital Mansfield   \n\n                                  name_cr              street_address  \\\n0                Mizell Memorial Hospital             702 Main Street   \n1                        St Vincents East  50 Medical Park Drive East   \n2           Shelby Baptist Medical Center     1000 First Street North   \n3            Callahan Eye Foundation Hosp   1720 University Boulevard   \n4                 Cherokee Medical Center         400 Northwood Drive   \n...                                   ...                         ...   \n3486          Bsw Medical Center - Austin               5245 W Us 290   \n3487              Ascension Seton Bastrop            630 Highway 71 W   \n3488         Texas Health Hospital Frisco      12400 N Dallas Parkway   \n3489  Methodist Midlothian Medical Center          1201 E Highway 287   \n3490      Texas Health Hospital Mansfield         2300 Lone Star Road   \n\n            city state zip_code fips_state_and_county_code hospital_bed_count  \\\n0            Opp    AL    36462                      01039                 99   \n1     Birmingham    AL    35235                      01073                362   \n2      Alabaster    AL    35007                      01117                252   \n3     Birmingham    AL    35233                      01073                106   \n4         Centre    AL    35960                      01019                 60   \n...          ...   ...      ...                        ...                ...   \n3486      Austin    TX    78735                      48453                 16   \n3487     Bastrop    TX    78602                      48021                  7   \n3488      Frisco    TX    75033                      48121                 63   \n3489  Midlothian    TX    76065                      48139                 46   \n3490   Mansfield    TX    76063                      48439                 59   \n\n     chrch_affl_f urban_location_f children_hospital_f  \\\n0               N                N                   N   \n1               N                Y                   N   \n2               N                Y                   N   \n3               N                Y                   N   \n4               N                N                   N   \n...           ...              ...                 ...   \n3486            N                Y                   N   \n3487            N                Y                   N   \n3488            N                Y                   N   \n3489            N                Y                   N   \n3490            N                Y                   N   \n\n     memb_counc_teach_hosps_f medicare_provider_number            county  \\\n0                           N                   010007  Covington County   \n1                           Y                   010011  Jefferson County   \n2                           N                   010016     Shelby County   \n3                           Y                   010018  Jefferson County   \n4                           N                   010022   Cherokee County   \n...                       ...                      ...               ...   \n3486                        N                   670136     Travis County   \n3487                        N                   670143    Bastrop County   \n3488                        N                   670260     Denton County   \n3489                        N                   670300      Ellis County   \n3490                        N                   670309    Tarrant County   \n\n     hospital_bed_size         updated_dt  \n0            <100 beds  November 20, 2023  \n1            >299 beds  November 20, 2023  \n2         100-299 beds  November 20, 2023  \n3         100-299 beds  November 20, 2023  \n4            <100 beds  November 20, 2023  \n...                ...                ...  \n3486         <100 beds  November 20, 2023  \n3487         <100 beds  November 20, 2023  \n3488         <100 beds  November 20, 2023  \n3489         <100 beds  November 20, 2023  \n3490         <100 beds  November 20, 2023  \n\n[3491 rows x 19 columns]",
      "text/html": "<div>\n<style scoped>\n    .dataframe tbody tr th:only-of-type {\n        vertical-align: middle;\n    }\n\n    .dataframe tbody tr th {\n        vertical-align: top;\n    }\n\n    .dataframe thead th {\n        text-align: right;\n    }\n</style>\n<table border=\"1\" class=\"dataframe\">\n  <thead>\n    <tr style=\"text-align: right;\">\n      <th></th>\n      <th>hospital_id</th>\n      <th>hospital_org_id</th>\n      <th>ein</th>\n      <th>name</th>\n      <th>name_cr</th>\n      <th>street_address</th>\n      <th>city</th>\n      <th>state</th>\n      <th>zip_code</th>\n      <th>fips_state_and_county_code</th>\n      <th>hospital_bed_count</th>\n      <th>chrch_affl_f</th>\n      <th>urban_location_f</th>\n      <th>children_hospital_f</th>\n      <th>memb_counc_teach_hosps_f</th>\n      <th>medicare_provider_number</th>\n      <th>county</th>\n      <th>hospital_bed_size</th>\n      <th>updated_dt</th>\n    </tr>\n  </thead>\n  <tbody>\n    <tr>\n      <th>0</th>\n      <td>1</td>\n      <td>1</td>\n      <td>630307951</td>\n      <td>Mizell Memorial Hospital</td>\n      <td>Mizell Memorial Hospital</td>\n      <td>702 Main Street</td>\n      <td>Opp</td>\n      <td>AL</td>\n      <td>36462</td>\n      <td>01039</td>\n      <td>99</td>\n      <td>N</td>\n      <td>N</td>\n      <td>N</td>\n      <td>N</td>\n      <td>010007</td>\n      <td>Covington County</td>\n      <td>&lt;100 beds</td>\n      <td>November 20, 2023</td>\n    </tr>\n    <tr>\n      <th>1</th>\n      <td>2</td>\n      <td>2</td>\n      <td>630578923</td>\n      <td>St Vincents East</td>\n      <td>St Vincents East</td>\n      <td>50 Medical Park Drive East</td>\n      <td>Birmingham</td>\n      <td>AL</td>\n      <td>35235</td>\n      <td>01073</td>\n      <td>362</td>\n      <td>N</td>\n      <td>Y</td>\n      <td>N</td>\n      <td>Y</td>\n      <td>010011</td>\n      <td>Jefferson County</td>\n      <td>&gt;299 beds</td>\n      <td>November 20, 2023</td>\n    </tr>\n    <tr>\n      <th>2</th>\n      <td>3</td>\n      <td>3</td>\n      <td>630312913</td>\n      <td>Shelby Baptist Medical Center</td>\n      <td>Shelby Baptist Medical Center</td>\n      <td>1000 First Street North</td>\n      <td>Alabaster</td>\n      <td>AL</td>\n      <td>35007</td>\n      <td>01117</td>\n      <td>252</td>\n      <td>N</td>\n      <td>Y</td>\n      <td>N</td>\n      <td>N</td>\n      <td>010016</td>\n      <td>Shelby County</td>\n      <td>100-299 beds</td>\n      <td>November 20, 2023</td>\n    </tr>\n    <tr>\n      <th>3</th>\n      <td>4</td>\n      <td>4</td>\n      <td>630459034</td>\n      <td>Callahan Eye Foundation Hosp</td>\n      <td>Callahan Eye Foundation Hosp</td>\n      <td>1720 University Boulevard</td>\n      <td>Birmingham</td>\n      <td>AL</td>\n      <td>35233</td>\n      <td>01073</td>\n      <td>106</td>\n      <td>N</td>\n      <td>Y</td>\n      <td>N</td>\n      <td>Y</td>\n      <td>010018</td>\n      <td>Jefferson County</td>\n      <td>100-299 beds</td>\n      <td>November 20, 2023</td>\n    </tr>\n    <tr>\n      <th>4</th>\n      <td>5</td>\n      <td>5</td>\n      <td>581973570</td>\n      <td>Cherokee Medical Center</td>\n      <td>Cherokee Medical Center</td>\n      <td>400 Northwood Drive</td>\n      <td>Centre</td>\n      <td>AL</td>\n      <td>35960</td>\n      <td>01019</td>\n      <td>60</td>\n      <td>N</td>\n      <td>N</td>\n      <td>N</td>\n      <td>N</td>\n      <td>010022</td>\n      <td>Cherokee County</td>\n      <td>&lt;100 beds</td>\n      <td>November 20, 2023</td>\n    </tr>\n    <tr>\n      <th>...</th>\n      <td>...</td>\n      <td>...</td>\n      <td>...</td>\n      <td>...</td>\n      <td>...</td>\n      <td>...</td>\n      <td>...</td>\n      <td>...</td>\n      <td>...</td>\n      <td>...</td>\n      <td>...</td>\n      <td>...</td>\n      <td>...</td>\n      <td>...</td>\n      <td>...</td>\n      <td>...</td>\n      <td>...</td>\n      <td>...</td>\n      <td>...</td>\n    </tr>\n    <tr>\n      <th>3486</th>\n      <td>3487</td>\n      <td>2647</td>\n      <td>813040663</td>\n      <td>Bsw Medical Center - Austin</td>\n      <td>Bsw Medical Center - Austin</td>\n      <td>5245 W Us 290</td>\n      <td>Austin</td>\n      <td>TX</td>\n      <td>78735</td>\n      <td>48453</td>\n      <td>16</td>\n      <td>N</td>\n      <td>Y</td>\n      <td>N</td>\n      <td>N</td>\n      <td>670136</td>\n      <td>Travis County</td>\n      <td>&lt;100 beds</td>\n      <td>November 20, 2023</td>\n    </tr>\n    <tr>\n      <th>3487</th>\n      <td>3488</td>\n      <td>2304</td>\n      <td>741109643</td>\n      <td>Ascension Seton Bastrop</td>\n      <td>Ascension Seton Bastrop</td>\n      <td>630 Highway 71 W</td>\n      <td>Bastrop</td>\n      <td>TX</td>\n      <td>78602</td>\n      <td>48021</td>\n      <td>7</td>\n      <td>N</td>\n      <td>Y</td>\n      <td>N</td>\n      <td>N</td>\n      <td>670143</td>\n      <td>Bastrop County</td>\n      <td>&lt;100 beds</td>\n      <td>November 20, 2023</td>\n    </tr>\n    <tr>\n      <th>3488</th>\n      <td>3489</td>\n      <td>2648</td>\n      <td>831954982</td>\n      <td>Texas Health Hospital Frisco</td>\n      <td>Texas Health Hospital Frisco</td>\n      <td>12400 N Dallas Parkway</td>\n      <td>Frisco</td>\n      <td>TX</td>\n      <td>75033</td>\n      <td>48121</td>\n      <td>63</td>\n      <td>N</td>\n      <td>Y</td>\n      <td>N</td>\n      <td>N</td>\n      <td>670260</td>\n      <td>Denton County</td>\n      <td>&lt;100 beds</td>\n      <td>November 20, 2023</td>\n    </tr>\n    <tr>\n      <th>3489</th>\n      <td>3490</td>\n      <td>2302</td>\n      <td>750800661</td>\n      <td>Methodist Midlothian Medical Center</td>\n      <td>Methodist Midlothian Medical Center</td>\n      <td>1201 E Highway 287</td>\n      <td>Midlothian</td>\n      <td>TX</td>\n      <td>76065</td>\n      <td>48139</td>\n      <td>46</td>\n      <td>N</td>\n      <td>Y</td>\n      <td>N</td>\n      <td>N</td>\n      <td>670300</td>\n      <td>Ellis County</td>\n      <td>&lt;100 beds</td>\n      <td>November 20, 2023</td>\n    </tr>\n    <tr>\n      <th>3490</th>\n      <td>3491</td>\n      <td>2649</td>\n      <td>831869297</td>\n      <td>Texas Health Hospital Mansfield</td>\n      <td>Texas Health Hospital Mansfield</td>\n      <td>2300 Lone Star Road</td>\n      <td>Mansfield</td>\n      <td>TX</td>\n      <td>76063</td>\n      <td>48439</td>\n      <td>59</td>\n      <td>N</td>\n      <td>Y</td>\n      <td>N</td>\n      <td>N</td>\n      <td>670309</td>\n      <td>Tarrant County</td>\n      <td>&lt;100 beds</td>\n      <td>November 20, 2023</td>\n    </tr>\n  </tbody>\n</table>\n<p>3491 rows × 19 columns</p>\n</div>"
     },
     "execution_count": 3,
     "metadata": {},
     "output_type": "execute_result"
    }
   ],
   "source": [
    "hospital_df # print df "
   ]
  },
  {
   "cell_type": "code",
   "execution_count": 4,
   "id": "a6d2dd36",
   "metadata": {
    "ExecuteTime": {
     "end_time": "2024-02-10T15:24:01.413617300Z",
     "start_time": "2024-02-10T15:24:01.372609400Z"
    }
   },
   "outputs": [
    {
     "data": {
      "text/plain": "     hospital_id hospital_org_id        ein  \\\n2835        2836            2231  460225414   \n1049        1050             787  480663711   \n49            50              37  860137567   \n673          674             451  900790361   \n3172        3173            1757  541547408   \n90            91              47  815009488   \n0              1               1  630307951   \n1015        1016             756  391902797   \n1461        1462            1133  382377821   \n1259        1260             938  010238552   \n\n                                      name  \\\n2835             St Michaels Hospital  Inc   \n1049                   Mercy Hospital  Inc   \n49                   Tucson Medical Center   \n673   Wesley Woods Center Of Emory Univers   \n3172  Sentara Williamsburg Regional Medica   \n90                Arizona General Hospital   \n0                 Mizell Memorial Hospital   \n1015    Manning Regional Healthcare Center   \n1461          Genesys Regional Medical Ctr   \n1259                         Lincolnhealth   \n\n                                   name_cr        street_address  \\\n2835             St Michaels Hospital  Inc  410 West 16th Avenue   \n1049                   Mercy Hospital  Inc            218 E Pack   \n49                   Tucson Medical Center     5301 E Grant Road   \n673   Wesley Woods Center Of Emory Univers  1821 Clifton Road Ne   \n3172  Sentara Williamsburg Regional Medica    100 Sentara Circle   \n90                Arizona General Hospital      9130 E Elliot Rd   \n0                 Mizell Memorial Hospital       702 Main Street   \n1015    Manning Regional Healthcare Center       410 Main Street   \n1461          Genesys Regional Medical Ctr     1 Genesys Parkway   \n1259                         Lincolnhealth     6 St Andrews Lane   \n\n                 city state zip_code fips_state_and_county_code  \\\n2835          Tyndall    SD    57066                      46009   \n1049       Moundridge    KS    67107                      20113   \n49             Tucson    AZ    85712                      04019   \n673           Atlanta    GA    30329                      13089   \n3172     Williamsburg    VA    23188                      51095   \n90               Mesa    AZ    85212                      04013   \n0                 Opp    AL    36462                      01039   \n1015          Manning    IA    51455                      19027   \n1461      Grand Blanc    MI    48439                      26049   \n1259  Boothbay Harbor    ME    04538                      23015   \n\n     hospital_bed_count chrch_affl_f urban_location_f children_hospital_f  \\\n2835                 25            N                N                   N   \n1049                 21            Y                N                   N   \n49                  596            N                Y                   N   \n673                  82            N                Y                   N   \n3172                145            N                Y                   N   \n90                   50            N                Y                   N   \n0                    99            N                N                   N   \n1015                 17            N                N                   N   \n1461                410            Y                Y                   N   \n1259                 25            N                N                   N   \n\n     memb_counc_teach_hosps_f medicare_provider_number             county  \\\n2835                        Y                   431327   Bon Homme County   \n1049                        N                   170075   McPherson County   \n49                          Y                   030006        Pima County   \n673                         Y                   110203      DeKalb County   \n3172                        N                   490066  James City County   \n90                          N                   030139    Maricopa County   \n0                           N                   010007   Covington County   \n1015                        N                   161332     Carroll County   \n1461                        Y                   230197     Genesee County   \n1259                        Y                   201302     Lincoln County   \n\n     hospital_bed_size         updated_dt  \n2835         <100 beds  November 20, 2023  \n1049         <100 beds  November 20, 2023  \n49           >299 beds  November 20, 2023  \n673          <100 beds  November 20, 2023  \n3172      100-299 beds  November 20, 2023  \n90           <100 beds  November 20, 2023  \n0            <100 beds  November 20, 2023  \n1015         <100 beds  November 20, 2023  \n1461         >299 beds  November 20, 2023  \n1259         <100 beds  November 20, 2023  ",
      "text/html": "<div>\n<style scoped>\n    .dataframe tbody tr th:only-of-type {\n        vertical-align: middle;\n    }\n\n    .dataframe tbody tr th {\n        vertical-align: top;\n    }\n\n    .dataframe thead th {\n        text-align: right;\n    }\n</style>\n<table border=\"1\" class=\"dataframe\">\n  <thead>\n    <tr style=\"text-align: right;\">\n      <th></th>\n      <th>hospital_id</th>\n      <th>hospital_org_id</th>\n      <th>ein</th>\n      <th>name</th>\n      <th>name_cr</th>\n      <th>street_address</th>\n      <th>city</th>\n      <th>state</th>\n      <th>zip_code</th>\n      <th>fips_state_and_county_code</th>\n      <th>hospital_bed_count</th>\n      <th>chrch_affl_f</th>\n      <th>urban_location_f</th>\n      <th>children_hospital_f</th>\n      <th>memb_counc_teach_hosps_f</th>\n      <th>medicare_provider_number</th>\n      <th>county</th>\n      <th>hospital_bed_size</th>\n      <th>updated_dt</th>\n    </tr>\n  </thead>\n  <tbody>\n    <tr>\n      <th>2835</th>\n      <td>2836</td>\n      <td>2231</td>\n      <td>460225414</td>\n      <td>St Michaels Hospital  Inc</td>\n      <td>St Michaels Hospital  Inc</td>\n      <td>410 West 16th Avenue</td>\n      <td>Tyndall</td>\n      <td>SD</td>\n      <td>57066</td>\n      <td>46009</td>\n      <td>25</td>\n      <td>N</td>\n      <td>N</td>\n      <td>N</td>\n      <td>Y</td>\n      <td>431327</td>\n      <td>Bon Homme County</td>\n      <td>&lt;100 beds</td>\n      <td>November 20, 2023</td>\n    </tr>\n    <tr>\n      <th>1049</th>\n      <td>1050</td>\n      <td>787</td>\n      <td>480663711</td>\n      <td>Mercy Hospital  Inc</td>\n      <td>Mercy Hospital  Inc</td>\n      <td>218 E Pack</td>\n      <td>Moundridge</td>\n      <td>KS</td>\n      <td>67107</td>\n      <td>20113</td>\n      <td>21</td>\n      <td>Y</td>\n      <td>N</td>\n      <td>N</td>\n      <td>N</td>\n      <td>170075</td>\n      <td>McPherson County</td>\n      <td>&lt;100 beds</td>\n      <td>November 20, 2023</td>\n    </tr>\n    <tr>\n      <th>49</th>\n      <td>50</td>\n      <td>37</td>\n      <td>860137567</td>\n      <td>Tucson Medical Center</td>\n      <td>Tucson Medical Center</td>\n      <td>5301 E Grant Road</td>\n      <td>Tucson</td>\n      <td>AZ</td>\n      <td>85712</td>\n      <td>04019</td>\n      <td>596</td>\n      <td>N</td>\n      <td>Y</td>\n      <td>N</td>\n      <td>Y</td>\n      <td>030006</td>\n      <td>Pima County</td>\n      <td>&gt;299 beds</td>\n      <td>November 20, 2023</td>\n    </tr>\n    <tr>\n      <th>673</th>\n      <td>674</td>\n      <td>451</td>\n      <td>900790361</td>\n      <td>Wesley Woods Center Of Emory Univers</td>\n      <td>Wesley Woods Center Of Emory Univers</td>\n      <td>1821 Clifton Road Ne</td>\n      <td>Atlanta</td>\n      <td>GA</td>\n      <td>30329</td>\n      <td>13089</td>\n      <td>82</td>\n      <td>N</td>\n      <td>Y</td>\n      <td>N</td>\n      <td>Y</td>\n      <td>110203</td>\n      <td>DeKalb County</td>\n      <td>&lt;100 beds</td>\n      <td>November 20, 2023</td>\n    </tr>\n    <tr>\n      <th>3172</th>\n      <td>3173</td>\n      <td>1757</td>\n      <td>541547408</td>\n      <td>Sentara Williamsburg Regional Medica</td>\n      <td>Sentara Williamsburg Regional Medica</td>\n      <td>100 Sentara Circle</td>\n      <td>Williamsburg</td>\n      <td>VA</td>\n      <td>23188</td>\n      <td>51095</td>\n      <td>145</td>\n      <td>N</td>\n      <td>Y</td>\n      <td>N</td>\n      <td>N</td>\n      <td>490066</td>\n      <td>James City County</td>\n      <td>100-299 beds</td>\n      <td>November 20, 2023</td>\n    </tr>\n    <tr>\n      <th>90</th>\n      <td>91</td>\n      <td>47</td>\n      <td>815009488</td>\n      <td>Arizona General Hospital</td>\n      <td>Arizona General Hospital</td>\n      <td>9130 E Elliot Rd</td>\n      <td>Mesa</td>\n      <td>AZ</td>\n      <td>85212</td>\n      <td>04013</td>\n      <td>50</td>\n      <td>N</td>\n      <td>Y</td>\n      <td>N</td>\n      <td>N</td>\n      <td>030139</td>\n      <td>Maricopa County</td>\n      <td>&lt;100 beds</td>\n      <td>November 20, 2023</td>\n    </tr>\n    <tr>\n      <th>0</th>\n      <td>1</td>\n      <td>1</td>\n      <td>630307951</td>\n      <td>Mizell Memorial Hospital</td>\n      <td>Mizell Memorial Hospital</td>\n      <td>702 Main Street</td>\n      <td>Opp</td>\n      <td>AL</td>\n      <td>36462</td>\n      <td>01039</td>\n      <td>99</td>\n      <td>N</td>\n      <td>N</td>\n      <td>N</td>\n      <td>N</td>\n      <td>010007</td>\n      <td>Covington County</td>\n      <td>&lt;100 beds</td>\n      <td>November 20, 2023</td>\n    </tr>\n    <tr>\n      <th>1015</th>\n      <td>1016</td>\n      <td>756</td>\n      <td>391902797</td>\n      <td>Manning Regional Healthcare Center</td>\n      <td>Manning Regional Healthcare Center</td>\n      <td>410 Main Street</td>\n      <td>Manning</td>\n      <td>IA</td>\n      <td>51455</td>\n      <td>19027</td>\n      <td>17</td>\n      <td>N</td>\n      <td>N</td>\n      <td>N</td>\n      <td>N</td>\n      <td>161332</td>\n      <td>Carroll County</td>\n      <td>&lt;100 beds</td>\n      <td>November 20, 2023</td>\n    </tr>\n    <tr>\n      <th>1461</th>\n      <td>1462</td>\n      <td>1133</td>\n      <td>382377821</td>\n      <td>Genesys Regional Medical Ctr</td>\n      <td>Genesys Regional Medical Ctr</td>\n      <td>1 Genesys Parkway</td>\n      <td>Grand Blanc</td>\n      <td>MI</td>\n      <td>48439</td>\n      <td>26049</td>\n      <td>410</td>\n      <td>Y</td>\n      <td>Y</td>\n      <td>N</td>\n      <td>Y</td>\n      <td>230197</td>\n      <td>Genesee County</td>\n      <td>&gt;299 beds</td>\n      <td>November 20, 2023</td>\n    </tr>\n    <tr>\n      <th>1259</th>\n      <td>1260</td>\n      <td>938</td>\n      <td>010238552</td>\n      <td>Lincolnhealth</td>\n      <td>Lincolnhealth</td>\n      <td>6 St Andrews Lane</td>\n      <td>Boothbay Harbor</td>\n      <td>ME</td>\n      <td>04538</td>\n      <td>23015</td>\n      <td>25</td>\n      <td>N</td>\n      <td>N</td>\n      <td>N</td>\n      <td>Y</td>\n      <td>201302</td>\n      <td>Lincoln County</td>\n      <td>&lt;100 beds</td>\n      <td>November 20, 2023</td>\n    </tr>\n  </tbody>\n</table>\n</div>"
     },
     "execution_count": 4,
     "metadata": {},
     "output_type": "execute_result"
    }
   ],
   "source": [
    "# print 10 random samples from the dataframe \n",
    "hospital_df.sample(10)"
   ]
  },
  {
   "cell_type": "markdown",
   "id": "8e149eca",
   "metadata": {},
   "source": [
    "## Data Inspection"
   ]
  },
  {
   "cell_type": "code",
   "execution_count": 5,
   "id": "8103d4c0",
   "metadata": {
    "ExecuteTime": {
     "end_time": "2024-02-10T15:24:01.465629500Z",
     "start_time": "2024-02-10T15:24:01.405616300Z"
    }
   },
   "outputs": [
    {
     "data": {
      "text/plain": "(3491, 19)"
     },
     "execution_count": 5,
     "metadata": {},
     "output_type": "execute_result"
    }
   ],
   "source": [
    "hospital_df.shape "
   ]
  },
  {
   "cell_type": "code",
   "execution_count": 6,
   "id": "984b5789",
   "metadata": {
    "ExecuteTime": {
     "end_time": "2024-02-10T15:24:01.568652800Z",
     "start_time": "2024-02-10T15:24:01.421620800Z"
    }
   },
   "outputs": [
    {
     "name": "stdout",
     "output_type": "stream",
     "text": [
      "<class 'pandas.core.frame.DataFrame'>\n",
      "RangeIndex: 3491 entries, 0 to 3490\n",
      "Data columns (total 19 columns):\n",
      " #   Column                      Non-Null Count  Dtype \n",
      "---  ------                      --------------  ----- \n",
      " 0   hospital_id                 3491 non-null   object\n",
      " 1   hospital_org_id             3491 non-null   object\n",
      " 2   ein                         3491 non-null   object\n",
      " 3   name                        3491 non-null   object\n",
      " 4   name_cr                     3491 non-null   object\n",
      " 5   street_address              3491 non-null   object\n",
      " 6   city                        3491 non-null   object\n",
      " 7   state                       3491 non-null   object\n",
      " 8   zip_code                    3491 non-null   object\n",
      " 9   fips_state_and_county_code  3491 non-null   object\n",
      " 10  hospital_bed_count          3491 non-null   object\n",
      " 11  chrch_affl_f                3491 non-null   object\n",
      " 12  urban_location_f            3491 non-null   object\n",
      " 13  children_hospital_f         3491 non-null   object\n",
      " 14  memb_counc_teach_hosps_f    3491 non-null   object\n",
      " 15  medicare_provider_number    3491 non-null   object\n",
      " 16  county                      3490 non-null   object\n",
      " 17  hospital_bed_size           3491 non-null   object\n",
      " 18  updated_dt                  3491 non-null   object\n",
      "dtypes: object(19)\n",
      "memory usage: 518.3+ KB\n"
     ]
    }
   ],
   "source": [
    "hospital_df.info() #all variables in df are labeled as object variables"
   ]
  },
  {
   "cell_type": "code",
   "execution_count": 7,
   "id": "4a7e4844",
   "metadata": {
    "ExecuteTime": {
     "end_time": "2024-02-10T15:24:01.570653200Z",
     "start_time": "2024-02-10T15:24:01.453626500Z"
    }
   },
   "outputs": [
    {
     "name": "stdout",
     "output_type": "stream",
     "text": [
      "<class 'pandas.core.frame.DataFrame'>\n",
      "RangeIndex: 3491 entries, 0 to 3490\n",
      "Data columns (total 19 columns):\n",
      " #   Column                      Non-Null Count  Dtype \n",
      "---  ------                      --------------  ----- \n",
      " 0   hospital_id                 3491 non-null   object\n",
      " 1   hospital_org_id             3491 non-null   object\n",
      " 2   ein                         3491 non-null   object\n",
      " 3   name                        3491 non-null   object\n",
      " 4   name_cr                     3491 non-null   object\n",
      " 5   street_address              3491 non-null   object\n",
      " 6   city                        3491 non-null   object\n",
      " 7   state                       3491 non-null   object\n",
      " 8   zip_code                    3491 non-null   object\n",
      " 9   fips_state_and_county_code  3491 non-null   object\n",
      " 10  hospital_bed_count          3491 non-null   int64 \n",
      " 11  chrch_affl_f                3491 non-null   int64 \n",
      " 12  urban_location_f            3491 non-null   int64 \n",
      " 13  children_hospital_f         3491 non-null   int64 \n",
      " 14  memb_counc_teach_hosps_f    3491 non-null   int64 \n",
      " 15  medicare_provider_number    3491 non-null   int64 \n",
      " 16  county                      3490 non-null   object\n",
      " 17  hospital_bed_size           3491 non-null   object\n",
      " 18  updated_dt                  3491 non-null   object\n",
      "dtypes: int64(6), object(13)\n",
      "memory usage: 518.3+ KB\n"
     ]
    }
   ],
   "source": [
    "columns_to_convert = ['hospital_bed_count', 'medicare_provider_number']\n",
    "binary_columns = ['chrch_affl_f', 'urban_location_f', 'children_hospital_f', 'memb_counc_teach_hosps_f']\n",
    "\n",
    "# iterate through the list of columns\n",
    "for col in columns_to_convert:\n",
    "    # convert to numeric, coerce errors to NaN\n",
    "    hospital_df[col] = pd.to_numeric(hospital_df[col], errors='coerce')\n",
    "    \n",
    "for col in binary_columns:\n",
    "    # Map 'N' to 0 and 'Y' to 1\n",
    "    hospital_df[col] = hospital_df[col].map({'N': 0, 'Y': 1})\n",
    "\n",
    "# check the data types after conversion\n",
    "hospital_df.info()\n"
   ]
  },
  {
   "cell_type": "code",
   "execution_count": 8,
   "id": "2acf36ac",
   "metadata": {
    "ExecuteTime": {
     "end_time": "2024-02-10T15:24:01.571653300Z",
     "start_time": "2024-02-10T15:24:01.484633500Z"
    }
   },
   "outputs": [
    {
     "data": {
      "text/plain": "hospital_id                   3491\nhospital_org_id               2377\nein                           2377\nname                          3330\nname_cr                       3072\nstreet_address                3439\ncity                          2192\nstate                           51\nzip_code                      3200\nfips_state_and_county_code    1751\nhospital_bed_count             696\nchrch_affl_f                     2\nurban_location_f                 2\nchildren_hospital_f              2\nmemb_counc_teach_hosps_f         2\nmedicare_provider_number      3491\ncounty                        1195\nhospital_bed_size                3\nupdated_dt                       1\ndtype: int64"
     },
     "execution_count": 8,
     "metadata": {},
     "output_type": "execute_result"
    }
   ],
   "source": [
    "hospital_df.nunique() #unique variables "
   ]
  },
  {
   "cell_type": "code",
   "execution_count": 9,
   "id": "f0aac437",
   "metadata": {
    "ExecuteTime": {
     "end_time": "2024-02-10T15:24:01.572653600Z",
     "start_time": "2024-02-10T15:24:01.517642400Z"
    }
   },
   "outputs": [
    {
     "data": {
      "text/plain": "hospital_id                   0\nhospital_org_id               0\nein                           0\nname                          0\nname_cr                       0\nstreet_address                0\ncity                          0\nstate                         0\nzip_code                      0\nfips_state_and_county_code    0\nhospital_bed_count            0\nchrch_affl_f                  0\nurban_location_f              0\nchildren_hospital_f           0\nmemb_counc_teach_hosps_f      0\nmedicare_provider_number      0\ncounty                        1\nhospital_bed_size             0\nupdated_dt                    0\ndtype: int64"
     },
     "execution_count": 9,
     "metadata": {},
     "output_type": "execute_result"
    }
   ],
   "source": [
    "hospital_df.isnull().sum() #null values "
   ]
  },
  {
   "cell_type": "code",
   "execution_count": 10,
   "id": "2449df19",
   "metadata": {
    "ExecuteTime": {
     "end_time": "2024-02-10T15:24:01.622665500Z",
     "start_time": "2024-02-10T15:24:01.533645600Z"
    }
   },
   "outputs": [
    {
     "name": "stdout",
     "output_type": "stream",
     "text": [
      "Duplicate Rows except first occurrence:\n",
      "Empty DataFrame\n",
      "Columns: [hospital_id, hospital_org_id, ein, name, name_cr, street_address, city, state, zip_code, fips_state_and_county_code, hospital_bed_count, chrch_affl_f, urban_location_f, children_hospital_f, memb_counc_teach_hosps_f, medicare_provider_number, county, hospital_bed_size, updated_dt]\n",
      "Index: []\n",
      "No duplicates found in the DataFrame.\n"
     ]
    }
   ],
   "source": [
    "duplicate_rows = hospital_df[hospital_df.duplicated()]\n",
    "\n",
    "print(\"Duplicate Rows except first occurrence:\")\n",
    "print(duplicate_rows)\n",
    "\n",
    "if hospital_df.duplicated().any():\n",
    "    print(\"Duplicates exist in the DataFrame.\")\n",
    "else:\n",
    "    print(\"No duplicates found in the DataFrame.\")"
   ]
  },
  {
   "cell_type": "markdown",
   "id": "964f532e",
   "metadata": {},
   "source": [
    "## Table Manipulation"
   ]
  },
  {
   "cell_type": "code",
   "execution_count": 11,
   "id": "e3107bd3",
   "metadata": {
    "ExecuteTime": {
     "end_time": "2024-02-10T15:24:01.637668200Z",
     "start_time": "2024-02-10T15:24:01.564651800Z"
    }
   },
   "outputs": [
    {
     "data": {
      "text/plain": "     hospital_id hospital_org_id                                 name  \\\n0              1               1             Mizell Memorial Hospital   \n1              2               2                     St Vincents East   \n2              3               3        Shelby Baptist Medical Center   \n3              4               4         Callahan Eye Foundation Hosp   \n4              5               5              Cherokee Medical Center   \n...          ...             ...                                  ...   \n3486        3487            2647          Bsw Medical Center - Austin   \n3487        3488            2304              Ascension Seton Bastrop   \n3488        3489            2648         Texas Health Hospital Frisco   \n3489        3490            2302  Methodist Midlothian Medical Center   \n3490        3491            2649      Texas Health Hospital Mansfield   \n\n            ein  medicare_provider_number  address_id  capacity_id  \\\n0     630307951                     10007         609            2   \n1     630578923                     10011        1075          370   \n2     630312913                     10016        3323          490   \n3     630459034                     10018        2440          680   \n4     581973570                     10022        1337          155   \n...         ...                       ...         ...          ...   \n3486  813040663                    670136         949          587   \n3487  741109643                    670143         718           63   \n3488  831954982                    670260        2901          135   \n3489  750800661                    670300        2967          264   \n3490  831869297                    670309        2007          163   \n\n             updated_dt  \n0     November 20, 2023  \n1     November 20, 2023  \n2     November 20, 2023  \n3     November 20, 2023  \n4     November 20, 2023  \n...                 ...  \n3486  November 20, 2023  \n3487  November 20, 2023  \n3488  November 20, 2023  \n3489  November 20, 2023  \n3490  November 20, 2023  \n\n[3491 rows x 8 columns]",
      "text/html": "<div>\n<style scoped>\n    .dataframe tbody tr th:only-of-type {\n        vertical-align: middle;\n    }\n\n    .dataframe tbody tr th {\n        vertical-align: top;\n    }\n\n    .dataframe thead th {\n        text-align: right;\n    }\n</style>\n<table border=\"1\" class=\"dataframe\">\n  <thead>\n    <tr style=\"text-align: right;\">\n      <th></th>\n      <th>hospital_id</th>\n      <th>hospital_org_id</th>\n      <th>name</th>\n      <th>ein</th>\n      <th>medicare_provider_number</th>\n      <th>address_id</th>\n      <th>capacity_id</th>\n      <th>updated_dt</th>\n    </tr>\n  </thead>\n  <tbody>\n    <tr>\n      <th>0</th>\n      <td>1</td>\n      <td>1</td>\n      <td>Mizell Memorial Hospital</td>\n      <td>630307951</td>\n      <td>10007</td>\n      <td>609</td>\n      <td>2</td>\n      <td>November 20, 2023</td>\n    </tr>\n    <tr>\n      <th>1</th>\n      <td>2</td>\n      <td>2</td>\n      <td>St Vincents East</td>\n      <td>630578923</td>\n      <td>10011</td>\n      <td>1075</td>\n      <td>370</td>\n      <td>November 20, 2023</td>\n    </tr>\n    <tr>\n      <th>2</th>\n      <td>3</td>\n      <td>3</td>\n      <td>Shelby Baptist Medical Center</td>\n      <td>630312913</td>\n      <td>10016</td>\n      <td>3323</td>\n      <td>490</td>\n      <td>November 20, 2023</td>\n    </tr>\n    <tr>\n      <th>3</th>\n      <td>4</td>\n      <td>4</td>\n      <td>Callahan Eye Foundation Hosp</td>\n      <td>630459034</td>\n      <td>10018</td>\n      <td>2440</td>\n      <td>680</td>\n      <td>November 20, 2023</td>\n    </tr>\n    <tr>\n      <th>4</th>\n      <td>5</td>\n      <td>5</td>\n      <td>Cherokee Medical Center</td>\n      <td>581973570</td>\n      <td>10022</td>\n      <td>1337</td>\n      <td>155</td>\n      <td>November 20, 2023</td>\n    </tr>\n    <tr>\n      <th>...</th>\n      <td>...</td>\n      <td>...</td>\n      <td>...</td>\n      <td>...</td>\n      <td>...</td>\n      <td>...</td>\n      <td>...</td>\n      <td>...</td>\n    </tr>\n    <tr>\n      <th>3486</th>\n      <td>3487</td>\n      <td>2647</td>\n      <td>Bsw Medical Center - Austin</td>\n      <td>813040663</td>\n      <td>670136</td>\n      <td>949</td>\n      <td>587</td>\n      <td>November 20, 2023</td>\n    </tr>\n    <tr>\n      <th>3487</th>\n      <td>3488</td>\n      <td>2304</td>\n      <td>Ascension Seton Bastrop</td>\n      <td>741109643</td>\n      <td>670143</td>\n      <td>718</td>\n      <td>63</td>\n      <td>November 20, 2023</td>\n    </tr>\n    <tr>\n      <th>3488</th>\n      <td>3489</td>\n      <td>2648</td>\n      <td>Texas Health Hospital Frisco</td>\n      <td>831954982</td>\n      <td>670260</td>\n      <td>2901</td>\n      <td>135</td>\n      <td>November 20, 2023</td>\n    </tr>\n    <tr>\n      <th>3489</th>\n      <td>3490</td>\n      <td>2302</td>\n      <td>Methodist Midlothian Medical Center</td>\n      <td>750800661</td>\n      <td>670300</td>\n      <td>2967</td>\n      <td>264</td>\n      <td>November 20, 2023</td>\n    </tr>\n    <tr>\n      <th>3490</th>\n      <td>3491</td>\n      <td>2649</td>\n      <td>Texas Health Hospital Mansfield</td>\n      <td>831869297</td>\n      <td>670309</td>\n      <td>2007</td>\n      <td>163</td>\n      <td>November 20, 2023</td>\n    </tr>\n  </tbody>\n</table>\n<p>3491 rows × 8 columns</p>\n</div>"
     },
     "execution_count": 11,
     "metadata": {},
     "output_type": "execute_result"
    }
   ],
   "source": [
    "# Hospital Information Table\n",
    "\n",
    "# create unique ID for address\n",
    "hospital_df['address_id'] = hospital_df['street_address'] + '_' + hospital_df['city'] + '_' + hospital_df['state'] + '_' + hospital_df['zip_code'] + '_' + hospital_df['fips_state_and_county_code']\n",
    "hospital_df['address_id'] = hospital_df['address_id'].rank(method='dense', ascending=False).astype(int)\n",
    "\n",
    "#create unique ID for hospital capacity\n",
    "hospital_df['capacity_id'] = hospital_df['hospital_bed_count'].astype(str) + '_' + hospital_df['hospital_bed_size']\n",
    "hospital_df['capacity_id'] = hospital_df['capacity_id'].rank(method='dense', ascending=False).astype(int)\n",
    "\n",
    "# create hospital information table\n",
    "hospital = hospital_df[['hospital_id', 'hospital_org_id', 'name', 'ein', 'medicare_provider_number', 'address_id', 'capacity_id', 'updated_dt']]\n",
    "hospital"
   ]
  },
  {
   "cell_type": "code",
   "execution_count": 12,
   "id": "8a8f478d",
   "metadata": {
    "ExecuteTime": {
     "end_time": "2024-02-10T15:24:01.640669600Z",
     "start_time": "2024-02-10T15:24:01.616664300Z"
    }
   },
   "outputs": [
    {
     "data": {
      "text/plain": "     hospital_id  chrch_affl_f         updated_dt\n0              1             0  November 20, 2023\n1              2             0  November 20, 2023\n2              3             0  November 20, 2023\n3              4             0  November 20, 2023\n4              5             0  November 20, 2023\n...          ...           ...                ...\n3486        3487             0  November 20, 2023\n3487        3488             0  November 20, 2023\n3488        3489             0  November 20, 2023\n3489        3490             0  November 20, 2023\n3490        3491             0  November 20, 2023\n\n[3491 rows x 3 columns]",
      "text/html": "<div>\n<style scoped>\n    .dataframe tbody tr th:only-of-type {\n        vertical-align: middle;\n    }\n\n    .dataframe tbody tr th {\n        vertical-align: top;\n    }\n\n    .dataframe thead th {\n        text-align: right;\n    }\n</style>\n<table border=\"1\" class=\"dataframe\">\n  <thead>\n    <tr style=\"text-align: right;\">\n      <th></th>\n      <th>hospital_id</th>\n      <th>chrch_affl_f</th>\n      <th>updated_dt</th>\n    </tr>\n  </thead>\n  <tbody>\n    <tr>\n      <th>0</th>\n      <td>1</td>\n      <td>0</td>\n      <td>November 20, 2023</td>\n    </tr>\n    <tr>\n      <th>1</th>\n      <td>2</td>\n      <td>0</td>\n      <td>November 20, 2023</td>\n    </tr>\n    <tr>\n      <th>2</th>\n      <td>3</td>\n      <td>0</td>\n      <td>November 20, 2023</td>\n    </tr>\n    <tr>\n      <th>3</th>\n      <td>4</td>\n      <td>0</td>\n      <td>November 20, 2023</td>\n    </tr>\n    <tr>\n      <th>4</th>\n      <td>5</td>\n      <td>0</td>\n      <td>November 20, 2023</td>\n    </tr>\n    <tr>\n      <th>...</th>\n      <td>...</td>\n      <td>...</td>\n      <td>...</td>\n    </tr>\n    <tr>\n      <th>3486</th>\n      <td>3487</td>\n      <td>0</td>\n      <td>November 20, 2023</td>\n    </tr>\n    <tr>\n      <th>3487</th>\n      <td>3488</td>\n      <td>0</td>\n      <td>November 20, 2023</td>\n    </tr>\n    <tr>\n      <th>3488</th>\n      <td>3489</td>\n      <td>0</td>\n      <td>November 20, 2023</td>\n    </tr>\n    <tr>\n      <th>3489</th>\n      <td>3490</td>\n      <td>0</td>\n      <td>November 20, 2023</td>\n    </tr>\n    <tr>\n      <th>3490</th>\n      <td>3491</td>\n      <td>0</td>\n      <td>November 20, 2023</td>\n    </tr>\n  </tbody>\n</table>\n<p>3491 rows × 3 columns</p>\n</div>"
     },
     "execution_count": 12,
     "metadata": {},
     "output_type": "execute_result"
    }
   ],
   "source": [
    "# Church Affiliation Table\n",
    "church_affiliation = hospital_df[['hospital_id', 'chrch_affl_f', 'updated_dt']]\n",
    "church_affiliation"
   ]
  },
  {
   "cell_type": "code",
   "execution_count": 13,
   "id": "603afe4c",
   "metadata": {
    "ExecuteTime": {
     "end_time": "2024-02-10T15:24:01.705684400Z",
     "start_time": "2024-02-10T15:24:01.629666500Z"
    }
   },
   "outputs": [
    {
     "data": {
      "text/plain": "      capacity_id hospital_bed_size  hospital_bed_count         updated_dt\n0               2         <100 beds                  99  November 20, 2023\n1             370         >299 beds                 362  November 20, 2023\n2             490      100-299 beds                 252  November 20, 2023\n3             680      100-299 beds                 106  November 20, 2023\n4             155         <100 beds                  60  November 20, 2023\n...           ...               ...                 ...                ...\n3486          587         <100 beds                  16  November 20, 2023\n3487           63         <100 beds                   7  November 20, 2023\n3488          135         <100 beds                  63  November 20, 2023\n3489          264         <100 beds                  46  November 20, 2023\n3490          163         <100 beds                  59  November 20, 2023\n\n[3491 rows x 4 columns]",
      "text/html": "<div>\n<style scoped>\n    .dataframe tbody tr th:only-of-type {\n        vertical-align: middle;\n    }\n\n    .dataframe tbody tr th {\n        vertical-align: top;\n    }\n\n    .dataframe thead th {\n        text-align: right;\n    }\n</style>\n<table border=\"1\" class=\"dataframe\">\n  <thead>\n    <tr style=\"text-align: right;\">\n      <th></th>\n      <th>capacity_id</th>\n      <th>hospital_bed_size</th>\n      <th>hospital_bed_count</th>\n      <th>updated_dt</th>\n    </tr>\n  </thead>\n  <tbody>\n    <tr>\n      <th>0</th>\n      <td>2</td>\n      <td>&lt;100 beds</td>\n      <td>99</td>\n      <td>November 20, 2023</td>\n    </tr>\n    <tr>\n      <th>1</th>\n      <td>370</td>\n      <td>&gt;299 beds</td>\n      <td>362</td>\n      <td>November 20, 2023</td>\n    </tr>\n    <tr>\n      <th>2</th>\n      <td>490</td>\n      <td>100-299 beds</td>\n      <td>252</td>\n      <td>November 20, 2023</td>\n    </tr>\n    <tr>\n      <th>3</th>\n      <td>680</td>\n      <td>100-299 beds</td>\n      <td>106</td>\n      <td>November 20, 2023</td>\n    </tr>\n    <tr>\n      <th>4</th>\n      <td>155</td>\n      <td>&lt;100 beds</td>\n      <td>60</td>\n      <td>November 20, 2023</td>\n    </tr>\n    <tr>\n      <th>...</th>\n      <td>...</td>\n      <td>...</td>\n      <td>...</td>\n      <td>...</td>\n    </tr>\n    <tr>\n      <th>3486</th>\n      <td>587</td>\n      <td>&lt;100 beds</td>\n      <td>16</td>\n      <td>November 20, 2023</td>\n    </tr>\n    <tr>\n      <th>3487</th>\n      <td>63</td>\n      <td>&lt;100 beds</td>\n      <td>7</td>\n      <td>November 20, 2023</td>\n    </tr>\n    <tr>\n      <th>3488</th>\n      <td>135</td>\n      <td>&lt;100 beds</td>\n      <td>63</td>\n      <td>November 20, 2023</td>\n    </tr>\n    <tr>\n      <th>3489</th>\n      <td>264</td>\n      <td>&lt;100 beds</td>\n      <td>46</td>\n      <td>November 20, 2023</td>\n    </tr>\n    <tr>\n      <th>3490</th>\n      <td>163</td>\n      <td>&lt;100 beds</td>\n      <td>59</td>\n      <td>November 20, 2023</td>\n    </tr>\n  </tbody>\n</table>\n<p>3491 rows × 4 columns</p>\n</div>"
     },
     "execution_count": 13,
     "metadata": {},
     "output_type": "execute_result"
    }
   ],
   "source": [
    "# Hospital Capacity Table\n",
    "hospital_capacity = hospital_df[['capacity_id', 'hospital_bed_size', 'hospital_bed_count', 'updated_dt']]\n",
    "hospital_capacity"
   ]
  },
  {
   "cell_type": "code",
   "execution_count": 14,
   "id": "9a1633c9",
   "metadata": {
    "ExecuteTime": {
     "end_time": "2024-02-10T15:24:01.707684400Z",
     "start_time": "2024-02-10T15:24:01.645670600Z"
    }
   },
   "outputs": [
    {
     "data": {
      "text/plain": "     hospital_id  children_hospital_f         updated_dt\n0              1                    0  November 20, 2023\n1              2                    0  November 20, 2023\n2              3                    0  November 20, 2023\n3              4                    0  November 20, 2023\n4              5                    0  November 20, 2023\n...          ...                  ...                ...\n3486        3487                    0  November 20, 2023\n3487        3488                    0  November 20, 2023\n3488        3489                    0  November 20, 2023\n3489        3490                    0  November 20, 2023\n3490        3491                    0  November 20, 2023\n\n[3491 rows x 3 columns]",
      "text/html": "<div>\n<style scoped>\n    .dataframe tbody tr th:only-of-type {\n        vertical-align: middle;\n    }\n\n    .dataframe tbody tr th {\n        vertical-align: top;\n    }\n\n    .dataframe thead th {\n        text-align: right;\n    }\n</style>\n<table border=\"1\" class=\"dataframe\">\n  <thead>\n    <tr style=\"text-align: right;\">\n      <th></th>\n      <th>hospital_id</th>\n      <th>children_hospital_f</th>\n      <th>updated_dt</th>\n    </tr>\n  </thead>\n  <tbody>\n    <tr>\n      <th>0</th>\n      <td>1</td>\n      <td>0</td>\n      <td>November 20, 2023</td>\n    </tr>\n    <tr>\n      <th>1</th>\n      <td>2</td>\n      <td>0</td>\n      <td>November 20, 2023</td>\n    </tr>\n    <tr>\n      <th>2</th>\n      <td>3</td>\n      <td>0</td>\n      <td>November 20, 2023</td>\n    </tr>\n    <tr>\n      <th>3</th>\n      <td>4</td>\n      <td>0</td>\n      <td>November 20, 2023</td>\n    </tr>\n    <tr>\n      <th>4</th>\n      <td>5</td>\n      <td>0</td>\n      <td>November 20, 2023</td>\n    </tr>\n    <tr>\n      <th>...</th>\n      <td>...</td>\n      <td>...</td>\n      <td>...</td>\n    </tr>\n    <tr>\n      <th>3486</th>\n      <td>3487</td>\n      <td>0</td>\n      <td>November 20, 2023</td>\n    </tr>\n    <tr>\n      <th>3487</th>\n      <td>3488</td>\n      <td>0</td>\n      <td>November 20, 2023</td>\n    </tr>\n    <tr>\n      <th>3488</th>\n      <td>3489</td>\n      <td>0</td>\n      <td>November 20, 2023</td>\n    </tr>\n    <tr>\n      <th>3489</th>\n      <td>3490</td>\n      <td>0</td>\n      <td>November 20, 2023</td>\n    </tr>\n    <tr>\n      <th>3490</th>\n      <td>3491</td>\n      <td>0</td>\n      <td>November 20, 2023</td>\n    </tr>\n  </tbody>\n</table>\n<p>3491 rows × 3 columns</p>\n</div>"
     },
     "execution_count": 14,
     "metadata": {},
     "output_type": "execute_result"
    }
   ],
   "source": [
    "# Children Hospital Table\n",
    "children_hospital= hospital_df[['hospital_id', 'children_hospital_f', 'updated_dt']]\n",
    "children_hospital"
   ]
  },
  {
   "cell_type": "code",
   "execution_count": 15,
   "id": "c898e0f5",
   "metadata": {
    "ExecuteTime": {
     "end_time": "2024-02-10T15:24:01.805705900Z",
     "start_time": "2024-02-10T15:24:01.661673600Z"
    }
   },
   "outputs": [
    {
     "data": {
      "text/plain": "     hospital_id  memb_counc_teach_hosps_f         updated_dt\n0              1                         0  November 20, 2023\n1              2                         1  November 20, 2023\n2              3                         0  November 20, 2023\n3              4                         1  November 20, 2023\n4              5                         0  November 20, 2023\n...          ...                       ...                ...\n3486        3487                         0  November 20, 2023\n3487        3488                         0  November 20, 2023\n3488        3489                         0  November 20, 2023\n3489        3490                         0  November 20, 2023\n3490        3491                         0  November 20, 2023\n\n[3491 rows x 3 columns]",
      "text/html": "<div>\n<style scoped>\n    .dataframe tbody tr th:only-of-type {\n        vertical-align: middle;\n    }\n\n    .dataframe tbody tr th {\n        vertical-align: top;\n    }\n\n    .dataframe thead th {\n        text-align: right;\n    }\n</style>\n<table border=\"1\" class=\"dataframe\">\n  <thead>\n    <tr style=\"text-align: right;\">\n      <th></th>\n      <th>hospital_id</th>\n      <th>memb_counc_teach_hosps_f</th>\n      <th>updated_dt</th>\n    </tr>\n  </thead>\n  <tbody>\n    <tr>\n      <th>0</th>\n      <td>1</td>\n      <td>0</td>\n      <td>November 20, 2023</td>\n    </tr>\n    <tr>\n      <th>1</th>\n      <td>2</td>\n      <td>1</td>\n      <td>November 20, 2023</td>\n    </tr>\n    <tr>\n      <th>2</th>\n      <td>3</td>\n      <td>0</td>\n      <td>November 20, 2023</td>\n    </tr>\n    <tr>\n      <th>3</th>\n      <td>4</td>\n      <td>1</td>\n      <td>November 20, 2023</td>\n    </tr>\n    <tr>\n      <th>4</th>\n      <td>5</td>\n      <td>0</td>\n      <td>November 20, 2023</td>\n    </tr>\n    <tr>\n      <th>...</th>\n      <td>...</td>\n      <td>...</td>\n      <td>...</td>\n    </tr>\n    <tr>\n      <th>3486</th>\n      <td>3487</td>\n      <td>0</td>\n      <td>November 20, 2023</td>\n    </tr>\n    <tr>\n      <th>3487</th>\n      <td>3488</td>\n      <td>0</td>\n      <td>November 20, 2023</td>\n    </tr>\n    <tr>\n      <th>3488</th>\n      <td>3489</td>\n      <td>0</td>\n      <td>November 20, 2023</td>\n    </tr>\n    <tr>\n      <th>3489</th>\n      <td>3490</td>\n      <td>0</td>\n      <td>November 20, 2023</td>\n    </tr>\n    <tr>\n      <th>3490</th>\n      <td>3491</td>\n      <td>0</td>\n      <td>November 20, 2023</td>\n    </tr>\n  </tbody>\n</table>\n<p>3491 rows × 3 columns</p>\n</div>"
     },
     "execution_count": 15,
     "metadata": {},
     "output_type": "execute_result"
    }
   ],
   "source": [
    "# Teaching Table\n",
    "teaching = hospital_df[['hospital_id', 'memb_counc_teach_hosps_f', 'updated_dt']]\n",
    "teaching"
   ]
  },
  {
   "cell_type": "code",
   "outputs": [
    {
     "data": {
      "text/plain": "      urban_location_f         updated_dt hospital_id\n0                    0  November 20, 2023           1\n1                    1  November 20, 2023           2\n2                    1  November 20, 2023           3\n3                    1  November 20, 2023           4\n4                    0  November 20, 2023           5\n...                ...                ...         ...\n3486                 1  November 20, 2023        3487\n3487                 1  November 20, 2023        3488\n3488                 1  November 20, 2023        3489\n3489                 1  November 20, 2023        3490\n3490                 1  November 20, 2023        3491\n\n[3491 rows x 3 columns]",
      "text/html": "<div>\n<style scoped>\n    .dataframe tbody tr th:only-of-type {\n        vertical-align: middle;\n    }\n\n    .dataframe tbody tr th {\n        vertical-align: top;\n    }\n\n    .dataframe thead th {\n        text-align: right;\n    }\n</style>\n<table border=\"1\" class=\"dataframe\">\n  <thead>\n    <tr style=\"text-align: right;\">\n      <th></th>\n      <th>urban_location_f</th>\n      <th>updated_dt</th>\n      <th>hospital_id</th>\n    </tr>\n  </thead>\n  <tbody>\n    <tr>\n      <th>0</th>\n      <td>0</td>\n      <td>November 20, 2023</td>\n      <td>1</td>\n    </tr>\n    <tr>\n      <th>1</th>\n      <td>1</td>\n      <td>November 20, 2023</td>\n      <td>2</td>\n    </tr>\n    <tr>\n      <th>2</th>\n      <td>1</td>\n      <td>November 20, 2023</td>\n      <td>3</td>\n    </tr>\n    <tr>\n      <th>3</th>\n      <td>1</td>\n      <td>November 20, 2023</td>\n      <td>4</td>\n    </tr>\n    <tr>\n      <th>4</th>\n      <td>0</td>\n      <td>November 20, 2023</td>\n      <td>5</td>\n    </tr>\n    <tr>\n      <th>...</th>\n      <td>...</td>\n      <td>...</td>\n      <td>...</td>\n    </tr>\n    <tr>\n      <th>3486</th>\n      <td>1</td>\n      <td>November 20, 2023</td>\n      <td>3487</td>\n    </tr>\n    <tr>\n      <th>3487</th>\n      <td>1</td>\n      <td>November 20, 2023</td>\n      <td>3488</td>\n    </tr>\n    <tr>\n      <th>3488</th>\n      <td>1</td>\n      <td>November 20, 2023</td>\n      <td>3489</td>\n    </tr>\n    <tr>\n      <th>3489</th>\n      <td>1</td>\n      <td>November 20, 2023</td>\n      <td>3490</td>\n    </tr>\n    <tr>\n      <th>3490</th>\n      <td>1</td>\n      <td>November 20, 2023</td>\n      <td>3491</td>\n    </tr>\n  </tbody>\n</table>\n<p>3491 rows × 3 columns</p>\n</div>"
     },
     "execution_count": 16,
     "metadata": {},
     "output_type": "execute_result"
    }
   ],
   "source": [
    "# Urban Table\n",
    "urban = hospital_df[['urban_location_f', 'updated_dt','hospital_id']]\n",
    "urban"
   ],
   "metadata": {
    "collapsed": false,
    "ExecuteTime": {
     "end_time": "2024-02-10T15:24:01.808706700Z",
     "start_time": "2024-02-10T15:24:01.694680900Z"
    }
   },
   "id": "825453c355236a99",
   "execution_count": 16
  }
 ],
 "metadata": {
  "kernelspec": {
   "display_name": "Python 3 (ipykernel)",
   "language": "python",
   "name": "python3"
  },
  "language_info": {
   "codemirror_mode": {
    "name": "ipython",
    "version": 3
   },
   "file_extension": ".py",
   "mimetype": "text/x-python",
   "name": "python",
   "nbconvert_exporter": "python",
   "pygments_lexer": "ipython3",
   "version": "3.11.7"
  }
 },
 "nbformat": 4,
 "nbformat_minor": 5
}
