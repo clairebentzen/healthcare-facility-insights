{
 "cells": [
  {
   "cell_type": "markdown",
   "id": "fb452d61",
   "metadata": {},
   "source": [
    "# Hospital Facilities Insight \n",
    "\n",
    "Data obtained from Community Benefits Insight: http://www.communitybenefitinsight.org/api/get_hospitals.php"
   ]
  },
  {
   "cell_type": "markdown",
   "id": "cbd8fe43",
   "metadata": {},
   "source": [
    "## Import Libaries"
   ]
  },
  {
   "cell_type": "code",
   "execution_count": 219,
   "id": "3d73b33f",
   "metadata": {
    "ExecuteTime": {
     "end_time": "2024-02-23T03:02:56.689952700Z",
     "start_time": "2024-02-23T03:02:56.580926900Z"
    }
   },
   "outputs": [],
   "source": [
    "# import appropriate packages\n",
    "import os\n",
    "import requests\n",
    "import json \n",
    "import pandas as pd\n",
    "from datetime import datetime\n",
    "import matplotlib.pyplot as plt\n",
    "import seaborn as sns\n",
    "import pymysql.cursors\n",
    "from pymysql import IntegrityError\n",
    "\n",
    "import warnings\n",
    "warnings.filterwarnings(\"ignore\") #supress warnings"
   ]
  },
  {
   "cell_type": "markdown",
   "id": "b1e598fd",
   "metadata": {},
   "source": [
    "## Import Data"
   ]
  },
  {
   "cell_type": "code",
   "execution_count": 220,
   "id": "0f90bd92",
   "metadata": {
    "ExecuteTime": {
     "end_time": "2024-02-23T03:02:57.210359700Z",
     "start_time": "2024-02-23T03:02:56.616936200Z"
    }
   },
   "outputs": [
    {
     "name": "stdout",
     "output_type": "stream",
     "text": [
      "     hospital_id hospital_org_id        ein  \\\n",
      "0              1               1  630307951   \n",
      "1              2               2  630578923   \n",
      "2              3               3  630312913   \n",
      "3              4               4  630459034   \n",
      "4              5               5  581973570   \n",
      "...          ...             ...        ...   \n",
      "3486        3487            2647  813040663   \n",
      "3487        3488            2304  741109643   \n",
      "3488        3489            2648  831954982   \n",
      "3489        3490            2302  750800661   \n",
      "3490        3491            2649  831869297   \n",
      "\n",
      "                                     name  \\\n",
      "0                Mizell Memorial Hospital   \n",
      "1                        St Vincents East   \n",
      "2           Shelby Baptist Medical Center   \n",
      "3            Callahan Eye Foundation Hosp   \n",
      "4                 Cherokee Medical Center   \n",
      "...                                   ...   \n",
      "3486          Bsw Medical Center - Austin   \n",
      "3487              Ascension Seton Bastrop   \n",
      "3488         Texas Health Hospital Frisco   \n",
      "3489  Methodist Midlothian Medical Center   \n",
      "3490      Texas Health Hospital Mansfield   \n",
      "\n",
      "                                  name_cr              street_address  \\\n",
      "0                Mizell Memorial Hospital             702 Main Street   \n",
      "1                        St Vincents East  50 Medical Park Drive East   \n",
      "2           Shelby Baptist Medical Center     1000 First Street North   \n",
      "3            Callahan Eye Foundation Hosp   1720 University Boulevard   \n",
      "4                 Cherokee Medical Center         400 Northwood Drive   \n",
      "...                                   ...                         ...   \n",
      "3486          Bsw Medical Center - Austin               5245 W Us 290   \n",
      "3487              Ascension Seton Bastrop            630 Highway 71 W   \n",
      "3488         Texas Health Hospital Frisco      12400 N Dallas Parkway   \n",
      "3489  Methodist Midlothian Medical Center          1201 E Highway 287   \n",
      "3490      Texas Health Hospital Mansfield         2300 Lone Star Road   \n",
      "\n",
      "            city state zip_code fips_state_and_county_code hospital_bed_count  \\\n",
      "0            Opp    AL    36462                      01039                 99   \n",
      "1     Birmingham    AL    35235                      01073                362   \n",
      "2      Alabaster    AL    35007                      01117                252   \n",
      "3     Birmingham    AL    35233                      01073                106   \n",
      "4         Centre    AL    35960                      01019                 60   \n",
      "...          ...   ...      ...                        ...                ...   \n",
      "3486      Austin    TX    78735                      48453                 16   \n",
      "3487     Bastrop    TX    78602                      48021                  7   \n",
      "3488      Frisco    TX    75033                      48121                 63   \n",
      "3489  Midlothian    TX    76065                      48139                 46   \n",
      "3490   Mansfield    TX    76063                      48439                 59   \n",
      "\n",
      "     chrch_affl_f urban_location_f children_hospital_f  \\\n",
      "0               N                N                   N   \n",
      "1               N                Y                   N   \n",
      "2               N                Y                   N   \n",
      "3               N                Y                   N   \n",
      "4               N                N                   N   \n",
      "...           ...              ...                 ...   \n",
      "3486            N                Y                   N   \n",
      "3487            N                Y                   N   \n",
      "3488            N                Y                   N   \n",
      "3489            N                Y                   N   \n",
      "3490            N                Y                   N   \n",
      "\n",
      "     memb_counc_teach_hosps_f medicare_provider_number            county  \\\n",
      "0                           N                   010007  Covington County   \n",
      "1                           Y                   010011  Jefferson County   \n",
      "2                           N                   010016     Shelby County   \n",
      "3                           Y                   010018  Jefferson County   \n",
      "4                           N                   010022   Cherokee County   \n",
      "...                       ...                      ...               ...   \n",
      "3486                        N                   670136     Travis County   \n",
      "3487                        N                   670143    Bastrop County   \n",
      "3488                        N                   670260     Denton County   \n",
      "3489                        N                   670300      Ellis County   \n",
      "3490                        N                   670309    Tarrant County   \n",
      "\n",
      "     hospital_bed_size         updated_dt  \n",
      "0            <100 beds  November 20, 2023  \n",
      "1            >299 beds  November 20, 2023  \n",
      "2         100-299 beds  November 20, 2023  \n",
      "3         100-299 beds  November 20, 2023  \n",
      "4            <100 beds  November 20, 2023  \n",
      "...                ...                ...  \n",
      "3486         <100 beds  November 20, 2023  \n",
      "3487         <100 beds  November 20, 2023  \n",
      "3488         <100 beds  November 20, 2023  \n",
      "3489         <100 beds  November 20, 2023  \n",
      "3490         <100 beds  November 20, 2023  \n",
      "\n",
      "[3491 rows x 19 columns]\n"
     ]
    }
   ],
   "source": [
    "# API endpoint\n",
    "api_url = 'http://www.communitybenefitinsight.org/api/get_hospitals.php'\n",
    "\n",
    "# requesting data from API\n",
    "response = requests.get(api_url)\n",
    "\n",
    "# check status\n",
    "if response.status_code == 200:\n",
    "    data = response.json()\n",
    "\n",
    "    # data update check\n",
    "    last_modified_header = response.headers.get('Last-Modified')\n",
    "\n",
    "    if last_modified_header:\n",
    "        last_modified = datetime.strptime(last_modified_header, '%a, %d %b %Y %H:%M:%S GMT')\n",
    "        print(f\"Data was last modified: {last_modified}\")\n",
    "\n",
    "    # convert data to dataframe in chunks\n",
    "    chunk_size = 100  # define size of chunk\n",
    "    hospital_dfs = []  # create list to store df \n",
    "\n",
    "    for chunk_start in range(0, len(data), chunk_size):\n",
    "        chunk_end = min(chunk_start + chunk_size, len(data))\n",
    "        chunk_data = data[chunk_start:chunk_end]\n",
    "        hospital_df = pd.DataFrame(chunk_data)\n",
    "        hospital_dfs.append(hospital_df)\n",
    "\n",
    "    # concate all df chunks into one\n",
    "    hospital_df = pd.concat(hospital_dfs, ignore_index=True)\n",
    "\n",
    "    # print df \n",
    "    print(hospital_df)\n",
    "else:\n",
    "    print(f\"Failed to fetch data. Status code: {response.status_code}\")\n",
    "    print(response.text)"
   ]
  },
  {
   "cell_type": "code",
   "execution_count": 221,
   "id": "15fa3a7b",
   "metadata": {
    "ExecuteTime": {
     "end_time": "2024-02-23T03:02:57.264505100Z",
     "start_time": "2024-02-23T03:02:57.212361300Z"
    }
   },
   "outputs": [
    {
     "data": {
      "text/plain": "     hospital_id hospital_org_id        ein  \\\n0              1               1  630307951   \n1              2               2  630578923   \n2              3               3  630312913   \n3              4               4  630459034   \n4              5               5  581973570   \n...          ...             ...        ...   \n3486        3487            2647  813040663   \n3487        3488            2304  741109643   \n3488        3489            2648  831954982   \n3489        3490            2302  750800661   \n3490        3491            2649  831869297   \n\n                                     name  \\\n0                Mizell Memorial Hospital   \n1                        St Vincents East   \n2           Shelby Baptist Medical Center   \n3            Callahan Eye Foundation Hosp   \n4                 Cherokee Medical Center   \n...                                   ...   \n3486          Bsw Medical Center - Austin   \n3487              Ascension Seton Bastrop   \n3488         Texas Health Hospital Frisco   \n3489  Methodist Midlothian Medical Center   \n3490      Texas Health Hospital Mansfield   \n\n                                  name_cr              street_address  \\\n0                Mizell Memorial Hospital             702 Main Street   \n1                        St Vincents East  50 Medical Park Drive East   \n2           Shelby Baptist Medical Center     1000 First Street North   \n3            Callahan Eye Foundation Hosp   1720 University Boulevard   \n4                 Cherokee Medical Center         400 Northwood Drive   \n...                                   ...                         ...   \n3486          Bsw Medical Center - Austin               5245 W Us 290   \n3487              Ascension Seton Bastrop            630 Highway 71 W   \n3488         Texas Health Hospital Frisco      12400 N Dallas Parkway   \n3489  Methodist Midlothian Medical Center          1201 E Highway 287   \n3490      Texas Health Hospital Mansfield         2300 Lone Star Road   \n\n            city state zip_code fips_state_and_county_code hospital_bed_count  \\\n0            Opp    AL    36462                      01039                 99   \n1     Birmingham    AL    35235                      01073                362   \n2      Alabaster    AL    35007                      01117                252   \n3     Birmingham    AL    35233                      01073                106   \n4         Centre    AL    35960                      01019                 60   \n...          ...   ...      ...                        ...                ...   \n3486      Austin    TX    78735                      48453                 16   \n3487     Bastrop    TX    78602                      48021                  7   \n3488      Frisco    TX    75033                      48121                 63   \n3489  Midlothian    TX    76065                      48139                 46   \n3490   Mansfield    TX    76063                      48439                 59   \n\n     chrch_affl_f urban_location_f children_hospital_f  \\\n0               N                N                   N   \n1               N                Y                   N   \n2               N                Y                   N   \n3               N                Y                   N   \n4               N                N                   N   \n...           ...              ...                 ...   \n3486            N                Y                   N   \n3487            N                Y                   N   \n3488            N                Y                   N   \n3489            N                Y                   N   \n3490            N                Y                   N   \n\n     memb_counc_teach_hosps_f medicare_provider_number            county  \\\n0                           N                   010007  Covington County   \n1                           Y                   010011  Jefferson County   \n2                           N                   010016     Shelby County   \n3                           Y                   010018  Jefferson County   \n4                           N                   010022   Cherokee County   \n...                       ...                      ...               ...   \n3486                        N                   670136     Travis County   \n3487                        N                   670143    Bastrop County   \n3488                        N                   670260     Denton County   \n3489                        N                   670300      Ellis County   \n3490                        N                   670309    Tarrant County   \n\n     hospital_bed_size         updated_dt  \n0            <100 beds  November 20, 2023  \n1            >299 beds  November 20, 2023  \n2         100-299 beds  November 20, 2023  \n3         100-299 beds  November 20, 2023  \n4            <100 beds  November 20, 2023  \n...                ...                ...  \n3486         <100 beds  November 20, 2023  \n3487         <100 beds  November 20, 2023  \n3488         <100 beds  November 20, 2023  \n3489         <100 beds  November 20, 2023  \n3490         <100 beds  November 20, 2023  \n\n[3491 rows x 19 columns]",
      "text/html": "<div>\n<style scoped>\n    .dataframe tbody tr th:only-of-type {\n        vertical-align: middle;\n    }\n\n    .dataframe tbody tr th {\n        vertical-align: top;\n    }\n\n    .dataframe thead th {\n        text-align: right;\n    }\n</style>\n<table border=\"1\" class=\"dataframe\">\n  <thead>\n    <tr style=\"text-align: right;\">\n      <th></th>\n      <th>hospital_id</th>\n      <th>hospital_org_id</th>\n      <th>ein</th>\n      <th>name</th>\n      <th>name_cr</th>\n      <th>street_address</th>\n      <th>city</th>\n      <th>state</th>\n      <th>zip_code</th>\n      <th>fips_state_and_county_code</th>\n      <th>hospital_bed_count</th>\n      <th>chrch_affl_f</th>\n      <th>urban_location_f</th>\n      <th>children_hospital_f</th>\n      <th>memb_counc_teach_hosps_f</th>\n      <th>medicare_provider_number</th>\n      <th>county</th>\n      <th>hospital_bed_size</th>\n      <th>updated_dt</th>\n    </tr>\n  </thead>\n  <tbody>\n    <tr>\n      <th>0</th>\n      <td>1</td>\n      <td>1</td>\n      <td>630307951</td>\n      <td>Mizell Memorial Hospital</td>\n      <td>Mizell Memorial Hospital</td>\n      <td>702 Main Street</td>\n      <td>Opp</td>\n      <td>AL</td>\n      <td>36462</td>\n      <td>01039</td>\n      <td>99</td>\n      <td>N</td>\n      <td>N</td>\n      <td>N</td>\n      <td>N</td>\n      <td>010007</td>\n      <td>Covington County</td>\n      <td>&lt;100 beds</td>\n      <td>November 20, 2023</td>\n    </tr>\n    <tr>\n      <th>1</th>\n      <td>2</td>\n      <td>2</td>\n      <td>630578923</td>\n      <td>St Vincents East</td>\n      <td>St Vincents East</td>\n      <td>50 Medical Park Drive East</td>\n      <td>Birmingham</td>\n      <td>AL</td>\n      <td>35235</td>\n      <td>01073</td>\n      <td>362</td>\n      <td>N</td>\n      <td>Y</td>\n      <td>N</td>\n      <td>Y</td>\n      <td>010011</td>\n      <td>Jefferson County</td>\n      <td>&gt;299 beds</td>\n      <td>November 20, 2023</td>\n    </tr>\n    <tr>\n      <th>2</th>\n      <td>3</td>\n      <td>3</td>\n      <td>630312913</td>\n      <td>Shelby Baptist Medical Center</td>\n      <td>Shelby Baptist Medical Center</td>\n      <td>1000 First Street North</td>\n      <td>Alabaster</td>\n      <td>AL</td>\n      <td>35007</td>\n      <td>01117</td>\n      <td>252</td>\n      <td>N</td>\n      <td>Y</td>\n      <td>N</td>\n      <td>N</td>\n      <td>010016</td>\n      <td>Shelby County</td>\n      <td>100-299 beds</td>\n      <td>November 20, 2023</td>\n    </tr>\n    <tr>\n      <th>3</th>\n      <td>4</td>\n      <td>4</td>\n      <td>630459034</td>\n      <td>Callahan Eye Foundation Hosp</td>\n      <td>Callahan Eye Foundation Hosp</td>\n      <td>1720 University Boulevard</td>\n      <td>Birmingham</td>\n      <td>AL</td>\n      <td>35233</td>\n      <td>01073</td>\n      <td>106</td>\n      <td>N</td>\n      <td>Y</td>\n      <td>N</td>\n      <td>Y</td>\n      <td>010018</td>\n      <td>Jefferson County</td>\n      <td>100-299 beds</td>\n      <td>November 20, 2023</td>\n    </tr>\n    <tr>\n      <th>4</th>\n      <td>5</td>\n      <td>5</td>\n      <td>581973570</td>\n      <td>Cherokee Medical Center</td>\n      <td>Cherokee Medical Center</td>\n      <td>400 Northwood Drive</td>\n      <td>Centre</td>\n      <td>AL</td>\n      <td>35960</td>\n      <td>01019</td>\n      <td>60</td>\n      <td>N</td>\n      <td>N</td>\n      <td>N</td>\n      <td>N</td>\n      <td>010022</td>\n      <td>Cherokee County</td>\n      <td>&lt;100 beds</td>\n      <td>November 20, 2023</td>\n    </tr>\n    <tr>\n      <th>...</th>\n      <td>...</td>\n      <td>...</td>\n      <td>...</td>\n      <td>...</td>\n      <td>...</td>\n      <td>...</td>\n      <td>...</td>\n      <td>...</td>\n      <td>...</td>\n      <td>...</td>\n      <td>...</td>\n      <td>...</td>\n      <td>...</td>\n      <td>...</td>\n      <td>...</td>\n      <td>...</td>\n      <td>...</td>\n      <td>...</td>\n      <td>...</td>\n    </tr>\n    <tr>\n      <th>3486</th>\n      <td>3487</td>\n      <td>2647</td>\n      <td>813040663</td>\n      <td>Bsw Medical Center - Austin</td>\n      <td>Bsw Medical Center - Austin</td>\n      <td>5245 W Us 290</td>\n      <td>Austin</td>\n      <td>TX</td>\n      <td>78735</td>\n      <td>48453</td>\n      <td>16</td>\n      <td>N</td>\n      <td>Y</td>\n      <td>N</td>\n      <td>N</td>\n      <td>670136</td>\n      <td>Travis County</td>\n      <td>&lt;100 beds</td>\n      <td>November 20, 2023</td>\n    </tr>\n    <tr>\n      <th>3487</th>\n      <td>3488</td>\n      <td>2304</td>\n      <td>741109643</td>\n      <td>Ascension Seton Bastrop</td>\n      <td>Ascension Seton Bastrop</td>\n      <td>630 Highway 71 W</td>\n      <td>Bastrop</td>\n      <td>TX</td>\n      <td>78602</td>\n      <td>48021</td>\n      <td>7</td>\n      <td>N</td>\n      <td>Y</td>\n      <td>N</td>\n      <td>N</td>\n      <td>670143</td>\n      <td>Bastrop County</td>\n      <td>&lt;100 beds</td>\n      <td>November 20, 2023</td>\n    </tr>\n    <tr>\n      <th>3488</th>\n      <td>3489</td>\n      <td>2648</td>\n      <td>831954982</td>\n      <td>Texas Health Hospital Frisco</td>\n      <td>Texas Health Hospital Frisco</td>\n      <td>12400 N Dallas Parkway</td>\n      <td>Frisco</td>\n      <td>TX</td>\n      <td>75033</td>\n      <td>48121</td>\n      <td>63</td>\n      <td>N</td>\n      <td>Y</td>\n      <td>N</td>\n      <td>N</td>\n      <td>670260</td>\n      <td>Denton County</td>\n      <td>&lt;100 beds</td>\n      <td>November 20, 2023</td>\n    </tr>\n    <tr>\n      <th>3489</th>\n      <td>3490</td>\n      <td>2302</td>\n      <td>750800661</td>\n      <td>Methodist Midlothian Medical Center</td>\n      <td>Methodist Midlothian Medical Center</td>\n      <td>1201 E Highway 287</td>\n      <td>Midlothian</td>\n      <td>TX</td>\n      <td>76065</td>\n      <td>48139</td>\n      <td>46</td>\n      <td>N</td>\n      <td>Y</td>\n      <td>N</td>\n      <td>N</td>\n      <td>670300</td>\n      <td>Ellis County</td>\n      <td>&lt;100 beds</td>\n      <td>November 20, 2023</td>\n    </tr>\n    <tr>\n      <th>3490</th>\n      <td>3491</td>\n      <td>2649</td>\n      <td>831869297</td>\n      <td>Texas Health Hospital Mansfield</td>\n      <td>Texas Health Hospital Mansfield</td>\n      <td>2300 Lone Star Road</td>\n      <td>Mansfield</td>\n      <td>TX</td>\n      <td>76063</td>\n      <td>48439</td>\n      <td>59</td>\n      <td>N</td>\n      <td>Y</td>\n      <td>N</td>\n      <td>N</td>\n      <td>670309</td>\n      <td>Tarrant County</td>\n      <td>&lt;100 beds</td>\n      <td>November 20, 2023</td>\n    </tr>\n  </tbody>\n</table>\n<p>3491 rows × 19 columns</p>\n</div>"
     },
     "execution_count": 221,
     "metadata": {},
     "output_type": "execute_result"
    }
   ],
   "source": [
    "hospital_df # print df "
   ]
  },
  {
   "cell_type": "code",
   "execution_count": 222,
   "id": "a6d2dd36",
   "metadata": {
    "ExecuteTime": {
     "end_time": "2024-02-23T03:02:57.338516500Z",
     "start_time": "2024-02-23T03:02:57.241491400Z"
    }
   },
   "outputs": [
    {
     "data": {
      "text/plain": "     hospital_id hospital_org_id        ein  \\\n944          945             556  351330472   \n1972        1973            1547  850105601   \n1528        1529              57  383952644   \n197          198              46  941196203   \n473          474             300  060646597   \n113          114              75  710294390   \n2386        2387            1898  344430849   \n2672        2673            2113  250965404   \n2270        2271            1785  450226711   \n2639        2640            2087  251244202   \n\n                                      name  \\\n944              Franciscan Health Munster   \n1972  Plains Regional Medical Ctr - Clovis   \n1528        Mayo Clinic Hospital Rochester   \n197       St Johns Regional Medical Center   \n473                   New Milford Hospital   \n113                   Mercy Medical Center   \n2386                     Memorial Hospital   \n2672       Indiana Regional Medical Center   \n2270        Turtle Lake Community Hospital   \n2639                 Windber Hospital  Inc   \n\n                                   name_cr            street_address  \\\n944              Franciscan Health Munster       701 Superior Street   \n1972  Plains Regional Medical Ctr - Clovis  2100 North Thomas Street   \n1528        Mayo Clinic Hospital Rochester     1216 Second Street Sw   \n197       St Johns Regional Medical Center    1600 North Rose Avenue   \n473                                                        21 Elm St   \n113                   Mercy Medical Center    2710 Rife Medical Lane   \n2386                     Memorial Hospital     715 South Taft Avenue   \n2672       Indiana Regional Medical Center         835 Hospital Road   \n2270        Turtle Lake Community Hospital            220 5th Avenue   \n2639                 Windber Hospital  Inc       600 Somerset Avenue   \n\n             city state zip_code fips_state_and_county_code  \\\n944       Munster    IN    46321                      18089   \n1972       Clovis    NM    88101                      35009   \n1528    Rochester    MN    55905                      27109   \n197        Oxnard    CA    93030                      06111   \n473   New Milford    CT    06776                      09005   \n113        Rogers    AR    72758                      05007   \n2386      Fremont    OH    43420                      39143   \n2672      Indiana    PA    15701                      42063   \n2270  Turtle Lake    ND    58575                      38055   \n2639      Windber    PA    15963                      42111   \n\n     hospital_bed_count chrch_affl_f urban_location_f children_hospital_f  \\\n944                  63            N                Y                   N   \n1972                106            N                N                   N   \n1528               2059            Y                Y                   N   \n197                 265            N                Y                   N   \n473                  85            N                N                   N   \n113                 275            N                Y                   N   \n2386                179            N                N                   N   \n2672                166            N                N                   N   \n2270                 25            Y                N                   N   \n2639                 54            N                N                   N   \n\n     memb_counc_teach_hosps_f medicare_provider_number             county  \\\n944                         N                   150165        Lake County   \n1972                        N                   320022       Curry County   \n1528                        Y                   240010     Olmsted County   \n197                         N                   050082     Ventura County   \n473                         N                   070015  Litchfield County   \n113                         Y                   040010      Benton County   \n2386                        N                   360156    Sandusky County   \n2672                        N                   390173     Indiana County   \n2270                        N                   351304      McLean County   \n2639                        N                   390112    Somerset County   \n\n     hospital_bed_size         updated_dt  \n944          <100 beds  November 20, 2023  \n1972      100-299 beds  November 20, 2023  \n1528         >299 beds  November 20, 2023  \n197       100-299 beds  November 20, 2023  \n473          <100 beds  November 20, 2023  \n113       100-299 beds  November 20, 2023  \n2386      100-299 beds  November 20, 2023  \n2672      100-299 beds  November 20, 2023  \n2270         <100 beds  November 20, 2023  \n2639         <100 beds  November 20, 2023  ",
      "text/html": "<div>\n<style scoped>\n    .dataframe tbody tr th:only-of-type {\n        vertical-align: middle;\n    }\n\n    .dataframe tbody tr th {\n        vertical-align: top;\n    }\n\n    .dataframe thead th {\n        text-align: right;\n    }\n</style>\n<table border=\"1\" class=\"dataframe\">\n  <thead>\n    <tr style=\"text-align: right;\">\n      <th></th>\n      <th>hospital_id</th>\n      <th>hospital_org_id</th>\n      <th>ein</th>\n      <th>name</th>\n      <th>name_cr</th>\n      <th>street_address</th>\n      <th>city</th>\n      <th>state</th>\n      <th>zip_code</th>\n      <th>fips_state_and_county_code</th>\n      <th>hospital_bed_count</th>\n      <th>chrch_affl_f</th>\n      <th>urban_location_f</th>\n      <th>children_hospital_f</th>\n      <th>memb_counc_teach_hosps_f</th>\n      <th>medicare_provider_number</th>\n      <th>county</th>\n      <th>hospital_bed_size</th>\n      <th>updated_dt</th>\n    </tr>\n  </thead>\n  <tbody>\n    <tr>\n      <th>944</th>\n      <td>945</td>\n      <td>556</td>\n      <td>351330472</td>\n      <td>Franciscan Health Munster</td>\n      <td>Franciscan Health Munster</td>\n      <td>701 Superior Street</td>\n      <td>Munster</td>\n      <td>IN</td>\n      <td>46321</td>\n      <td>18089</td>\n      <td>63</td>\n      <td>N</td>\n      <td>Y</td>\n      <td>N</td>\n      <td>N</td>\n      <td>150165</td>\n      <td>Lake County</td>\n      <td>&lt;100 beds</td>\n      <td>November 20, 2023</td>\n    </tr>\n    <tr>\n      <th>1972</th>\n      <td>1973</td>\n      <td>1547</td>\n      <td>850105601</td>\n      <td>Plains Regional Medical Ctr - Clovis</td>\n      <td>Plains Regional Medical Ctr - Clovis</td>\n      <td>2100 North Thomas Street</td>\n      <td>Clovis</td>\n      <td>NM</td>\n      <td>88101</td>\n      <td>35009</td>\n      <td>106</td>\n      <td>N</td>\n      <td>N</td>\n      <td>N</td>\n      <td>N</td>\n      <td>320022</td>\n      <td>Curry County</td>\n      <td>100-299 beds</td>\n      <td>November 20, 2023</td>\n    </tr>\n    <tr>\n      <th>1528</th>\n      <td>1529</td>\n      <td>57</td>\n      <td>383952644</td>\n      <td>Mayo Clinic Hospital Rochester</td>\n      <td>Mayo Clinic Hospital Rochester</td>\n      <td>1216 Second Street Sw</td>\n      <td>Rochester</td>\n      <td>MN</td>\n      <td>55905</td>\n      <td>27109</td>\n      <td>2059</td>\n      <td>Y</td>\n      <td>Y</td>\n      <td>N</td>\n      <td>Y</td>\n      <td>240010</td>\n      <td>Olmsted County</td>\n      <td>&gt;299 beds</td>\n      <td>November 20, 2023</td>\n    </tr>\n    <tr>\n      <th>197</th>\n      <td>198</td>\n      <td>46</td>\n      <td>941196203</td>\n      <td>St Johns Regional Medical Center</td>\n      <td>St Johns Regional Medical Center</td>\n      <td>1600 North Rose Avenue</td>\n      <td>Oxnard</td>\n      <td>CA</td>\n      <td>93030</td>\n      <td>06111</td>\n      <td>265</td>\n      <td>N</td>\n      <td>Y</td>\n      <td>N</td>\n      <td>N</td>\n      <td>050082</td>\n      <td>Ventura County</td>\n      <td>100-299 beds</td>\n      <td>November 20, 2023</td>\n    </tr>\n    <tr>\n      <th>473</th>\n      <td>474</td>\n      <td>300</td>\n      <td>060646597</td>\n      <td>New Milford Hospital</td>\n      <td></td>\n      <td>21 Elm St</td>\n      <td>New Milford</td>\n      <td>CT</td>\n      <td>06776</td>\n      <td>09005</td>\n      <td>85</td>\n      <td>N</td>\n      <td>N</td>\n      <td>N</td>\n      <td>N</td>\n      <td>070015</td>\n      <td>Litchfield County</td>\n      <td>&lt;100 beds</td>\n      <td>November 20, 2023</td>\n    </tr>\n    <tr>\n      <th>113</th>\n      <td>114</td>\n      <td>75</td>\n      <td>710294390</td>\n      <td>Mercy Medical Center</td>\n      <td>Mercy Medical Center</td>\n      <td>2710 Rife Medical Lane</td>\n      <td>Rogers</td>\n      <td>AR</td>\n      <td>72758</td>\n      <td>05007</td>\n      <td>275</td>\n      <td>N</td>\n      <td>Y</td>\n      <td>N</td>\n      <td>Y</td>\n      <td>040010</td>\n      <td>Benton County</td>\n      <td>100-299 beds</td>\n      <td>November 20, 2023</td>\n    </tr>\n    <tr>\n      <th>2386</th>\n      <td>2387</td>\n      <td>1898</td>\n      <td>344430849</td>\n      <td>Memorial Hospital</td>\n      <td>Memorial Hospital</td>\n      <td>715 South Taft Avenue</td>\n      <td>Fremont</td>\n      <td>OH</td>\n      <td>43420</td>\n      <td>39143</td>\n      <td>179</td>\n      <td>N</td>\n      <td>N</td>\n      <td>N</td>\n      <td>N</td>\n      <td>360156</td>\n      <td>Sandusky County</td>\n      <td>100-299 beds</td>\n      <td>November 20, 2023</td>\n    </tr>\n    <tr>\n      <th>2672</th>\n      <td>2673</td>\n      <td>2113</td>\n      <td>250965404</td>\n      <td>Indiana Regional Medical Center</td>\n      <td>Indiana Regional Medical Center</td>\n      <td>835 Hospital Road</td>\n      <td>Indiana</td>\n      <td>PA</td>\n      <td>15701</td>\n      <td>42063</td>\n      <td>166</td>\n      <td>N</td>\n      <td>N</td>\n      <td>N</td>\n      <td>N</td>\n      <td>390173</td>\n      <td>Indiana County</td>\n      <td>100-299 beds</td>\n      <td>November 20, 2023</td>\n    </tr>\n    <tr>\n      <th>2270</th>\n      <td>2271</td>\n      <td>1785</td>\n      <td>450226711</td>\n      <td>Turtle Lake Community Hospital</td>\n      <td>Turtle Lake Community Hospital</td>\n      <td>220 5th Avenue</td>\n      <td>Turtle Lake</td>\n      <td>ND</td>\n      <td>58575</td>\n      <td>38055</td>\n      <td>25</td>\n      <td>Y</td>\n      <td>N</td>\n      <td>N</td>\n      <td>N</td>\n      <td>351304</td>\n      <td>McLean County</td>\n      <td>&lt;100 beds</td>\n      <td>November 20, 2023</td>\n    </tr>\n    <tr>\n      <th>2639</th>\n      <td>2640</td>\n      <td>2087</td>\n      <td>251244202</td>\n      <td>Windber Hospital  Inc</td>\n      <td>Windber Hospital  Inc</td>\n      <td>600 Somerset Avenue</td>\n      <td>Windber</td>\n      <td>PA</td>\n      <td>15963</td>\n      <td>42111</td>\n      <td>54</td>\n      <td>N</td>\n      <td>N</td>\n      <td>N</td>\n      <td>N</td>\n      <td>390112</td>\n      <td>Somerset County</td>\n      <td>&lt;100 beds</td>\n      <td>November 20, 2023</td>\n    </tr>\n  </tbody>\n</table>\n</div>"
     },
     "execution_count": 222,
     "metadata": {},
     "output_type": "execute_result"
    }
   ],
   "source": [
    "# print 10 random samples from the dataframe \n",
    "hospital_df.sample(10)"
   ]
  },
  {
   "cell_type": "markdown",
   "id": "8e149eca",
   "metadata": {},
   "source": [
    "## Data Inspection"
   ]
  },
  {
   "cell_type": "code",
   "execution_count": 223,
   "id": "8103d4c0",
   "metadata": {
    "ExecuteTime": {
     "end_time": "2024-02-23T03:02:57.360525600Z",
     "start_time": "2024-02-23T03:02:57.274503400Z"
    }
   },
   "outputs": [
    {
     "data": {
      "text/plain": "(3491, 19)"
     },
     "execution_count": 223,
     "metadata": {},
     "output_type": "execute_result"
    }
   ],
   "source": [
    "hospital_df.shape "
   ]
  },
  {
   "cell_type": "code",
   "execution_count": 224,
   "id": "984b5789",
   "metadata": {
    "ExecuteTime": {
     "end_time": "2024-02-23T03:02:57.422539100Z",
     "start_time": "2024-02-23T03:02:57.290506700Z"
    }
   },
   "outputs": [
    {
     "name": "stdout",
     "output_type": "stream",
     "text": [
      "<class 'pandas.core.frame.DataFrame'>\n",
      "RangeIndex: 3491 entries, 0 to 3490\n",
      "Data columns (total 19 columns):\n",
      " #   Column                      Non-Null Count  Dtype \n",
      "---  ------                      --------------  ----- \n",
      " 0   hospital_id                 3491 non-null   object\n",
      " 1   hospital_org_id             3491 non-null   object\n",
      " 2   ein                         3491 non-null   object\n",
      " 3   name                        3491 non-null   object\n",
      " 4   name_cr                     3491 non-null   object\n",
      " 5   street_address              3491 non-null   object\n",
      " 6   city                        3491 non-null   object\n",
      " 7   state                       3491 non-null   object\n",
      " 8   zip_code                    3491 non-null   object\n",
      " 9   fips_state_and_county_code  3491 non-null   object\n",
      " 10  hospital_bed_count          3491 non-null   object\n",
      " 11  chrch_affl_f                3491 non-null   object\n",
      " 12  urban_location_f            3491 non-null   object\n",
      " 13  children_hospital_f         3491 non-null   object\n",
      " 14  memb_counc_teach_hosps_f    3491 non-null   object\n",
      " 15  medicare_provider_number    3491 non-null   object\n",
      " 16  county                      3490 non-null   object\n",
      " 17  hospital_bed_size           3491 non-null   object\n",
      " 18  updated_dt                  3491 non-null   object\n",
      "dtypes: object(19)\n",
      "memory usage: 518.3+ KB\n"
     ]
    }
   ],
   "source": [
    "hospital_df.info() #all variables in df are labeled as object variables"
   ]
  },
  {
   "cell_type": "code",
   "execution_count": 225,
   "id": "4a7e4844",
   "metadata": {
    "ExecuteTime": {
     "end_time": "2024-02-23T03:02:57.478241100Z",
     "start_time": "2024-02-23T03:02:57.323514400Z"
    }
   },
   "outputs": [
    {
     "name": "stdout",
     "output_type": "stream",
     "text": [
      "<class 'pandas.core.frame.DataFrame'>\n",
      "RangeIndex: 3491 entries, 0 to 3490\n",
      "Data columns (total 19 columns):\n",
      " #   Column                      Non-Null Count  Dtype \n",
      "---  ------                      --------------  ----- \n",
      " 0   hospital_id                 3491 non-null   object\n",
      " 1   hospital_org_id             3491 non-null   object\n",
      " 2   ein                         3491 non-null   object\n",
      " 3   name                        3491 non-null   object\n",
      " 4   name_cr                     3491 non-null   object\n",
      " 5   street_address              3491 non-null   object\n",
      " 6   city                        3491 non-null   object\n",
      " 7   state                       3491 non-null   object\n",
      " 8   zip_code                    3491 non-null   object\n",
      " 9   fips_state_and_county_code  3491 non-null   object\n",
      " 10  hospital_bed_count          3491 non-null   int64 \n",
      " 11  chrch_affl_f                3491 non-null   int64 \n",
      " 12  urban_location_f            3491 non-null   int64 \n",
      " 13  children_hospital_f         3491 non-null   int64 \n",
      " 14  memb_counc_teach_hosps_f    3491 non-null   int64 \n",
      " 15  medicare_provider_number    3491 non-null   int64 \n",
      " 16  county                      3490 non-null   object\n",
      " 17  hospital_bed_size           3491 non-null   object\n",
      " 18  updated_dt                  3491 non-null   object\n",
      "dtypes: int64(6), object(13)\n",
      "memory usage: 518.3+ KB\n"
     ]
    }
   ],
   "source": [
    "columns_to_convert = ['hospital_bed_count', 'medicare_provider_number']\n",
    "binary_columns = ['chrch_affl_f', 'urban_location_f', 'children_hospital_f', 'memb_counc_teach_hosps_f']\n",
    "\n",
    "# iterate through the list of columns\n",
    "for col in columns_to_convert:\n",
    "    # convert to numeric, coerce errors to NaN\n",
    "    hospital_df[col] = pd.to_numeric(hospital_df[col], errors='coerce')\n",
    "    \n",
    "for col in binary_columns:\n",
    "    # Map 'N' to 0 and 'Y' to 1\n",
    "    hospital_df[col] = hospital_df[col].map({'N': 0, 'Y': 1})\n",
    "\n",
    "# convert updated_dt to date type\n",
    "hospital_df['updated_dt'] = hospital_df['updated_dt'].apply(lambda x: datetime.strptime(x, '%B %d, %Y').strftime('%Y-%m-%d'))\n",
    "\n",
    "# check the data types after conversion\n",
    "hospital_df.info()\n"
   ]
  },
  {
   "cell_type": "code",
   "execution_count": 226,
   "id": "2acf36ac",
   "metadata": {
    "ExecuteTime": {
     "end_time": "2024-02-23T03:02:57.480240600Z",
     "start_time": "2024-02-23T03:02:57.418538200Z"
    }
   },
   "outputs": [
    {
     "data": {
      "text/plain": "hospital_id                   3491\nhospital_org_id               2377\nein                           2377\nname                          3330\nname_cr                       3072\nstreet_address                3439\ncity                          2192\nstate                           51\nzip_code                      3200\nfips_state_and_county_code    1751\nhospital_bed_count             696\nchrch_affl_f                     2\nurban_location_f                 2\nchildren_hospital_f              2\nmemb_counc_teach_hosps_f         2\nmedicare_provider_number      3491\ncounty                        1195\nhospital_bed_size                3\nupdated_dt                       1\ndtype: int64"
     },
     "execution_count": 226,
     "metadata": {},
     "output_type": "execute_result"
    }
   ],
   "source": [
    "hospital_df.nunique() #unique variables "
   ]
  },
  {
   "cell_type": "code",
   "execution_count": 227,
   "id": "f0aac437",
   "metadata": {
    "ExecuteTime": {
     "end_time": "2024-02-23T03:02:57.522250400Z",
     "start_time": "2024-02-23T03:02:57.435542Z"
    }
   },
   "outputs": [
    {
     "data": {
      "text/plain": "hospital_id                   0\nhospital_org_id               0\nein                           0\nname                          0\nname_cr                       0\nstreet_address                0\ncity                          0\nstate                         0\nzip_code                      0\nfips_state_and_county_code    0\nhospital_bed_count            0\nchrch_affl_f                  0\nurban_location_f              0\nchildren_hospital_f           0\nmemb_counc_teach_hosps_f      0\nmedicare_provider_number      0\ncounty                        1\nhospital_bed_size             0\nupdated_dt                    0\ndtype: int64"
     },
     "execution_count": 227,
     "metadata": {},
     "output_type": "execute_result"
    }
   ],
   "source": [
    "hospital_df.isnull().sum() #null values "
   ]
  },
  {
   "cell_type": "code",
   "execution_count": 228,
   "id": "2449df19",
   "metadata": {
    "ExecuteTime": {
     "end_time": "2024-02-23T03:02:57.527251300Z",
     "start_time": "2024-02-23T03:02:57.466237500Z"
    }
   },
   "outputs": [
    {
     "name": "stdout",
     "output_type": "stream",
     "text": [
      "Duplicate Rows except first occurrence:\n",
      "Empty DataFrame\n",
      "Columns: [hospital_id, hospital_org_id, ein, name, name_cr, street_address, city, state, zip_code, fips_state_and_county_code, hospital_bed_count, chrch_affl_f, urban_location_f, children_hospital_f, memb_counc_teach_hosps_f, medicare_provider_number, county, hospital_bed_size, updated_dt]\n",
      "Index: []\n",
      "No duplicates found in the DataFrame.\n"
     ]
    }
   ],
   "source": [
    "duplicate_rows = hospital_df[hospital_df.duplicated()]\n",
    "\n",
    "print(\"Duplicate Rows except first occurrence:\")\n",
    "print(duplicate_rows)\n",
    "\n",
    "if hospital_df.duplicated().any():\n",
    "    print(\"Duplicates exist in the DataFrame.\")\n",
    "else:\n",
    "    print(\"No duplicates found in the DataFrame.\")"
   ]
  },
  {
   "cell_type": "markdown",
   "id": "964f532e",
   "metadata": {},
   "source": [
    "## Table Manipulation"
   ]
  },
  {
   "cell_type": "code",
   "execution_count": 229,
   "id": "e3107bd3",
   "metadata": {
    "ExecuteTime": {
     "end_time": "2024-02-23T03:02:57.577261700Z",
     "start_time": "2024-02-23T03:02:57.501245Z"
    }
   },
   "outputs": [
    {
     "data": {
      "text/plain": "     hospital_id hospital_org_id                                 name  \\\n0              1               1             Mizell Memorial Hospital   \n1              2               2                     St Vincents East   \n2              3               3        Shelby Baptist Medical Center   \n3              4               4         Callahan Eye Foundation Hosp   \n4              5               5              Cherokee Medical Center   \n...          ...             ...                                  ...   \n3486        3487            2647          Bsw Medical Center - Austin   \n3487        3488            2304              Ascension Seton Bastrop   \n3488        3489            2648         Texas Health Hospital Frisco   \n3489        3490            2302  Methodist Midlothian Medical Center   \n3490        3491            2649      Texas Health Hospital Mansfield   \n\n            ein  medicare_provider_number  address_id  capacity_id  updated_dt  \n0     630307951                     10007         609         2381  2023-11-20  \n1     630578923                     10011        1075         1270  2023-11-20  \n2     630312913                     10016        3323          667  2023-11-20  \n3     630459034                     10018        2440          556  2023-11-20  \n4     581973570                     10022        1337          445  2023-11-20  \n...         ...                       ...         ...          ...         ...  \n3486  813040663                    670136         949          730  2023-11-20  \n3487  741109643                    670143         718          729  2023-11-20  \n3488  831954982                    670260        2901          728  2023-11-20  \n3489  750800661                    670300        2967          726  2023-11-20  \n3490  831869297                    670309        2007          725  2023-11-20  \n\n[3491 rows x 8 columns]",
      "text/html": "<div>\n<style scoped>\n    .dataframe tbody tr th:only-of-type {\n        vertical-align: middle;\n    }\n\n    .dataframe tbody tr th {\n        vertical-align: top;\n    }\n\n    .dataframe thead th {\n        text-align: right;\n    }\n</style>\n<table border=\"1\" class=\"dataframe\">\n  <thead>\n    <tr style=\"text-align: right;\">\n      <th></th>\n      <th>hospital_id</th>\n      <th>hospital_org_id</th>\n      <th>name</th>\n      <th>ein</th>\n      <th>medicare_provider_number</th>\n      <th>address_id</th>\n      <th>capacity_id</th>\n      <th>updated_dt</th>\n    </tr>\n  </thead>\n  <tbody>\n    <tr>\n      <th>0</th>\n      <td>1</td>\n      <td>1</td>\n      <td>Mizell Memorial Hospital</td>\n      <td>630307951</td>\n      <td>10007</td>\n      <td>609</td>\n      <td>2381</td>\n      <td>2023-11-20</td>\n    </tr>\n    <tr>\n      <th>1</th>\n      <td>2</td>\n      <td>2</td>\n      <td>St Vincents East</td>\n      <td>630578923</td>\n      <td>10011</td>\n      <td>1075</td>\n      <td>1270</td>\n      <td>2023-11-20</td>\n    </tr>\n    <tr>\n      <th>2</th>\n      <td>3</td>\n      <td>3</td>\n      <td>Shelby Baptist Medical Center</td>\n      <td>630312913</td>\n      <td>10016</td>\n      <td>3323</td>\n      <td>667</td>\n      <td>2023-11-20</td>\n    </tr>\n    <tr>\n      <th>3</th>\n      <td>4</td>\n      <td>4</td>\n      <td>Callahan Eye Foundation Hosp</td>\n      <td>630459034</td>\n      <td>10018</td>\n      <td>2440</td>\n      <td>556</td>\n      <td>2023-11-20</td>\n    </tr>\n    <tr>\n      <th>4</th>\n      <td>5</td>\n      <td>5</td>\n      <td>Cherokee Medical Center</td>\n      <td>581973570</td>\n      <td>10022</td>\n      <td>1337</td>\n      <td>445</td>\n      <td>2023-11-20</td>\n    </tr>\n    <tr>\n      <th>...</th>\n      <td>...</td>\n      <td>...</td>\n      <td>...</td>\n      <td>...</td>\n      <td>...</td>\n      <td>...</td>\n      <td>...</td>\n      <td>...</td>\n    </tr>\n    <tr>\n      <th>3486</th>\n      <td>3487</td>\n      <td>2647</td>\n      <td>Bsw Medical Center - Austin</td>\n      <td>813040663</td>\n      <td>670136</td>\n      <td>949</td>\n      <td>730</td>\n      <td>2023-11-20</td>\n    </tr>\n    <tr>\n      <th>3487</th>\n      <td>3488</td>\n      <td>2304</td>\n      <td>Ascension Seton Bastrop</td>\n      <td>741109643</td>\n      <td>670143</td>\n      <td>718</td>\n      <td>729</td>\n      <td>2023-11-20</td>\n    </tr>\n    <tr>\n      <th>3488</th>\n      <td>3489</td>\n      <td>2648</td>\n      <td>Texas Health Hospital Frisco</td>\n      <td>831954982</td>\n      <td>670260</td>\n      <td>2901</td>\n      <td>728</td>\n      <td>2023-11-20</td>\n    </tr>\n    <tr>\n      <th>3489</th>\n      <td>3490</td>\n      <td>2302</td>\n      <td>Methodist Midlothian Medical Center</td>\n      <td>750800661</td>\n      <td>670300</td>\n      <td>2967</td>\n      <td>726</td>\n      <td>2023-11-20</td>\n    </tr>\n    <tr>\n      <th>3490</th>\n      <td>3491</td>\n      <td>2649</td>\n      <td>Texas Health Hospital Mansfield</td>\n      <td>831869297</td>\n      <td>670309</td>\n      <td>2007</td>\n      <td>725</td>\n      <td>2023-11-20</td>\n    </tr>\n  </tbody>\n</table>\n<p>3491 rows × 8 columns</p>\n</div>"
     },
     "execution_count": 229,
     "metadata": {},
     "output_type": "execute_result"
    }
   ],
   "source": [
    "# Hospital Information Table\n",
    "\n",
    "# create unique ID for address\n",
    "hospital_df['address_id'] = hospital_df['street_address'] + '_' + hospital_df['city'] + '_' + hospital_df['state'] + '_' + hospital_df['zip_code'] + '_' + hospital_df['fips_state_and_county_code']\n",
    "hospital_df['address_id'] = hospital_df['address_id'].rank(method='dense', ascending=False).astype(int)\n",
    "\n",
    "#create unique ID for hospital capacity\n",
    "hospital_df['capacity_id'] = hospital_df['hospital_id'].astype(str) + '_' + hospital_df['hospital_bed_count'].astype(str) + '_' + hospital_df['hospital_bed_size']\n",
    "hospital_df['capacity_id'] = hospital_df['capacity_id'].rank(method='dense', ascending=False).astype(int)\n",
    "\n",
    "\n",
    "# create hospital information table\n",
    "hospital = hospital_df[['hospital_id', 'hospital_org_id', 'name', 'ein', 'medicare_provider_number', 'address_id', 'capacity_id', 'updated_dt']]\n",
    "hospital"
   ]
  },
  {
   "cell_type": "code",
   "execution_count": 230,
   "id": "8a8f478d",
   "metadata": {
    "ExecuteTime": {
     "end_time": "2024-02-23T03:02:57.591265Z",
     "start_time": "2024-02-23T03:02:57.544254500Z"
    }
   },
   "outputs": [
    {
     "data": {
      "text/plain": "     hospital_id  chrch_affl_f  updated_dt\n0              1             0  2023-11-20\n1              2             0  2023-11-20\n2              3             0  2023-11-20\n3              4             0  2023-11-20\n4              5             0  2023-11-20\n...          ...           ...         ...\n3486        3487             0  2023-11-20\n3487        3488             0  2023-11-20\n3488        3489             0  2023-11-20\n3489        3490             0  2023-11-20\n3490        3491             0  2023-11-20\n\n[3491 rows x 3 columns]",
      "text/html": "<div>\n<style scoped>\n    .dataframe tbody tr th:only-of-type {\n        vertical-align: middle;\n    }\n\n    .dataframe tbody tr th {\n        vertical-align: top;\n    }\n\n    .dataframe thead th {\n        text-align: right;\n    }\n</style>\n<table border=\"1\" class=\"dataframe\">\n  <thead>\n    <tr style=\"text-align: right;\">\n      <th></th>\n      <th>hospital_id</th>\n      <th>chrch_affl_f</th>\n      <th>updated_dt</th>\n    </tr>\n  </thead>\n  <tbody>\n    <tr>\n      <th>0</th>\n      <td>1</td>\n      <td>0</td>\n      <td>2023-11-20</td>\n    </tr>\n    <tr>\n      <th>1</th>\n      <td>2</td>\n      <td>0</td>\n      <td>2023-11-20</td>\n    </tr>\n    <tr>\n      <th>2</th>\n      <td>3</td>\n      <td>0</td>\n      <td>2023-11-20</td>\n    </tr>\n    <tr>\n      <th>3</th>\n      <td>4</td>\n      <td>0</td>\n      <td>2023-11-20</td>\n    </tr>\n    <tr>\n      <th>4</th>\n      <td>5</td>\n      <td>0</td>\n      <td>2023-11-20</td>\n    </tr>\n    <tr>\n      <th>...</th>\n      <td>...</td>\n      <td>...</td>\n      <td>...</td>\n    </tr>\n    <tr>\n      <th>3486</th>\n      <td>3487</td>\n      <td>0</td>\n      <td>2023-11-20</td>\n    </tr>\n    <tr>\n      <th>3487</th>\n      <td>3488</td>\n      <td>0</td>\n      <td>2023-11-20</td>\n    </tr>\n    <tr>\n      <th>3488</th>\n      <td>3489</td>\n      <td>0</td>\n      <td>2023-11-20</td>\n    </tr>\n    <tr>\n      <th>3489</th>\n      <td>3490</td>\n      <td>0</td>\n      <td>2023-11-20</td>\n    </tr>\n    <tr>\n      <th>3490</th>\n      <td>3491</td>\n      <td>0</td>\n      <td>2023-11-20</td>\n    </tr>\n  </tbody>\n</table>\n<p>3491 rows × 3 columns</p>\n</div>"
     },
     "execution_count": 230,
     "metadata": {},
     "output_type": "execute_result"
    }
   ],
   "source": [
    "# Church Affiliation Table\n",
    "church_affiliation = hospital_df[['hospital_id', 'chrch_affl_f', 'updated_dt']]\n",
    "church_affiliation"
   ]
  },
  {
   "cell_type": "code",
   "execution_count": 231,
   "id": "603afe4c",
   "metadata": {
    "ExecuteTime": {
     "end_time": "2024-02-23T03:02:57.613269400Z",
     "start_time": "2024-02-23T03:02:57.569260400Z"
    }
   },
   "outputs": [
    {
     "data": {
      "text/plain": "      capacity_id hospital_bed_size  hospital_bed_count  updated_dt\n0            2381         <100 beds                  99  2023-11-20\n1            1270         >299 beds                 362  2023-11-20\n2             667      100-299 beds                 252  2023-11-20\n3             556      100-299 beds                 106  2023-11-20\n4             445         <100 beds                  60  2023-11-20\n...           ...               ...                 ...         ...\n3486          730         <100 beds                  16  2023-11-20\n3487          729         <100 beds                   7  2023-11-20\n3488          728         <100 beds                  63  2023-11-20\n3489          726         <100 beds                  46  2023-11-20\n3490          725         <100 beds                  59  2023-11-20\n\n[3491 rows x 4 columns]",
      "text/html": "<div>\n<style scoped>\n    .dataframe tbody tr th:only-of-type {\n        vertical-align: middle;\n    }\n\n    .dataframe tbody tr th {\n        vertical-align: top;\n    }\n\n    .dataframe thead th {\n        text-align: right;\n    }\n</style>\n<table border=\"1\" class=\"dataframe\">\n  <thead>\n    <tr style=\"text-align: right;\">\n      <th></th>\n      <th>capacity_id</th>\n      <th>hospital_bed_size</th>\n      <th>hospital_bed_count</th>\n      <th>updated_dt</th>\n    </tr>\n  </thead>\n  <tbody>\n    <tr>\n      <th>0</th>\n      <td>2381</td>\n      <td>&lt;100 beds</td>\n      <td>99</td>\n      <td>2023-11-20</td>\n    </tr>\n    <tr>\n      <th>1</th>\n      <td>1270</td>\n      <td>&gt;299 beds</td>\n      <td>362</td>\n      <td>2023-11-20</td>\n    </tr>\n    <tr>\n      <th>2</th>\n      <td>667</td>\n      <td>100-299 beds</td>\n      <td>252</td>\n      <td>2023-11-20</td>\n    </tr>\n    <tr>\n      <th>3</th>\n      <td>556</td>\n      <td>100-299 beds</td>\n      <td>106</td>\n      <td>2023-11-20</td>\n    </tr>\n    <tr>\n      <th>4</th>\n      <td>445</td>\n      <td>&lt;100 beds</td>\n      <td>60</td>\n      <td>2023-11-20</td>\n    </tr>\n    <tr>\n      <th>...</th>\n      <td>...</td>\n      <td>...</td>\n      <td>...</td>\n      <td>...</td>\n    </tr>\n    <tr>\n      <th>3486</th>\n      <td>730</td>\n      <td>&lt;100 beds</td>\n      <td>16</td>\n      <td>2023-11-20</td>\n    </tr>\n    <tr>\n      <th>3487</th>\n      <td>729</td>\n      <td>&lt;100 beds</td>\n      <td>7</td>\n      <td>2023-11-20</td>\n    </tr>\n    <tr>\n      <th>3488</th>\n      <td>728</td>\n      <td>&lt;100 beds</td>\n      <td>63</td>\n      <td>2023-11-20</td>\n    </tr>\n    <tr>\n      <th>3489</th>\n      <td>726</td>\n      <td>&lt;100 beds</td>\n      <td>46</td>\n      <td>2023-11-20</td>\n    </tr>\n    <tr>\n      <th>3490</th>\n      <td>725</td>\n      <td>&lt;100 beds</td>\n      <td>59</td>\n      <td>2023-11-20</td>\n    </tr>\n  </tbody>\n</table>\n<p>3491 rows × 4 columns</p>\n</div>"
     },
     "execution_count": 231,
     "metadata": {},
     "output_type": "execute_result"
    }
   ],
   "source": [
    "# Hospital Capacity Table extracting data from hospital_df\n",
    "hospital_capacity = hospital_df[['capacity_id', 'hospital_bed_size', 'hospital_bed_count', 'updated_dt']]\n",
    "hospital_capacity"
   ]
  },
  {
   "cell_type": "code",
   "execution_count": 232,
   "id": "9a1633c9",
   "metadata": {
    "ExecuteTime": {
     "end_time": "2024-02-23T03:02:57.628274100Z",
     "start_time": "2024-02-23T03:02:57.575262400Z"
    }
   },
   "outputs": [
    {
     "data": {
      "text/plain": "     hospital_id  children_hospital_f  updated_dt\n0              1                    0  2023-11-20\n1              2                    0  2023-11-20\n2              3                    0  2023-11-20\n3              4                    0  2023-11-20\n4              5                    0  2023-11-20\n...          ...                  ...         ...\n3486        3487                    0  2023-11-20\n3487        3488                    0  2023-11-20\n3488        3489                    0  2023-11-20\n3489        3490                    0  2023-11-20\n3490        3491                    0  2023-11-20\n\n[3491 rows x 3 columns]",
      "text/html": "<div>\n<style scoped>\n    .dataframe tbody tr th:only-of-type {\n        vertical-align: middle;\n    }\n\n    .dataframe tbody tr th {\n        vertical-align: top;\n    }\n\n    .dataframe thead th {\n        text-align: right;\n    }\n</style>\n<table border=\"1\" class=\"dataframe\">\n  <thead>\n    <tr style=\"text-align: right;\">\n      <th></th>\n      <th>hospital_id</th>\n      <th>children_hospital_f</th>\n      <th>updated_dt</th>\n    </tr>\n  </thead>\n  <tbody>\n    <tr>\n      <th>0</th>\n      <td>1</td>\n      <td>0</td>\n      <td>2023-11-20</td>\n    </tr>\n    <tr>\n      <th>1</th>\n      <td>2</td>\n      <td>0</td>\n      <td>2023-11-20</td>\n    </tr>\n    <tr>\n      <th>2</th>\n      <td>3</td>\n      <td>0</td>\n      <td>2023-11-20</td>\n    </tr>\n    <tr>\n      <th>3</th>\n      <td>4</td>\n      <td>0</td>\n      <td>2023-11-20</td>\n    </tr>\n    <tr>\n      <th>4</th>\n      <td>5</td>\n      <td>0</td>\n      <td>2023-11-20</td>\n    </tr>\n    <tr>\n      <th>...</th>\n      <td>...</td>\n      <td>...</td>\n      <td>...</td>\n    </tr>\n    <tr>\n      <th>3486</th>\n      <td>3487</td>\n      <td>0</td>\n      <td>2023-11-20</td>\n    </tr>\n    <tr>\n      <th>3487</th>\n      <td>3488</td>\n      <td>0</td>\n      <td>2023-11-20</td>\n    </tr>\n    <tr>\n      <th>3488</th>\n      <td>3489</td>\n      <td>0</td>\n      <td>2023-11-20</td>\n    </tr>\n    <tr>\n      <th>3489</th>\n      <td>3490</td>\n      <td>0</td>\n      <td>2023-11-20</td>\n    </tr>\n    <tr>\n      <th>3490</th>\n      <td>3491</td>\n      <td>0</td>\n      <td>2023-11-20</td>\n    </tr>\n  </tbody>\n</table>\n<p>3491 rows × 3 columns</p>\n</div>"
     },
     "execution_count": 232,
     "metadata": {},
     "output_type": "execute_result"
    }
   ],
   "source": [
    "# Children Hospital Table - extracting data from hospital_df\n",
    "children_hospital= hospital_df[['hospital_id', 'children_hospital_f', 'updated_dt']]\n",
    "children_hospital"
   ]
  },
  {
   "cell_type": "code",
   "execution_count": 233,
   "id": "8fed0bb3",
   "metadata": {
    "ExecuteTime": {
     "end_time": "2024-02-23T03:02:57.693287700Z",
     "start_time": "2024-02-23T03:02:57.588264100Z"
    }
   },
   "outputs": [
    {
     "data": {
      "text/plain": "     hospital_id  memb_counc_teach_hosps_f  updated_dt\n0              1                         0  2023-11-20\n1              2                         1  2023-11-20\n2              3                         0  2023-11-20\n3              4                         1  2023-11-20\n4              5                         0  2023-11-20\n...          ...                       ...         ...\n3486        3487                         0  2023-11-20\n3487        3488                         0  2023-11-20\n3488        3489                         0  2023-11-20\n3489        3490                         0  2023-11-20\n3490        3491                         0  2023-11-20\n\n[3491 rows x 3 columns]",
      "text/html": "<div>\n<style scoped>\n    .dataframe tbody tr th:only-of-type {\n        vertical-align: middle;\n    }\n\n    .dataframe tbody tr th {\n        vertical-align: top;\n    }\n\n    .dataframe thead th {\n        text-align: right;\n    }\n</style>\n<table border=\"1\" class=\"dataframe\">\n  <thead>\n    <tr style=\"text-align: right;\">\n      <th></th>\n      <th>hospital_id</th>\n      <th>memb_counc_teach_hosps_f</th>\n      <th>updated_dt</th>\n    </tr>\n  </thead>\n  <tbody>\n    <tr>\n      <th>0</th>\n      <td>1</td>\n      <td>0</td>\n      <td>2023-11-20</td>\n    </tr>\n    <tr>\n      <th>1</th>\n      <td>2</td>\n      <td>1</td>\n      <td>2023-11-20</td>\n    </tr>\n    <tr>\n      <th>2</th>\n      <td>3</td>\n      <td>0</td>\n      <td>2023-11-20</td>\n    </tr>\n    <tr>\n      <th>3</th>\n      <td>4</td>\n      <td>1</td>\n      <td>2023-11-20</td>\n    </tr>\n    <tr>\n      <th>4</th>\n      <td>5</td>\n      <td>0</td>\n      <td>2023-11-20</td>\n    </tr>\n    <tr>\n      <th>...</th>\n      <td>...</td>\n      <td>...</td>\n      <td>...</td>\n    </tr>\n    <tr>\n      <th>3486</th>\n      <td>3487</td>\n      <td>0</td>\n      <td>2023-11-20</td>\n    </tr>\n    <tr>\n      <th>3487</th>\n      <td>3488</td>\n      <td>0</td>\n      <td>2023-11-20</td>\n    </tr>\n    <tr>\n      <th>3488</th>\n      <td>3489</td>\n      <td>0</td>\n      <td>2023-11-20</td>\n    </tr>\n    <tr>\n      <th>3489</th>\n      <td>3490</td>\n      <td>0</td>\n      <td>2023-11-20</td>\n    </tr>\n    <tr>\n      <th>3490</th>\n      <td>3491</td>\n      <td>0</td>\n      <td>2023-11-20</td>\n    </tr>\n  </tbody>\n</table>\n<p>3491 rows × 3 columns</p>\n</div>"
     },
     "execution_count": 233,
     "metadata": {},
     "output_type": "execute_result"
    }
   ],
   "source": [
    "# Teaching Table - extracting data from hospital_df\n",
    "teaching = hospital_df[['hospital_id', 'memb_counc_teach_hosps_f', 'updated_dt']]\n",
    "teaching"
   ]
  },
  {
   "cell_type": "code",
   "execution_count": 236,
   "id": "c898e0f5",
   "metadata": {
    "ExecuteTime": {
     "end_time": "2024-02-23T03:04:58.325893800Z",
     "start_time": "2024-02-23T03:04:58.263879800Z"
    }
   },
   "outputs": [
    {
     "ename": "KeyError",
     "evalue": "\"['urban_id'] not in index\"",
     "output_type": "error",
     "traceback": [
      "\u001B[1;31m---------------------------------------------------------------------------\u001B[0m",
      "\u001B[1;31mKeyError\u001B[0m                                  Traceback (most recent call last)",
      "Cell \u001B[1;32mIn[236], line 2\u001B[0m\n\u001B[0;32m      1\u001B[0m \u001B[38;5;66;03m# Urban Table\u001B[39;00m\n\u001B[1;32m----> 2\u001B[0m urban \u001B[38;5;241m=\u001B[39m \u001B[43mhospital_df\u001B[49m\u001B[43m[\u001B[49m\u001B[43m[\u001B[49m\u001B[38;5;124;43m'\u001B[39;49m\u001B[38;5;124;43murban_id\u001B[39;49m\u001B[38;5;124;43m'\u001B[39;49m\u001B[43m,\u001B[49m\u001B[38;5;124;43m'\u001B[39;49m\u001B[38;5;124;43murban_location_f\u001B[39;49m\u001B[38;5;124;43m'\u001B[39;49m\u001B[43m,\u001B[49m\u001B[43m \u001B[49m\u001B[38;5;124;43m'\u001B[39;49m\u001B[38;5;124;43mupdated_dt\u001B[39;49m\u001B[38;5;124;43m'\u001B[39;49m\u001B[43m,\u001B[49m\u001B[38;5;124;43m'\u001B[39;49m\u001B[38;5;124;43mhospital_id\u001B[39;49m\u001B[38;5;124;43m'\u001B[39;49m\u001B[43m]\u001B[49m\u001B[43m]\u001B[49m\n\u001B[0;32m      3\u001B[0m urban\n",
      "File \u001B[1;32m~\\anaconda3\\lib\\site-packages\\pandas\\core\\frame.py:3813\u001B[0m, in \u001B[0;36mDataFrame.__getitem__\u001B[1;34m(self, key)\u001B[0m\n\u001B[0;32m   3811\u001B[0m     \u001B[38;5;28;01mif\u001B[39;00m is_iterator(key):\n\u001B[0;32m   3812\u001B[0m         key \u001B[38;5;241m=\u001B[39m \u001B[38;5;28mlist\u001B[39m(key)\n\u001B[1;32m-> 3813\u001B[0m     indexer \u001B[38;5;241m=\u001B[39m \u001B[38;5;28;43mself\u001B[39;49m\u001B[38;5;241;43m.\u001B[39;49m\u001B[43mcolumns\u001B[49m\u001B[38;5;241;43m.\u001B[39;49m\u001B[43m_get_indexer_strict\u001B[49m\u001B[43m(\u001B[49m\u001B[43mkey\u001B[49m\u001B[43m,\u001B[49m\u001B[43m \u001B[49m\u001B[38;5;124;43m\"\u001B[39;49m\u001B[38;5;124;43mcolumns\u001B[39;49m\u001B[38;5;124;43m\"\u001B[39;49m\u001B[43m)\u001B[49m[\u001B[38;5;241m1\u001B[39m]\n\u001B[0;32m   3815\u001B[0m \u001B[38;5;66;03m# take() does not accept boolean indexers\u001B[39;00m\n\u001B[0;32m   3816\u001B[0m \u001B[38;5;28;01mif\u001B[39;00m \u001B[38;5;28mgetattr\u001B[39m(indexer, \u001B[38;5;124m\"\u001B[39m\u001B[38;5;124mdtype\u001B[39m\u001B[38;5;124m\"\u001B[39m, \u001B[38;5;28;01mNone\u001B[39;00m) \u001B[38;5;241m==\u001B[39m \u001B[38;5;28mbool\u001B[39m:\n",
      "File \u001B[1;32m~\\anaconda3\\lib\\site-packages\\pandas\\core\\indexes\\base.py:6070\u001B[0m, in \u001B[0;36mIndex._get_indexer_strict\u001B[1;34m(self, key, axis_name)\u001B[0m\n\u001B[0;32m   6067\u001B[0m \u001B[38;5;28;01melse\u001B[39;00m:\n\u001B[0;32m   6068\u001B[0m     keyarr, indexer, new_indexer \u001B[38;5;241m=\u001B[39m \u001B[38;5;28mself\u001B[39m\u001B[38;5;241m.\u001B[39m_reindex_non_unique(keyarr)\n\u001B[1;32m-> 6070\u001B[0m \u001B[38;5;28;43mself\u001B[39;49m\u001B[38;5;241;43m.\u001B[39;49m\u001B[43m_raise_if_missing\u001B[49m\u001B[43m(\u001B[49m\u001B[43mkeyarr\u001B[49m\u001B[43m,\u001B[49m\u001B[43m \u001B[49m\u001B[43mindexer\u001B[49m\u001B[43m,\u001B[49m\u001B[43m \u001B[49m\u001B[43maxis_name\u001B[49m\u001B[43m)\u001B[49m\n\u001B[0;32m   6072\u001B[0m keyarr \u001B[38;5;241m=\u001B[39m \u001B[38;5;28mself\u001B[39m\u001B[38;5;241m.\u001B[39mtake(indexer)\n\u001B[0;32m   6073\u001B[0m \u001B[38;5;28;01mif\u001B[39;00m \u001B[38;5;28misinstance\u001B[39m(key, Index):\n\u001B[0;32m   6074\u001B[0m     \u001B[38;5;66;03m# GH 42790 - Preserve name from an Index\u001B[39;00m\n",
      "File \u001B[1;32m~\\anaconda3\\lib\\site-packages\\pandas\\core\\indexes\\base.py:6133\u001B[0m, in \u001B[0;36mIndex._raise_if_missing\u001B[1;34m(self, key, indexer, axis_name)\u001B[0m\n\u001B[0;32m   6130\u001B[0m     \u001B[38;5;28;01mraise\u001B[39;00m \u001B[38;5;167;01mKeyError\u001B[39;00m(\u001B[38;5;124mf\u001B[39m\u001B[38;5;124m\"\u001B[39m\u001B[38;5;124mNone of [\u001B[39m\u001B[38;5;132;01m{\u001B[39;00mkey\u001B[38;5;132;01m}\u001B[39;00m\u001B[38;5;124m] are in the [\u001B[39m\u001B[38;5;132;01m{\u001B[39;00maxis_name\u001B[38;5;132;01m}\u001B[39;00m\u001B[38;5;124m]\u001B[39m\u001B[38;5;124m\"\u001B[39m)\n\u001B[0;32m   6132\u001B[0m not_found \u001B[38;5;241m=\u001B[39m \u001B[38;5;28mlist\u001B[39m(ensure_index(key)[missing_mask\u001B[38;5;241m.\u001B[39mnonzero()[\u001B[38;5;241m0\u001B[39m]]\u001B[38;5;241m.\u001B[39munique())\n\u001B[1;32m-> 6133\u001B[0m \u001B[38;5;28;01mraise\u001B[39;00m \u001B[38;5;167;01mKeyError\u001B[39;00m(\u001B[38;5;124mf\u001B[39m\u001B[38;5;124m\"\u001B[39m\u001B[38;5;132;01m{\u001B[39;00mnot_found\u001B[38;5;132;01m}\u001B[39;00m\u001B[38;5;124m not in index\u001B[39m\u001B[38;5;124m\"\u001B[39m)\n",
      "\u001B[1;31mKeyError\u001B[0m: \"['urban_id'] not in index\""
     ]
    }
   ],
   "source": [
    "# Urban Table\n",
    "urban = hospital_df[['urban_id','urban_location_f', 'updated_dt','hospital_id']]\n",
    "urban"
   ]
  },
  {
   "cell_type": "code",
   "outputs": [],
   "source": [
    "# Address/Location Table\n",
    "Address = hospital_df[['address_id', 'street_address','city','state','zip_code','fips_state_and_county_code','county','updated_dt']]\n",
    "Address"
   ],
   "metadata": {
    "collapsed": false,
    "ExecuteTime": {
     "start_time": "2024-02-23T03:02:57.668282400Z"
    }
   },
   "id": "369a9b0328f7963",
   "execution_count": null
  },
  {
   "cell_type": "code",
   "execution_count": null,
   "id": "e47097b4",
   "metadata": {
    "ExecuteTime": {
     "start_time": "2024-02-23T03:02:57.670282500Z"
    }
   },
   "outputs": [],
   "source": [
    "# connect to database\n",
    "\n",
    "username = \"jeremiahf24\"\n",
    "password = \"$ads507password\"\n",
    "hostName = \"ads507finalproject.mysql.database.azure.com\"\n",
    "\n",
    "conn = pymysql.connect(host=hostName,\n",
    "                       port=3306,\n",
    "                       user=username,\n",
    "                       passwd=password, \n",
    "                       db= \"ads507final\", \n",
    "                       ssl={\"fake_flag_to_enable_tls\": True})"
   ]
  },
  {
   "cell_type": "code",
   "execution_count": null,
   "id": "389f3fe6",
   "metadata": {
    "ExecuteTime": {
     "start_time": "2024-02-23T03:02:57.672283600Z"
    }
   },
   "outputs": [],
   "source": [
    "tableNames=pd.read_sql_query(\"\"\"SHOW TABLES\"\"\", conn)\n",
    "\n",
    "# print table names \n",
    "tableNames"
   ]
  },
  {
   "cell_type": "code",
   "execution_count": null,
   "id": "a7579f63",
   "metadata": {
    "ExecuteTime": {
     "start_time": "2024-02-23T03:02:57.675283700Z"
    }
   },
   "outputs": [],
   "source": [
    "# hospital table - convert df to list of tuples\n",
    "hospital_data = [tuple(x) for x in hospital.values]\n",
    "\n",
    "# SQL query - insert data into hospital table\n",
    "sql_insert_hospital = \"\"\"\n",
    "INSERT INTO hospital (hospital_id, hospital_org_id, name, ein, medicare_provider_number, Address_id, capacity_id, updated_dt)\n",
    "VALUES (%s, %s, %s, %s, %s, %s, %s, %s)\n",
    "\"\"\"\n",
    "\n",
    "# check if insertion is needed\n",
    "if hospital_data:\n",
    "    # execute query \n",
    "    cursor = conn.cursor()\n",
    "    try:\n",
    "        cursor.executemany(sql_insert_hospital, hospital_data)\n",
    "        conn.commit()\n",
    "    except IntegrityError as e:\n",
    "        print(\"Error\", e)\n",
    "        conn.rollback()  # rollback the transaction if an error \n",
    "    finally:\n",
    "        cursor.close()\n",
    "else:\n",
    "    print(\"No new data to insert into hospital table.\")"
   ]
  },
  {
   "cell_type": "code",
   "execution_count": null,
   "id": "60b696d3",
   "metadata": {
    "ExecuteTime": {
     "start_time": "2024-02-23T03:02:57.676284300Z"
    }
   },
   "outputs": [],
   "source": [
    "# children hospital table - convert df to list of tuples\n",
    "children_hospital_data = [tuple(x) for x in children_hospital.values]\n",
    "\n",
    "# SQL query - insert data into children_hospital table\n",
    "sql_insert_children_hospital = \"\"\"\n",
    "INSERT INTO children_hospital(hospital_id, children_hospital_f, updated_dt)\n",
    "VALUES (%s, %s, %s)\n",
    "\"\"\"\n",
    "\n",
    "# check if insertion is needed\n",
    "if children_hospital_data:\n",
    "    # execute query\n",
    "    cursor = conn.cursor()\n",
    "    try:\n",
    "        cursor.executemany(sql_insert_children_hospital, children_hospital_data)\n",
    "        conn.commit()\n",
    "    except IntegrityError as e:\n",
    "        print(\"Error\", e)\n",
    "        conn.rollback()  # rollback the transaction if an error occurs \n",
    "    finally:\n",
    "        cursor.close()\n",
    "else:\n",
    "    print(\"No new data to insert into children_hospital table.\")"
   ]
  },
  {
   "cell_type": "code",
   "execution_count": null,
   "id": "2aec0bb2",
   "metadata": {
    "ExecuteTime": {
     "start_time": "2024-02-23T03:02:57.678284400Z"
    }
   },
   "outputs": [],
   "source": [
    "# hospital_capacity table - convert df to list of tuples\n",
    "hospital_capacity_data = [tuple(x) for x in hospital_capacity.values]\n",
    "\n",
    "# SQL query - insert data into hospital_capacity table\n",
    "sql_insert_hospital_capacity = \"\"\"\n",
    "INSERT INTO hospital_capacity (capacity_id, hospital_bed_size, hospital_bed_count, updated_dt)\n",
    "VALUES (%s, %s, %s, %s)\n",
    "\"\"\"\n",
    "\n",
    "# check if insertion is needed\n",
    "if hospital_capacity_data:\n",
    "    # execute query \n",
    "    cursor = conn.cursor()\n",
    "    try:\n",
    "        cursor.executemany(sql_insert_hospital_capacity, hospital_capacity_data)\n",
    "        conn.commit()\n",
    "    except IntegrityError as e:\n",
    "        print(\"Error\", e)\n",
    "        conn.rollback()  # rollback the transaction if an error \n",
    "    finally:\n",
    "        cursor.close()\n",
    "else:\n",
    "    print(\"No new data to insert into hospital_capacity table.\")"
   ]
  },
  {
   "cell_type": "code",
   "execution_count": null,
   "id": "30c5eb71",
   "metadata": {
    "ExecuteTime": {
     "start_time": "2024-02-23T03:02:57.680284600Z"
    }
   },
   "outputs": [],
   "source": [
    "# teaching table - convert df to list of tuples\n",
    "teaching_data = [tuple(x) for x in teaching.values]\n",
    "\n",
    "# SQL query - insert data into children_hospital table\n",
    "sql_insert_teaching = \"\"\"\n",
    "INSERT INTO teaching (hospital_id, memb_counc_teach_hosps_f, updated_dt)\n",
    "VALUES (%s, %s, %s)\n",
    "\"\"\"\n",
    "\n",
    "# execute query \n",
    "if teaching_data:\n",
    "    # Execute query \n",
    "    cursor = conn.cursor()\n",
    "    try:\n",
    "        cursor.executemany(sql_insert_teaching, teaching_data)\n",
    "        conn.commit()\n",
    "    except IntegrityError as e:\n",
    "        print(\"Error\", e)\n",
    "        conn.rollback()  # rollback the transaction if an error occurs \n",
    "    finally:\n",
    "        cursor.close()\n",
    "else:\n",
    "    print(\"No new data to insert into teaching table.\")"
   ]
  },
  {
   "cell_type": "code",
   "execution_count": null,
   "id": "04bb975a",
   "metadata": {
    "ExecuteTime": {
     "start_time": "2024-02-23T03:02:57.682285500Z"
    }
   },
   "outputs": [],
   "source": [
    "# church_affiliation table - convert df to list of tuples\n",
    "church_affiliation_data = [tuple(x) for x in church_affiliation.values]\n",
    "\n",
    "# SQL query - insert data into church_affiliation table\n",
    "sql_insert_church_affiliation = \"\"\"\n",
    "INSERT INTO church_affiliation (hospital_id, chrch_affl_f, updated_dt)\n",
    "VALUES (%s, %s, %s)\n",
    "\"\"\"\n",
    "\n",
    "# execute query \n",
    "if church_affiliation_data:\n",
    "    # Execute query \n",
    "    cursor = conn.cursor()\n",
    "    try:\n",
    "        cursor.executemany(sql_insert_church_affiliation, church_affiliation_data)\n",
    "        conn.commit()\n",
    "    except IntegrityError as e:\n",
    "        print(\"Error\", e)\n",
    "        conn.rollback()  # rollback the transaction if an error occurs \n",
    "    finally:\n",
    "        cursor.close()\n",
    "else:\n",
    "    print(\"No new data to insert into church_affiliation table.\")"
   ]
  },
  {
   "cell_type": "code",
   "outputs": [],
   "source": [
    "# Address/Location table - convert df to list of tuples\n",
    "address_data = [tuple(x) for x in Address.values]\n",
    "\n",
    "# SQL query - insert data into address table\n",
    "sql_insert_address_data = \"\"\"\n",
    "INSERT INTO address_location (Address_id, Street_address, City, State, Zip_code, fips_state_and_county_code, county, Updated_dt)\n",
    "VALUES (%s, %s, %s, %s, %s, %s, %s, %s)\n",
    "\"\"\"\n",
    "\n",
    "# execute query \n",
    "if address_data:\n",
    "    # Execute query \n",
    "    cursor = conn.cursor()\n",
    "    try:\n",
    "        cursor.executemany(sql_insert_address_data, address_data)\n",
    "        conn.commit()\n",
    "    except IntegrityError as e:\n",
    "        print(\"Error\", e)\n",
    "        conn.rollback()  # rollback the transaction if an error occurs \n",
    "    finally:\n",
    "        cursor.close()\n",
    "else:\n",
    "    print(\"No new data to insert into address_location table.\")"
   ],
   "metadata": {
    "collapsed": false,
    "ExecuteTime": {
     "start_time": "2024-02-23T03:02:57.683285800Z"
    }
   },
   "id": "1049e3ded8e38a9b",
   "execution_count": null
  },
  {
   "cell_type": "code",
   "outputs": [],
   "source": [
    "# Urban table - convert df to list of tuples\n",
    "urban_data = [tuple(x) for x in urban.values]\n",
    "\n",
    "# SQL query - insert data into address table\n",
    "sql_insert_urban_data = \"\"\"\n",
    "INSERT INTO urban (Urban_id, urban_location_f, updated_dt, hospital_id)\n",
    "VALUES (%s, %s, %s, %s)\n",
    "\"\"\"\n",
    "\n",
    "# execute query \n",
    "if urban_data:\n",
    "    # Execute query \n",
    "    cursor = conn.cursor()\n",
    "    try:\n",
    "        cursor.executemany(sql_insert_urban_data, urban_data)\n",
    "        conn.commit()\n",
    "    except IntegrityError as e:\n",
    "        print(\"Error\", e)\n",
    "        conn.rollback()  # rollback the transaction if an error occurs \n",
    "    finally:\n",
    "        cursor.close()\n",
    "else:\n",
    "    print(\"No new data to insert into urban table.\")"
   ],
   "metadata": {
    "collapsed": false,
    "ExecuteTime": {
     "start_time": "2024-02-23T03:02:57.684286Z"
    }
   },
   "id": "2134dfc4e0ce06ea",
   "execution_count": null
  },
  {
   "cell_type": "code",
   "outputs": [],
   "source": [
    "# Create a cursor\n",
    "cursor = conn.cursor()\n",
    "\n",
    "# Execute SQL queries to get table names\n",
    "cursor.execute(\"SHOW TABLES\")\n",
    "\n",
    "# Fetch all the tables\n",
    "tables = cursor.fetchall()\n",
    "\n",
    "for table in tables:\n",
    "        table_name = table[0]\n",
    "\n",
    "        # Execute SQL query to fetch sample data from each table\n",
    "        cursor.execute(f\"SELECT * FROM {table_name} LIMIT 5\")\n",
    "\n",
    "        # Fetch and print sample data\n",
    "        sample_data = cursor.fetchall()\n",
    "        print(f\"Sample data from table '{table_name}':\")\n",
    "        for row in sample_data:\n",
    "            print(row)"
   ],
   "metadata": {
    "ExecuteTime": {
     "start_time": "2024-02-23T03:02:57.685286400Z"
    }
   },
   "id": "3f4c4d3e",
   "execution_count": null
  }
 ],
 "metadata": {
  "kernelspec": {
   "display_name": "Python 3 (ipykernel)",
   "language": "python",
   "name": "python3"
  },
  "language_info": {
   "codemirror_mode": {
    "name": "ipython",
    "version": 3
   },
   "file_extension": ".py",
   "mimetype": "text/x-python",
   "name": "python",
   "nbconvert_exporter": "python",
   "pygments_lexer": "ipython3",
   "version": "3.11.4"
  }
 },
 "nbformat": 4,
 "nbformat_minor": 5
}
