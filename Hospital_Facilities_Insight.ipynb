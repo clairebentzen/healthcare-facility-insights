{
 "cells": [
  {
   "cell_type": "markdown",
   "id": "fb452d61",
   "metadata": {},
   "source": [
    "# Hospital Facilities Insight \n",
    "\n",
    "Data obtained from Community Benefits Insight: http://www.communitybenefitinsight.org/api/get_hospitals.php"
   ]
  },
  {
   "cell_type": "markdown",
   "id": "cbd8fe43",
   "metadata": {},
   "source": [
    "## Import Libaries"
   ]
  },
  {
   "cell_type": "code",
   "execution_count": 189,
   "id": "3d73b33f",
   "metadata": {
    "ExecuteTime": {
     "end_time": "2024-02-23T02:45:51.640723Z",
     "start_time": "2024-02-23T02:45:51.518619800Z"
    }
   },
   "outputs": [],
   "source": [
    "# import appropriate packages\n",
    "import os\n",
    "import requests\n",
    "import json \n",
    "import pandas as pd\n",
    "from datetime import datetime\n",
    "import matplotlib.pyplot as plt\n",
    "import seaborn as sns\n",
    "import pymysql.cursors\n",
    "from pymysql import IntegrityError\n",
    "\n",
    "import warnings\n",
    "warnings.filterwarnings(\"ignore\") #supress warnings"
   ]
  },
  {
   "cell_type": "markdown",
   "id": "b1e598fd",
   "metadata": {},
   "source": [
    "## Import Data"
   ]
  },
  {
   "cell_type": "code",
   "execution_count": 190,
   "id": "0f90bd92",
   "metadata": {
    "ExecuteTime": {
     "end_time": "2024-02-23T02:45:52.130598Z",
     "start_time": "2024-02-23T02:45:51.646724200Z"
    }
   },
   "outputs": [
    {
     "name": "stdout",
     "output_type": "stream",
     "text": [
      "     hospital_id hospital_org_id        ein  \\\n",
      "0              1               1  630307951   \n",
      "1              2               2  630578923   \n",
      "2              3               3  630312913   \n",
      "3              4               4  630459034   \n",
      "4              5               5  581973570   \n",
      "...          ...             ...        ...   \n",
      "3486        3487            2647  813040663   \n",
      "3487        3488            2304  741109643   \n",
      "3488        3489            2648  831954982   \n",
      "3489        3490            2302  750800661   \n",
      "3490        3491            2649  831869297   \n",
      "\n",
      "                                     name  \\\n",
      "0                Mizell Memorial Hospital   \n",
      "1                        St Vincents East   \n",
      "2           Shelby Baptist Medical Center   \n",
      "3            Callahan Eye Foundation Hosp   \n",
      "4                 Cherokee Medical Center   \n",
      "...                                   ...   \n",
      "3486          Bsw Medical Center - Austin   \n",
      "3487              Ascension Seton Bastrop   \n",
      "3488         Texas Health Hospital Frisco   \n",
      "3489  Methodist Midlothian Medical Center   \n",
      "3490      Texas Health Hospital Mansfield   \n",
      "\n",
      "                                  name_cr              street_address  \\\n",
      "0                Mizell Memorial Hospital             702 Main Street   \n",
      "1                        St Vincents East  50 Medical Park Drive East   \n",
      "2           Shelby Baptist Medical Center     1000 First Street North   \n",
      "3            Callahan Eye Foundation Hosp   1720 University Boulevard   \n",
      "4                 Cherokee Medical Center         400 Northwood Drive   \n",
      "...                                   ...                         ...   \n",
      "3486          Bsw Medical Center - Austin               5245 W Us 290   \n",
      "3487              Ascension Seton Bastrop            630 Highway 71 W   \n",
      "3488         Texas Health Hospital Frisco      12400 N Dallas Parkway   \n",
      "3489  Methodist Midlothian Medical Center          1201 E Highway 287   \n",
      "3490      Texas Health Hospital Mansfield         2300 Lone Star Road   \n",
      "\n",
      "            city state zip_code fips_state_and_county_code hospital_bed_count  \\\n",
      "0            Opp    AL    36462                      01039                 99   \n",
      "1     Birmingham    AL    35235                      01073                362   \n",
      "2      Alabaster    AL    35007                      01117                252   \n",
      "3     Birmingham    AL    35233                      01073                106   \n",
      "4         Centre    AL    35960                      01019                 60   \n",
      "...          ...   ...      ...                        ...                ...   \n",
      "3486      Austin    TX    78735                      48453                 16   \n",
      "3487     Bastrop    TX    78602                      48021                  7   \n",
      "3488      Frisco    TX    75033                      48121                 63   \n",
      "3489  Midlothian    TX    76065                      48139                 46   \n",
      "3490   Mansfield    TX    76063                      48439                 59   \n",
      "\n",
      "     chrch_affl_f urban_location_f children_hospital_f  \\\n",
      "0               N                N                   N   \n",
      "1               N                Y                   N   \n",
      "2               N                Y                   N   \n",
      "3               N                Y                   N   \n",
      "4               N                N                   N   \n",
      "...           ...              ...                 ...   \n",
      "3486            N                Y                   N   \n",
      "3487            N                Y                   N   \n",
      "3488            N                Y                   N   \n",
      "3489            N                Y                   N   \n",
      "3490            N                Y                   N   \n",
      "\n",
      "     memb_counc_teach_hosps_f medicare_provider_number            county  \\\n",
      "0                           N                   010007  Covington County   \n",
      "1                           Y                   010011  Jefferson County   \n",
      "2                           N                   010016     Shelby County   \n",
      "3                           Y                   010018  Jefferson County   \n",
      "4                           N                   010022   Cherokee County   \n",
      "...                       ...                      ...               ...   \n",
      "3486                        N                   670136     Travis County   \n",
      "3487                        N                   670143    Bastrop County   \n",
      "3488                        N                   670260     Denton County   \n",
      "3489                        N                   670300      Ellis County   \n",
      "3490                        N                   670309    Tarrant County   \n",
      "\n",
      "     hospital_bed_size         updated_dt  \n",
      "0            <100 beds  November 20, 2023  \n",
      "1            >299 beds  November 20, 2023  \n",
      "2         100-299 beds  November 20, 2023  \n",
      "3         100-299 beds  November 20, 2023  \n",
      "4            <100 beds  November 20, 2023  \n",
      "...                ...                ...  \n",
      "3486         <100 beds  November 20, 2023  \n",
      "3487         <100 beds  November 20, 2023  \n",
      "3488         <100 beds  November 20, 2023  \n",
      "3489         <100 beds  November 20, 2023  \n",
      "3490         <100 beds  November 20, 2023  \n",
      "\n",
      "[3491 rows x 19 columns]\n"
     ]
    }
   ],
   "source": [
    "# API endpoint\n",
    "api_url = 'http://www.communitybenefitinsight.org/api/get_hospitals.php'\n",
    "\n",
    "# requesting data from API\n",
    "response = requests.get(api_url)\n",
    "\n",
    "# check status\n",
    "if response.status_code == 200:\n",
    "    data = response.json()\n",
    "\n",
    "    # data update check\n",
    "    last_modified_header = response.headers.get('Last-Modified')\n",
    "\n",
    "    if last_modified_header:\n",
    "        last_modified = datetime.strptime(last_modified_header, '%a, %d %b %Y %H:%M:%S GMT')\n",
    "        print(f\"Data was last modified: {last_modified}\")\n",
    "\n",
    "    # convert data to dataframe in chunks\n",
    "    chunk_size = 100  # define size of chunk\n",
    "    hospital_dfs = []  # create list to store df \n",
    "\n",
    "    for chunk_start in range(0, len(data), chunk_size):\n",
    "        chunk_end = min(chunk_start + chunk_size, len(data))\n",
    "        chunk_data = data[chunk_start:chunk_end]\n",
    "        hospital_df = pd.DataFrame(chunk_data)\n",
    "        hospital_dfs.append(hospital_df)\n",
    "\n",
    "    # concate all df chunks into one\n",
    "    hospital_df = pd.concat(hospital_dfs, ignore_index=True)\n",
    "\n",
    "    # print df \n",
    "    print(hospital_df)\n",
    "else:\n",
    "    print(f\"Failed to fetch data. Status code: {response.status_code}\")\n",
    "    print(response.text)"
   ]
  },
  {
   "cell_type": "code",
   "execution_count": 191,
   "id": "15fa3a7b",
   "metadata": {
    "ExecuteTime": {
     "end_time": "2024-02-23T02:45:52.166604900Z",
     "start_time": "2024-02-23T02:45:52.132598300Z"
    }
   },
   "outputs": [
    {
     "data": {
      "text/plain": "     hospital_id hospital_org_id        ein  \\\n0              1               1  630307951   \n1              2               2  630578923   \n2              3               3  630312913   \n3              4               4  630459034   \n4              5               5  581973570   \n...          ...             ...        ...   \n3486        3487            2647  813040663   \n3487        3488            2304  741109643   \n3488        3489            2648  831954982   \n3489        3490            2302  750800661   \n3490        3491            2649  831869297   \n\n                                     name  \\\n0                Mizell Memorial Hospital   \n1                        St Vincents East   \n2           Shelby Baptist Medical Center   \n3            Callahan Eye Foundation Hosp   \n4                 Cherokee Medical Center   \n...                                   ...   \n3486          Bsw Medical Center - Austin   \n3487              Ascension Seton Bastrop   \n3488         Texas Health Hospital Frisco   \n3489  Methodist Midlothian Medical Center   \n3490      Texas Health Hospital Mansfield   \n\n                                  name_cr              street_address  \\\n0                Mizell Memorial Hospital             702 Main Street   \n1                        St Vincents East  50 Medical Park Drive East   \n2           Shelby Baptist Medical Center     1000 First Street North   \n3            Callahan Eye Foundation Hosp   1720 University Boulevard   \n4                 Cherokee Medical Center         400 Northwood Drive   \n...                                   ...                         ...   \n3486          Bsw Medical Center - Austin               5245 W Us 290   \n3487              Ascension Seton Bastrop            630 Highway 71 W   \n3488         Texas Health Hospital Frisco      12400 N Dallas Parkway   \n3489  Methodist Midlothian Medical Center          1201 E Highway 287   \n3490      Texas Health Hospital Mansfield         2300 Lone Star Road   \n\n            city state zip_code fips_state_and_county_code hospital_bed_count  \\\n0            Opp    AL    36462                      01039                 99   \n1     Birmingham    AL    35235                      01073                362   \n2      Alabaster    AL    35007                      01117                252   \n3     Birmingham    AL    35233                      01073                106   \n4         Centre    AL    35960                      01019                 60   \n...          ...   ...      ...                        ...                ...   \n3486      Austin    TX    78735                      48453                 16   \n3487     Bastrop    TX    78602                      48021                  7   \n3488      Frisco    TX    75033                      48121                 63   \n3489  Midlothian    TX    76065                      48139                 46   \n3490   Mansfield    TX    76063                      48439                 59   \n\n     chrch_affl_f urban_location_f children_hospital_f  \\\n0               N                N                   N   \n1               N                Y                   N   \n2               N                Y                   N   \n3               N                Y                   N   \n4               N                N                   N   \n...           ...              ...                 ...   \n3486            N                Y                   N   \n3487            N                Y                   N   \n3488            N                Y                   N   \n3489            N                Y                   N   \n3490            N                Y                   N   \n\n     memb_counc_teach_hosps_f medicare_provider_number            county  \\\n0                           N                   010007  Covington County   \n1                           Y                   010011  Jefferson County   \n2                           N                   010016     Shelby County   \n3                           Y                   010018  Jefferson County   \n4                           N                   010022   Cherokee County   \n...                       ...                      ...               ...   \n3486                        N                   670136     Travis County   \n3487                        N                   670143    Bastrop County   \n3488                        N                   670260     Denton County   \n3489                        N                   670300      Ellis County   \n3490                        N                   670309    Tarrant County   \n\n     hospital_bed_size         updated_dt  \n0            <100 beds  November 20, 2023  \n1            >299 beds  November 20, 2023  \n2         100-299 beds  November 20, 2023  \n3         100-299 beds  November 20, 2023  \n4            <100 beds  November 20, 2023  \n...                ...                ...  \n3486         <100 beds  November 20, 2023  \n3487         <100 beds  November 20, 2023  \n3488         <100 beds  November 20, 2023  \n3489         <100 beds  November 20, 2023  \n3490         <100 beds  November 20, 2023  \n\n[3491 rows x 19 columns]",
      "text/html": "<div>\n<style scoped>\n    .dataframe tbody tr th:only-of-type {\n        vertical-align: middle;\n    }\n\n    .dataframe tbody tr th {\n        vertical-align: top;\n    }\n\n    .dataframe thead th {\n        text-align: right;\n    }\n</style>\n<table border=\"1\" class=\"dataframe\">\n  <thead>\n    <tr style=\"text-align: right;\">\n      <th></th>\n      <th>hospital_id</th>\n      <th>hospital_org_id</th>\n      <th>ein</th>\n      <th>name</th>\n      <th>name_cr</th>\n      <th>street_address</th>\n      <th>city</th>\n      <th>state</th>\n      <th>zip_code</th>\n      <th>fips_state_and_county_code</th>\n      <th>hospital_bed_count</th>\n      <th>chrch_affl_f</th>\n      <th>urban_location_f</th>\n      <th>children_hospital_f</th>\n      <th>memb_counc_teach_hosps_f</th>\n      <th>medicare_provider_number</th>\n      <th>county</th>\n      <th>hospital_bed_size</th>\n      <th>updated_dt</th>\n    </tr>\n  </thead>\n  <tbody>\n    <tr>\n      <th>0</th>\n      <td>1</td>\n      <td>1</td>\n      <td>630307951</td>\n      <td>Mizell Memorial Hospital</td>\n      <td>Mizell Memorial Hospital</td>\n      <td>702 Main Street</td>\n      <td>Opp</td>\n      <td>AL</td>\n      <td>36462</td>\n      <td>01039</td>\n      <td>99</td>\n      <td>N</td>\n      <td>N</td>\n      <td>N</td>\n      <td>N</td>\n      <td>010007</td>\n      <td>Covington County</td>\n      <td>&lt;100 beds</td>\n      <td>November 20, 2023</td>\n    </tr>\n    <tr>\n      <th>1</th>\n      <td>2</td>\n      <td>2</td>\n      <td>630578923</td>\n      <td>St Vincents East</td>\n      <td>St Vincents East</td>\n      <td>50 Medical Park Drive East</td>\n      <td>Birmingham</td>\n      <td>AL</td>\n      <td>35235</td>\n      <td>01073</td>\n      <td>362</td>\n      <td>N</td>\n      <td>Y</td>\n      <td>N</td>\n      <td>Y</td>\n      <td>010011</td>\n      <td>Jefferson County</td>\n      <td>&gt;299 beds</td>\n      <td>November 20, 2023</td>\n    </tr>\n    <tr>\n      <th>2</th>\n      <td>3</td>\n      <td>3</td>\n      <td>630312913</td>\n      <td>Shelby Baptist Medical Center</td>\n      <td>Shelby Baptist Medical Center</td>\n      <td>1000 First Street North</td>\n      <td>Alabaster</td>\n      <td>AL</td>\n      <td>35007</td>\n      <td>01117</td>\n      <td>252</td>\n      <td>N</td>\n      <td>Y</td>\n      <td>N</td>\n      <td>N</td>\n      <td>010016</td>\n      <td>Shelby County</td>\n      <td>100-299 beds</td>\n      <td>November 20, 2023</td>\n    </tr>\n    <tr>\n      <th>3</th>\n      <td>4</td>\n      <td>4</td>\n      <td>630459034</td>\n      <td>Callahan Eye Foundation Hosp</td>\n      <td>Callahan Eye Foundation Hosp</td>\n      <td>1720 University Boulevard</td>\n      <td>Birmingham</td>\n      <td>AL</td>\n      <td>35233</td>\n      <td>01073</td>\n      <td>106</td>\n      <td>N</td>\n      <td>Y</td>\n      <td>N</td>\n      <td>Y</td>\n      <td>010018</td>\n      <td>Jefferson County</td>\n      <td>100-299 beds</td>\n      <td>November 20, 2023</td>\n    </tr>\n    <tr>\n      <th>4</th>\n      <td>5</td>\n      <td>5</td>\n      <td>581973570</td>\n      <td>Cherokee Medical Center</td>\n      <td>Cherokee Medical Center</td>\n      <td>400 Northwood Drive</td>\n      <td>Centre</td>\n      <td>AL</td>\n      <td>35960</td>\n      <td>01019</td>\n      <td>60</td>\n      <td>N</td>\n      <td>N</td>\n      <td>N</td>\n      <td>N</td>\n      <td>010022</td>\n      <td>Cherokee County</td>\n      <td>&lt;100 beds</td>\n      <td>November 20, 2023</td>\n    </tr>\n    <tr>\n      <th>...</th>\n      <td>...</td>\n      <td>...</td>\n      <td>...</td>\n      <td>...</td>\n      <td>...</td>\n      <td>...</td>\n      <td>...</td>\n      <td>...</td>\n      <td>...</td>\n      <td>...</td>\n      <td>...</td>\n      <td>...</td>\n      <td>...</td>\n      <td>...</td>\n      <td>...</td>\n      <td>...</td>\n      <td>...</td>\n      <td>...</td>\n      <td>...</td>\n    </tr>\n    <tr>\n      <th>3486</th>\n      <td>3487</td>\n      <td>2647</td>\n      <td>813040663</td>\n      <td>Bsw Medical Center - Austin</td>\n      <td>Bsw Medical Center - Austin</td>\n      <td>5245 W Us 290</td>\n      <td>Austin</td>\n      <td>TX</td>\n      <td>78735</td>\n      <td>48453</td>\n      <td>16</td>\n      <td>N</td>\n      <td>Y</td>\n      <td>N</td>\n      <td>N</td>\n      <td>670136</td>\n      <td>Travis County</td>\n      <td>&lt;100 beds</td>\n      <td>November 20, 2023</td>\n    </tr>\n    <tr>\n      <th>3487</th>\n      <td>3488</td>\n      <td>2304</td>\n      <td>741109643</td>\n      <td>Ascension Seton Bastrop</td>\n      <td>Ascension Seton Bastrop</td>\n      <td>630 Highway 71 W</td>\n      <td>Bastrop</td>\n      <td>TX</td>\n      <td>78602</td>\n      <td>48021</td>\n      <td>7</td>\n      <td>N</td>\n      <td>Y</td>\n      <td>N</td>\n      <td>N</td>\n      <td>670143</td>\n      <td>Bastrop County</td>\n      <td>&lt;100 beds</td>\n      <td>November 20, 2023</td>\n    </tr>\n    <tr>\n      <th>3488</th>\n      <td>3489</td>\n      <td>2648</td>\n      <td>831954982</td>\n      <td>Texas Health Hospital Frisco</td>\n      <td>Texas Health Hospital Frisco</td>\n      <td>12400 N Dallas Parkway</td>\n      <td>Frisco</td>\n      <td>TX</td>\n      <td>75033</td>\n      <td>48121</td>\n      <td>63</td>\n      <td>N</td>\n      <td>Y</td>\n      <td>N</td>\n      <td>N</td>\n      <td>670260</td>\n      <td>Denton County</td>\n      <td>&lt;100 beds</td>\n      <td>November 20, 2023</td>\n    </tr>\n    <tr>\n      <th>3489</th>\n      <td>3490</td>\n      <td>2302</td>\n      <td>750800661</td>\n      <td>Methodist Midlothian Medical Center</td>\n      <td>Methodist Midlothian Medical Center</td>\n      <td>1201 E Highway 287</td>\n      <td>Midlothian</td>\n      <td>TX</td>\n      <td>76065</td>\n      <td>48139</td>\n      <td>46</td>\n      <td>N</td>\n      <td>Y</td>\n      <td>N</td>\n      <td>N</td>\n      <td>670300</td>\n      <td>Ellis County</td>\n      <td>&lt;100 beds</td>\n      <td>November 20, 2023</td>\n    </tr>\n    <tr>\n      <th>3490</th>\n      <td>3491</td>\n      <td>2649</td>\n      <td>831869297</td>\n      <td>Texas Health Hospital Mansfield</td>\n      <td>Texas Health Hospital Mansfield</td>\n      <td>2300 Lone Star Road</td>\n      <td>Mansfield</td>\n      <td>TX</td>\n      <td>76063</td>\n      <td>48439</td>\n      <td>59</td>\n      <td>N</td>\n      <td>Y</td>\n      <td>N</td>\n      <td>N</td>\n      <td>670309</td>\n      <td>Tarrant County</td>\n      <td>&lt;100 beds</td>\n      <td>November 20, 2023</td>\n    </tr>\n  </tbody>\n</table>\n<p>3491 rows × 19 columns</p>\n</div>"
     },
     "execution_count": 191,
     "metadata": {},
     "output_type": "execute_result"
    }
   ],
   "source": [
    "hospital_df # print df "
   ]
  },
  {
   "cell_type": "code",
   "execution_count": 192,
   "id": "a6d2dd36",
   "metadata": {
    "ExecuteTime": {
     "end_time": "2024-02-23T02:45:52.213616100Z",
     "start_time": "2024-02-23T02:45:52.165605200Z"
    }
   },
   "outputs": [
    {
     "data": {
      "text/plain": "     hospital_id hospital_org_id        ein  \\\n2055        2056            1620  111704595   \n2399        2400            1906  341407259   \n2658        2659            2101  250965598   \n813          814             592  370663567   \n155          156             111  954896822   \n1669        1670            1300  721379812   \n2052        2053            1617  452964467   \n2609        2610            2062  230906220   \n2522        2523            1996  930223960   \n477          478             304  060646741   \n\n                                        name  \\\n2055          Long Island Community Hospital   \n2399                     Mary Rutan Hospital   \n2658                 Warren General Hospital   \n813                    St Elizabeth Hospital   \n155      Dewitt Hospital & Nursing Home  Inc   \n1669  Jefferson Davis Community Hospital Cah   \n2052          Bon Secours Community Hospital   \n2609                          Nason Hospital   \n2522             Three Rivers Medical Center   \n477                    Milford Hospital  Inc   \n\n                                  name_cr          street_address  \\\n2055       Long Island Community Hospital       101 Hospital Road   \n2399                  Mary Rutan Hospital       205 Palmer Avenue   \n2658              Warren General Hospital    2 Crescent Park West   \n813                 St Elizabeth Hospital  1 Saint Elizabeth Blvd   \n155   Dewitt Hospital & Nursing Home  Inc     Highway 1 & Madison   \n1669           Prentiss Regional Hospital        1102 Rose Street   \n2052       Bon Secours Community Hospital    160 East Main Street   \n2609                                              105 Nason Drive   \n2522          Three Rivers Medical Center       500 Sw Ramsey Ave   \n477                 Milford Hospital  Inc      300 Seaside Avenue   \n\n                city state zip_code fips_state_and_county_code  \\\n2055     E Patchogue    NY    11772                      36103   \n2399   Bellefontaine    OH    43311                      39091   \n2658          Warren    PA    16365                      42123   \n813          Ofallon    IL    62269                      17163   \n155           Dewitt    AR    72042                      05001   \n1669        Prentiss    MS    39474                      28065   \n2052     Port Jervis    NY    12771                      36071   \n2609  Roaring Spring    PA    16673                      42013   \n2522     Grants Pass    OR    97527                      41033   \n477          Milford    CT    06450                      09009   \n\n     hospital_bed_count chrch_affl_f urban_location_f children_hospital_f  \\\n2055                306            N                Y                   N   \n2399                115            N                N                   N   \n2658                 85            N                N                   N   \n813                 260            Y                Y                   N   \n155                  25            N                N                   N   \n1669                 35            N                N                   N   \n2052                141            Y                Y                   N   \n2609                 42            N                Y                   N   \n2522                150            N                Y                   N   \n477                 106            N                Y                   N   \n\n     memb_counc_teach_hosps_f medicare_provider_number  \\\n2055                        N                   330141   \n2399                        N                   360197   \n2658                        N                   390146   \n813                         Y                   140187   \n155                         N                   041314   \n1669                        N                   251326   \n2052                        N                   330135   \n2609                        N                   390062   \n2522                        N                   380002   \n477                         N                   070019   \n\n                      county hospital_bed_size         updated_dt  \n2055          Suffolk County         >299 beds  November 20, 2023  \n2399            Logan County      100-299 beds  November 20, 2023  \n2658           Warren County         <100 beds  November 20, 2023  \n813         St. Clair County      100-299 beds  November 20, 2023  \n155          Arkansas County         <100 beds  November 20, 2023  \n1669  Jefferson Davis County         <100 beds  November 20, 2023  \n2052           Orange County      100-299 beds  November 20, 2023  \n2609            Blair County         <100 beds  November 20, 2023  \n2522        Josephine County      100-299 beds  November 20, 2023  \n477         New Haven County      100-299 beds  November 20, 2023  ",
      "text/html": "<div>\n<style scoped>\n    .dataframe tbody tr th:only-of-type {\n        vertical-align: middle;\n    }\n\n    .dataframe tbody tr th {\n        vertical-align: top;\n    }\n\n    .dataframe thead th {\n        text-align: right;\n    }\n</style>\n<table border=\"1\" class=\"dataframe\">\n  <thead>\n    <tr style=\"text-align: right;\">\n      <th></th>\n      <th>hospital_id</th>\n      <th>hospital_org_id</th>\n      <th>ein</th>\n      <th>name</th>\n      <th>name_cr</th>\n      <th>street_address</th>\n      <th>city</th>\n      <th>state</th>\n      <th>zip_code</th>\n      <th>fips_state_and_county_code</th>\n      <th>hospital_bed_count</th>\n      <th>chrch_affl_f</th>\n      <th>urban_location_f</th>\n      <th>children_hospital_f</th>\n      <th>memb_counc_teach_hosps_f</th>\n      <th>medicare_provider_number</th>\n      <th>county</th>\n      <th>hospital_bed_size</th>\n      <th>updated_dt</th>\n    </tr>\n  </thead>\n  <tbody>\n    <tr>\n      <th>2055</th>\n      <td>2056</td>\n      <td>1620</td>\n      <td>111704595</td>\n      <td>Long Island Community Hospital</td>\n      <td>Long Island Community Hospital</td>\n      <td>101 Hospital Road</td>\n      <td>E Patchogue</td>\n      <td>NY</td>\n      <td>11772</td>\n      <td>36103</td>\n      <td>306</td>\n      <td>N</td>\n      <td>Y</td>\n      <td>N</td>\n      <td>N</td>\n      <td>330141</td>\n      <td>Suffolk County</td>\n      <td>&gt;299 beds</td>\n      <td>November 20, 2023</td>\n    </tr>\n    <tr>\n      <th>2399</th>\n      <td>2400</td>\n      <td>1906</td>\n      <td>341407259</td>\n      <td>Mary Rutan Hospital</td>\n      <td>Mary Rutan Hospital</td>\n      <td>205 Palmer Avenue</td>\n      <td>Bellefontaine</td>\n      <td>OH</td>\n      <td>43311</td>\n      <td>39091</td>\n      <td>115</td>\n      <td>N</td>\n      <td>N</td>\n      <td>N</td>\n      <td>N</td>\n      <td>360197</td>\n      <td>Logan County</td>\n      <td>100-299 beds</td>\n      <td>November 20, 2023</td>\n    </tr>\n    <tr>\n      <th>2658</th>\n      <td>2659</td>\n      <td>2101</td>\n      <td>250965598</td>\n      <td>Warren General Hospital</td>\n      <td>Warren General Hospital</td>\n      <td>2 Crescent Park West</td>\n      <td>Warren</td>\n      <td>PA</td>\n      <td>16365</td>\n      <td>42123</td>\n      <td>85</td>\n      <td>N</td>\n      <td>N</td>\n      <td>N</td>\n      <td>N</td>\n      <td>390146</td>\n      <td>Warren County</td>\n      <td>&lt;100 beds</td>\n      <td>November 20, 2023</td>\n    </tr>\n    <tr>\n      <th>813</th>\n      <td>814</td>\n      <td>592</td>\n      <td>370663567</td>\n      <td>St Elizabeth Hospital</td>\n      <td>St Elizabeth Hospital</td>\n      <td>1 Saint Elizabeth Blvd</td>\n      <td>Ofallon</td>\n      <td>IL</td>\n      <td>62269</td>\n      <td>17163</td>\n      <td>260</td>\n      <td>Y</td>\n      <td>Y</td>\n      <td>N</td>\n      <td>Y</td>\n      <td>140187</td>\n      <td>St. Clair County</td>\n      <td>100-299 beds</td>\n      <td>November 20, 2023</td>\n    </tr>\n    <tr>\n      <th>155</th>\n      <td>156</td>\n      <td>111</td>\n      <td>954896822</td>\n      <td>Dewitt Hospital &amp; Nursing Home  Inc</td>\n      <td>Dewitt Hospital &amp; Nursing Home  Inc</td>\n      <td>Highway 1 &amp; Madison</td>\n      <td>Dewitt</td>\n      <td>AR</td>\n      <td>72042</td>\n      <td>05001</td>\n      <td>25</td>\n      <td>N</td>\n      <td>N</td>\n      <td>N</td>\n      <td>N</td>\n      <td>041314</td>\n      <td>Arkansas County</td>\n      <td>&lt;100 beds</td>\n      <td>November 20, 2023</td>\n    </tr>\n    <tr>\n      <th>1669</th>\n      <td>1670</td>\n      <td>1300</td>\n      <td>721379812</td>\n      <td>Jefferson Davis Community Hospital Cah</td>\n      <td>Prentiss Regional Hospital</td>\n      <td>1102 Rose Street</td>\n      <td>Prentiss</td>\n      <td>MS</td>\n      <td>39474</td>\n      <td>28065</td>\n      <td>35</td>\n      <td>N</td>\n      <td>N</td>\n      <td>N</td>\n      <td>N</td>\n      <td>251326</td>\n      <td>Jefferson Davis County</td>\n      <td>&lt;100 beds</td>\n      <td>November 20, 2023</td>\n    </tr>\n    <tr>\n      <th>2052</th>\n      <td>2053</td>\n      <td>1617</td>\n      <td>452964467</td>\n      <td>Bon Secours Community Hospital</td>\n      <td>Bon Secours Community Hospital</td>\n      <td>160 East Main Street</td>\n      <td>Port Jervis</td>\n      <td>NY</td>\n      <td>12771</td>\n      <td>36071</td>\n      <td>141</td>\n      <td>Y</td>\n      <td>Y</td>\n      <td>N</td>\n      <td>N</td>\n      <td>330135</td>\n      <td>Orange County</td>\n      <td>100-299 beds</td>\n      <td>November 20, 2023</td>\n    </tr>\n    <tr>\n      <th>2609</th>\n      <td>2610</td>\n      <td>2062</td>\n      <td>230906220</td>\n      <td>Nason Hospital</td>\n      <td></td>\n      <td>105 Nason Drive</td>\n      <td>Roaring Spring</td>\n      <td>PA</td>\n      <td>16673</td>\n      <td>42013</td>\n      <td>42</td>\n      <td>N</td>\n      <td>Y</td>\n      <td>N</td>\n      <td>N</td>\n      <td>390062</td>\n      <td>Blair County</td>\n      <td>&lt;100 beds</td>\n      <td>November 20, 2023</td>\n    </tr>\n    <tr>\n      <th>2522</th>\n      <td>2523</td>\n      <td>1996</td>\n      <td>930223960</td>\n      <td>Three Rivers Medical Center</td>\n      <td>Three Rivers Medical Center</td>\n      <td>500 Sw Ramsey Ave</td>\n      <td>Grants Pass</td>\n      <td>OR</td>\n      <td>97527</td>\n      <td>41033</td>\n      <td>150</td>\n      <td>N</td>\n      <td>Y</td>\n      <td>N</td>\n      <td>N</td>\n      <td>380002</td>\n      <td>Josephine County</td>\n      <td>100-299 beds</td>\n      <td>November 20, 2023</td>\n    </tr>\n    <tr>\n      <th>477</th>\n      <td>478</td>\n      <td>304</td>\n      <td>060646741</td>\n      <td>Milford Hospital  Inc</td>\n      <td>Milford Hospital  Inc</td>\n      <td>300 Seaside Avenue</td>\n      <td>Milford</td>\n      <td>CT</td>\n      <td>06450</td>\n      <td>09009</td>\n      <td>106</td>\n      <td>N</td>\n      <td>Y</td>\n      <td>N</td>\n      <td>N</td>\n      <td>070019</td>\n      <td>New Haven County</td>\n      <td>100-299 beds</td>\n      <td>November 20, 2023</td>\n    </tr>\n  </tbody>\n</table>\n</div>"
     },
     "execution_count": 192,
     "metadata": {},
     "output_type": "execute_result"
    }
   ],
   "source": [
    "# print 10 random samples from the dataframe \n",
    "hospital_df.sample(10)"
   ]
  },
  {
   "cell_type": "markdown",
   "id": "8e149eca",
   "metadata": {},
   "source": [
    "## Data Inspection"
   ]
  },
  {
   "cell_type": "code",
   "execution_count": 193,
   "id": "8103d4c0",
   "metadata": {
    "ExecuteTime": {
     "end_time": "2024-02-23T02:45:52.269627900Z",
     "start_time": "2024-02-23T02:45:52.197611900Z"
    }
   },
   "outputs": [
    {
     "data": {
      "text/plain": "(3491, 19)"
     },
     "execution_count": 193,
     "metadata": {},
     "output_type": "execute_result"
    }
   ],
   "source": [
    "hospital_df.shape "
   ]
  },
  {
   "cell_type": "code",
   "execution_count": 194,
   "id": "984b5789",
   "metadata": {
    "ExecuteTime": {
     "end_time": "2024-02-23T02:45:52.294633500Z",
     "start_time": "2024-02-23T02:45:52.211615800Z"
    }
   },
   "outputs": [
    {
     "name": "stdout",
     "output_type": "stream",
     "text": [
      "<class 'pandas.core.frame.DataFrame'>\n",
      "RangeIndex: 3491 entries, 0 to 3490\n",
      "Data columns (total 19 columns):\n",
      " #   Column                      Non-Null Count  Dtype \n",
      "---  ------                      --------------  ----- \n",
      " 0   hospital_id                 3491 non-null   object\n",
      " 1   hospital_org_id             3491 non-null   object\n",
      " 2   ein                         3491 non-null   object\n",
      " 3   name                        3491 non-null   object\n",
      " 4   name_cr                     3491 non-null   object\n",
      " 5   street_address              3491 non-null   object\n",
      " 6   city                        3491 non-null   object\n",
      " 7   state                       3491 non-null   object\n",
      " 8   zip_code                    3491 non-null   object\n",
      " 9   fips_state_and_county_code  3491 non-null   object\n",
      " 10  hospital_bed_count          3491 non-null   object\n",
      " 11  chrch_affl_f                3491 non-null   object\n",
      " 12  urban_location_f            3491 non-null   object\n",
      " 13  children_hospital_f         3491 non-null   object\n",
      " 14  memb_counc_teach_hosps_f    3491 non-null   object\n",
      " 15  medicare_provider_number    3491 non-null   object\n",
      " 16  county                      3490 non-null   object\n",
      " 17  hospital_bed_size           3491 non-null   object\n",
      " 18  updated_dt                  3491 non-null   object\n",
      "dtypes: object(19)\n",
      "memory usage: 518.3+ KB\n"
     ]
    }
   ],
   "source": [
    "hospital_df.info() #all variables in df are labeled as object variables"
   ]
  },
  {
   "cell_type": "code",
   "execution_count": 195,
   "id": "4a7e4844",
   "metadata": {
    "ExecuteTime": {
     "end_time": "2024-02-23T02:45:52.412818100Z",
     "start_time": "2024-02-23T02:45:52.244622300Z"
    }
   },
   "outputs": [
    {
     "name": "stdout",
     "output_type": "stream",
     "text": [
      "<class 'pandas.core.frame.DataFrame'>\n",
      "RangeIndex: 3491 entries, 0 to 3490\n",
      "Data columns (total 19 columns):\n",
      " #   Column                      Non-Null Count  Dtype \n",
      "---  ------                      --------------  ----- \n",
      " 0   hospital_id                 3491 non-null   object\n",
      " 1   hospital_org_id             3491 non-null   object\n",
      " 2   ein                         3491 non-null   object\n",
      " 3   name                        3491 non-null   object\n",
      " 4   name_cr                     3491 non-null   object\n",
      " 5   street_address              3491 non-null   object\n",
      " 6   city                        3491 non-null   object\n",
      " 7   state                       3491 non-null   object\n",
      " 8   zip_code                    3491 non-null   object\n",
      " 9   fips_state_and_county_code  3491 non-null   object\n",
      " 10  hospital_bed_count          3491 non-null   int64 \n",
      " 11  chrch_affl_f                3491 non-null   int64 \n",
      " 12  urban_location_f            3491 non-null   int64 \n",
      " 13  children_hospital_f         3491 non-null   int64 \n",
      " 14  memb_counc_teach_hosps_f    3491 non-null   int64 \n",
      " 15  medicare_provider_number    3491 non-null   int64 \n",
      " 16  county                      3490 non-null   object\n",
      " 17  hospital_bed_size           3491 non-null   object\n",
      " 18  updated_dt                  3491 non-null   object\n",
      "dtypes: int64(6), object(13)\n",
      "memory usage: 518.3+ KB\n"
     ]
    }
   ],
   "source": [
    "columns_to_convert = ['hospital_bed_count', 'medicare_provider_number']\n",
    "binary_columns = ['chrch_affl_f', 'urban_location_f', 'children_hospital_f', 'memb_counc_teach_hosps_f']\n",
    "\n",
    "# iterate through the list of columns\n",
    "for col in columns_to_convert:\n",
    "    # convert to numeric, coerce errors to NaN\n",
    "    hospital_df[col] = pd.to_numeric(hospital_df[col], errors='coerce')\n",
    "    \n",
    "for col in binary_columns:\n",
    "    # Map 'N' to 0 and 'Y' to 1\n",
    "    hospital_df[col] = hospital_df[col].map({'N': 0, 'Y': 1})\n",
    "\n",
    "# convert updated_dt to date type\n",
    "hospital_df['updated_dt'] = hospital_df['updated_dt'].apply(lambda x: datetime.strptime(x, '%B %d, %Y').strftime('%Y-%m-%d'))\n",
    "\n",
    "# check the data types after conversion\n",
    "hospital_df.info()\n"
   ]
  },
  {
   "cell_type": "code",
   "execution_count": 196,
   "id": "2acf36ac",
   "metadata": {
    "ExecuteTime": {
     "end_time": "2024-02-23T02:45:52.413819300Z",
     "start_time": "2024-02-23T02:45:52.336642700Z"
    }
   },
   "outputs": [
    {
     "data": {
      "text/plain": "hospital_id                   3491\nhospital_org_id               2377\nein                           2377\nname                          3330\nname_cr                       3072\nstreet_address                3439\ncity                          2192\nstate                           51\nzip_code                      3200\nfips_state_and_county_code    1751\nhospital_bed_count             696\nchrch_affl_f                     2\nurban_location_f                 2\nchildren_hospital_f              2\nmemb_counc_teach_hosps_f         2\nmedicare_provider_number      3491\ncounty                        1195\nhospital_bed_size                3\nupdated_dt                       1\ndtype: int64"
     },
     "execution_count": 196,
     "metadata": {},
     "output_type": "execute_result"
    }
   ],
   "source": [
    "hospital_df.nunique() #unique variables "
   ]
  },
  {
   "cell_type": "code",
   "execution_count": 197,
   "id": "f0aac437",
   "metadata": {
    "ExecuteTime": {
     "end_time": "2024-02-23T02:45:52.414818800Z",
     "start_time": "2024-02-23T02:45:52.352646500Z"
    }
   },
   "outputs": [
    {
     "data": {
      "text/plain": "hospital_id                   0\nhospital_org_id               0\nein                           0\nname                          0\nname_cr                       0\nstreet_address                0\ncity                          0\nstate                         0\nzip_code                      0\nfips_state_and_county_code    0\nhospital_bed_count            0\nchrch_affl_f                  0\nurban_location_f              0\nchildren_hospital_f           0\nmemb_counc_teach_hosps_f      0\nmedicare_provider_number      0\ncounty                        1\nhospital_bed_size             0\nupdated_dt                    0\ndtype: int64"
     },
     "execution_count": 197,
     "metadata": {},
     "output_type": "execute_result"
    }
   ],
   "source": [
    "hospital_df.isnull().sum() #null values "
   ]
  },
  {
   "cell_type": "code",
   "execution_count": 198,
   "id": "2449df19",
   "metadata": {
    "ExecuteTime": {
     "end_time": "2024-02-23T02:45:52.416819400Z",
     "start_time": "2024-02-23T02:45:52.368268800Z"
    }
   },
   "outputs": [
    {
     "name": "stdout",
     "output_type": "stream",
     "text": [
      "Duplicate Rows except first occurrence:\n",
      "Empty DataFrame\n",
      "Columns: [hospital_id, hospital_org_id, ein, name, name_cr, street_address, city, state, zip_code, fips_state_and_county_code, hospital_bed_count, chrch_affl_f, urban_location_f, children_hospital_f, memb_counc_teach_hosps_f, medicare_provider_number, county, hospital_bed_size, updated_dt]\n",
      "Index: []\n",
      "No duplicates found in the DataFrame.\n"
     ]
    }
   ],
   "source": [
    "duplicate_rows = hospital_df[hospital_df.duplicated()]\n",
    "\n",
    "print(\"Duplicate Rows except first occurrence:\")\n",
    "print(duplicate_rows)\n",
    "\n",
    "if hospital_df.duplicated().any():\n",
    "    print(\"Duplicates exist in the DataFrame.\")\n",
    "else:\n",
    "    print(\"No duplicates found in the DataFrame.\")"
   ]
  },
  {
   "cell_type": "markdown",
   "id": "964f532e",
   "metadata": {},
   "source": [
    "## Table Manipulation"
   ]
  },
  {
   "cell_type": "code",
   "execution_count": 199,
   "id": "e3107bd3",
   "metadata": {
    "ExecuteTime": {
     "end_time": "2024-02-23T02:45:52.480834400Z",
     "start_time": "2024-02-23T02:45:52.402816500Z"
    }
   },
   "outputs": [
    {
     "data": {
      "text/plain": "     hospital_id hospital_org_id                                 name  \\\n0              1               1             Mizell Memorial Hospital   \n1              2               2                     St Vincents East   \n2              3               3        Shelby Baptist Medical Center   \n3              4               4         Callahan Eye Foundation Hosp   \n4              5               5              Cherokee Medical Center   \n...          ...             ...                                  ...   \n3486        3487            2647          Bsw Medical Center - Austin   \n3487        3488            2304              Ascension Seton Bastrop   \n3488        3489            2648         Texas Health Hospital Frisco   \n3489        3490            2302  Methodist Midlothian Medical Center   \n3490        3491            2649      Texas Health Hospital Mansfield   \n\n            ein  medicare_provider_number  address_id  capacity_id  updated_dt  \n0     630307951                     10007         609         2381  2023-11-20  \n1     630578923                     10011        1075         1270  2023-11-20  \n2     630312913                     10016        3323          667  2023-11-20  \n3     630459034                     10018        2440          556  2023-11-20  \n4     581973570                     10022        1337          445  2023-11-20  \n...         ...                       ...         ...          ...         ...  \n3486  813040663                    670136         949          730  2023-11-20  \n3487  741109643                    670143         718          729  2023-11-20  \n3488  831954982                    670260        2901          728  2023-11-20  \n3489  750800661                    670300        2967          726  2023-11-20  \n3490  831869297                    670309        2007          725  2023-11-20  \n\n[3491 rows x 8 columns]",
      "text/html": "<div>\n<style scoped>\n    .dataframe tbody tr th:only-of-type {\n        vertical-align: middle;\n    }\n\n    .dataframe tbody tr th {\n        vertical-align: top;\n    }\n\n    .dataframe thead th {\n        text-align: right;\n    }\n</style>\n<table border=\"1\" class=\"dataframe\">\n  <thead>\n    <tr style=\"text-align: right;\">\n      <th></th>\n      <th>hospital_id</th>\n      <th>hospital_org_id</th>\n      <th>name</th>\n      <th>ein</th>\n      <th>medicare_provider_number</th>\n      <th>address_id</th>\n      <th>capacity_id</th>\n      <th>updated_dt</th>\n    </tr>\n  </thead>\n  <tbody>\n    <tr>\n      <th>0</th>\n      <td>1</td>\n      <td>1</td>\n      <td>Mizell Memorial Hospital</td>\n      <td>630307951</td>\n      <td>10007</td>\n      <td>609</td>\n      <td>2381</td>\n      <td>2023-11-20</td>\n    </tr>\n    <tr>\n      <th>1</th>\n      <td>2</td>\n      <td>2</td>\n      <td>St Vincents East</td>\n      <td>630578923</td>\n      <td>10011</td>\n      <td>1075</td>\n      <td>1270</td>\n      <td>2023-11-20</td>\n    </tr>\n    <tr>\n      <th>2</th>\n      <td>3</td>\n      <td>3</td>\n      <td>Shelby Baptist Medical Center</td>\n      <td>630312913</td>\n      <td>10016</td>\n      <td>3323</td>\n      <td>667</td>\n      <td>2023-11-20</td>\n    </tr>\n    <tr>\n      <th>3</th>\n      <td>4</td>\n      <td>4</td>\n      <td>Callahan Eye Foundation Hosp</td>\n      <td>630459034</td>\n      <td>10018</td>\n      <td>2440</td>\n      <td>556</td>\n      <td>2023-11-20</td>\n    </tr>\n    <tr>\n      <th>4</th>\n      <td>5</td>\n      <td>5</td>\n      <td>Cherokee Medical Center</td>\n      <td>581973570</td>\n      <td>10022</td>\n      <td>1337</td>\n      <td>445</td>\n      <td>2023-11-20</td>\n    </tr>\n    <tr>\n      <th>...</th>\n      <td>...</td>\n      <td>...</td>\n      <td>...</td>\n      <td>...</td>\n      <td>...</td>\n      <td>...</td>\n      <td>...</td>\n      <td>...</td>\n    </tr>\n    <tr>\n      <th>3486</th>\n      <td>3487</td>\n      <td>2647</td>\n      <td>Bsw Medical Center - Austin</td>\n      <td>813040663</td>\n      <td>670136</td>\n      <td>949</td>\n      <td>730</td>\n      <td>2023-11-20</td>\n    </tr>\n    <tr>\n      <th>3487</th>\n      <td>3488</td>\n      <td>2304</td>\n      <td>Ascension Seton Bastrop</td>\n      <td>741109643</td>\n      <td>670143</td>\n      <td>718</td>\n      <td>729</td>\n      <td>2023-11-20</td>\n    </tr>\n    <tr>\n      <th>3488</th>\n      <td>3489</td>\n      <td>2648</td>\n      <td>Texas Health Hospital Frisco</td>\n      <td>831954982</td>\n      <td>670260</td>\n      <td>2901</td>\n      <td>728</td>\n      <td>2023-11-20</td>\n    </tr>\n    <tr>\n      <th>3489</th>\n      <td>3490</td>\n      <td>2302</td>\n      <td>Methodist Midlothian Medical Center</td>\n      <td>750800661</td>\n      <td>670300</td>\n      <td>2967</td>\n      <td>726</td>\n      <td>2023-11-20</td>\n    </tr>\n    <tr>\n      <th>3490</th>\n      <td>3491</td>\n      <td>2649</td>\n      <td>Texas Health Hospital Mansfield</td>\n      <td>831869297</td>\n      <td>670309</td>\n      <td>2007</td>\n      <td>725</td>\n      <td>2023-11-20</td>\n    </tr>\n  </tbody>\n</table>\n<p>3491 rows × 8 columns</p>\n</div>"
     },
     "execution_count": 199,
     "metadata": {},
     "output_type": "execute_result"
    }
   ],
   "source": [
    "# Hospital Information Table\n",
    "\n",
    "# create unique ID for address\n",
    "hospital_df['address_id'] = hospital_df['street_address'] + '_' + hospital_df['city'] + '_' + hospital_df['state'] + '_' + hospital_df['zip_code'] + '_' + hospital_df['fips_state_and_county_code']\n",
    "hospital_df['address_id'] = hospital_df['address_id'].rank(method='dense', ascending=False).astype(int)\n",
    "\n",
    "#create unique ID for hospital capacity\n",
    "hospital_df['capacity_id'] = hospital_df['hospital_id'].astype(str) + '_' + hospital_df['hospital_bed_count'].astype(str) + '_' + hospital_df['hospital_bed_size']\n",
    "hospital_df['capacity_id'] = hospital_df['capacity_id'].rank(method='dense', ascending=False).astype(int)\n",
    "\n",
    "\n",
    "# create hospital information table\n",
    "hospital = hospital_df[['hospital_id', 'hospital_org_id', 'name', 'ein', 'medicare_provider_number', 'address_id', 'capacity_id', 'updated_dt']]\n",
    "hospital"
   ]
  },
  {
   "cell_type": "code",
   "execution_count": 200,
   "id": "8a8f478d",
   "metadata": {
    "ExecuteTime": {
     "end_time": "2024-02-23T02:45:52.482834600Z",
     "start_time": "2024-02-23T02:45:52.446825900Z"
    }
   },
   "outputs": [
    {
     "data": {
      "text/plain": "     hospital_id  chrch_affl_f  updated_dt\n0              1             0  2023-11-20\n1              2             0  2023-11-20\n2              3             0  2023-11-20\n3              4             0  2023-11-20\n4              5             0  2023-11-20\n...          ...           ...         ...\n3486        3487             0  2023-11-20\n3487        3488             0  2023-11-20\n3488        3489             0  2023-11-20\n3489        3490             0  2023-11-20\n3490        3491             0  2023-11-20\n\n[3491 rows x 3 columns]",
      "text/html": "<div>\n<style scoped>\n    .dataframe tbody tr th:only-of-type {\n        vertical-align: middle;\n    }\n\n    .dataframe tbody tr th {\n        vertical-align: top;\n    }\n\n    .dataframe thead th {\n        text-align: right;\n    }\n</style>\n<table border=\"1\" class=\"dataframe\">\n  <thead>\n    <tr style=\"text-align: right;\">\n      <th></th>\n      <th>hospital_id</th>\n      <th>chrch_affl_f</th>\n      <th>updated_dt</th>\n    </tr>\n  </thead>\n  <tbody>\n    <tr>\n      <th>0</th>\n      <td>1</td>\n      <td>0</td>\n      <td>2023-11-20</td>\n    </tr>\n    <tr>\n      <th>1</th>\n      <td>2</td>\n      <td>0</td>\n      <td>2023-11-20</td>\n    </tr>\n    <tr>\n      <th>2</th>\n      <td>3</td>\n      <td>0</td>\n      <td>2023-11-20</td>\n    </tr>\n    <tr>\n      <th>3</th>\n      <td>4</td>\n      <td>0</td>\n      <td>2023-11-20</td>\n    </tr>\n    <tr>\n      <th>4</th>\n      <td>5</td>\n      <td>0</td>\n      <td>2023-11-20</td>\n    </tr>\n    <tr>\n      <th>...</th>\n      <td>...</td>\n      <td>...</td>\n      <td>...</td>\n    </tr>\n    <tr>\n      <th>3486</th>\n      <td>3487</td>\n      <td>0</td>\n      <td>2023-11-20</td>\n    </tr>\n    <tr>\n      <th>3487</th>\n      <td>3488</td>\n      <td>0</td>\n      <td>2023-11-20</td>\n    </tr>\n    <tr>\n      <th>3488</th>\n      <td>3489</td>\n      <td>0</td>\n      <td>2023-11-20</td>\n    </tr>\n    <tr>\n      <th>3489</th>\n      <td>3490</td>\n      <td>0</td>\n      <td>2023-11-20</td>\n    </tr>\n    <tr>\n      <th>3490</th>\n      <td>3491</td>\n      <td>0</td>\n      <td>2023-11-20</td>\n    </tr>\n  </tbody>\n</table>\n<p>3491 rows × 3 columns</p>\n</div>"
     },
     "execution_count": 200,
     "metadata": {},
     "output_type": "execute_result"
    }
   ],
   "source": [
    "# Church Affiliation Table\n",
    "church_affiliation = hospital_df[['hospital_id', 'chrch_affl_f', 'updated_dt']]\n",
    "church_affiliation"
   ]
  },
  {
   "cell_type": "code",
   "execution_count": 201,
   "id": "603afe4c",
   "metadata": {
    "ExecuteTime": {
     "end_time": "2024-02-23T02:45:52.502838700Z",
     "start_time": "2024-02-23T02:45:52.462830100Z"
    }
   },
   "outputs": [
    {
     "data": {
      "text/plain": "      capacity_id hospital_bed_size  hospital_bed_count  updated_dt\n0            2381         <100 beds                  99  2023-11-20\n1            1270         >299 beds                 362  2023-11-20\n2             667      100-299 beds                 252  2023-11-20\n3             556      100-299 beds                 106  2023-11-20\n4             445         <100 beds                  60  2023-11-20\n...           ...               ...                 ...         ...\n3486          730         <100 beds                  16  2023-11-20\n3487          729         <100 beds                   7  2023-11-20\n3488          728         <100 beds                  63  2023-11-20\n3489          726         <100 beds                  46  2023-11-20\n3490          725         <100 beds                  59  2023-11-20\n\n[3491 rows x 4 columns]",
      "text/html": "<div>\n<style scoped>\n    .dataframe tbody tr th:only-of-type {\n        vertical-align: middle;\n    }\n\n    .dataframe tbody tr th {\n        vertical-align: top;\n    }\n\n    .dataframe thead th {\n        text-align: right;\n    }\n</style>\n<table border=\"1\" class=\"dataframe\">\n  <thead>\n    <tr style=\"text-align: right;\">\n      <th></th>\n      <th>capacity_id</th>\n      <th>hospital_bed_size</th>\n      <th>hospital_bed_count</th>\n      <th>updated_dt</th>\n    </tr>\n  </thead>\n  <tbody>\n    <tr>\n      <th>0</th>\n      <td>2381</td>\n      <td>&lt;100 beds</td>\n      <td>99</td>\n      <td>2023-11-20</td>\n    </tr>\n    <tr>\n      <th>1</th>\n      <td>1270</td>\n      <td>&gt;299 beds</td>\n      <td>362</td>\n      <td>2023-11-20</td>\n    </tr>\n    <tr>\n      <th>2</th>\n      <td>667</td>\n      <td>100-299 beds</td>\n      <td>252</td>\n      <td>2023-11-20</td>\n    </tr>\n    <tr>\n      <th>3</th>\n      <td>556</td>\n      <td>100-299 beds</td>\n      <td>106</td>\n      <td>2023-11-20</td>\n    </tr>\n    <tr>\n      <th>4</th>\n      <td>445</td>\n      <td>&lt;100 beds</td>\n      <td>60</td>\n      <td>2023-11-20</td>\n    </tr>\n    <tr>\n      <th>...</th>\n      <td>...</td>\n      <td>...</td>\n      <td>...</td>\n      <td>...</td>\n    </tr>\n    <tr>\n      <th>3486</th>\n      <td>730</td>\n      <td>&lt;100 beds</td>\n      <td>16</td>\n      <td>2023-11-20</td>\n    </tr>\n    <tr>\n      <th>3487</th>\n      <td>729</td>\n      <td>&lt;100 beds</td>\n      <td>7</td>\n      <td>2023-11-20</td>\n    </tr>\n    <tr>\n      <th>3488</th>\n      <td>728</td>\n      <td>&lt;100 beds</td>\n      <td>63</td>\n      <td>2023-11-20</td>\n    </tr>\n    <tr>\n      <th>3489</th>\n      <td>726</td>\n      <td>&lt;100 beds</td>\n      <td>46</td>\n      <td>2023-11-20</td>\n    </tr>\n    <tr>\n      <th>3490</th>\n      <td>725</td>\n      <td>&lt;100 beds</td>\n      <td>59</td>\n      <td>2023-11-20</td>\n    </tr>\n  </tbody>\n</table>\n<p>3491 rows × 4 columns</p>\n</div>"
     },
     "execution_count": 201,
     "metadata": {},
     "output_type": "execute_result"
    }
   ],
   "source": [
    "# Hospital Capacity Table extracting data from hospital_df\n",
    "hospital_capacity = hospital_df[['capacity_id', 'hospital_bed_size', 'hospital_bed_count', 'updated_dt']]\n",
    "hospital_capacity"
   ]
  },
  {
   "cell_type": "code",
   "execution_count": 202,
   "id": "9a1633c9",
   "metadata": {
    "ExecuteTime": {
     "end_time": "2024-02-23T02:45:52.550848800Z",
     "start_time": "2024-02-23T02:45:52.478833400Z"
    }
   },
   "outputs": [
    {
     "data": {
      "text/plain": "     hospital_id  children_hospital_f  updated_dt\n0              1                    0  2023-11-20\n1              2                    0  2023-11-20\n2              3                    0  2023-11-20\n3              4                    0  2023-11-20\n4              5                    0  2023-11-20\n...          ...                  ...         ...\n3486        3487                    0  2023-11-20\n3487        3488                    0  2023-11-20\n3488        3489                    0  2023-11-20\n3489        3490                    0  2023-11-20\n3490        3491                    0  2023-11-20\n\n[3491 rows x 3 columns]",
      "text/html": "<div>\n<style scoped>\n    .dataframe tbody tr th:only-of-type {\n        vertical-align: middle;\n    }\n\n    .dataframe tbody tr th {\n        vertical-align: top;\n    }\n\n    .dataframe thead th {\n        text-align: right;\n    }\n</style>\n<table border=\"1\" class=\"dataframe\">\n  <thead>\n    <tr style=\"text-align: right;\">\n      <th></th>\n      <th>hospital_id</th>\n      <th>children_hospital_f</th>\n      <th>updated_dt</th>\n    </tr>\n  </thead>\n  <tbody>\n    <tr>\n      <th>0</th>\n      <td>1</td>\n      <td>0</td>\n      <td>2023-11-20</td>\n    </tr>\n    <tr>\n      <th>1</th>\n      <td>2</td>\n      <td>0</td>\n      <td>2023-11-20</td>\n    </tr>\n    <tr>\n      <th>2</th>\n      <td>3</td>\n      <td>0</td>\n      <td>2023-11-20</td>\n    </tr>\n    <tr>\n      <th>3</th>\n      <td>4</td>\n      <td>0</td>\n      <td>2023-11-20</td>\n    </tr>\n    <tr>\n      <th>4</th>\n      <td>5</td>\n      <td>0</td>\n      <td>2023-11-20</td>\n    </tr>\n    <tr>\n      <th>...</th>\n      <td>...</td>\n      <td>...</td>\n      <td>...</td>\n    </tr>\n    <tr>\n      <th>3486</th>\n      <td>3487</td>\n      <td>0</td>\n      <td>2023-11-20</td>\n    </tr>\n    <tr>\n      <th>3487</th>\n      <td>3488</td>\n      <td>0</td>\n      <td>2023-11-20</td>\n    </tr>\n    <tr>\n      <th>3488</th>\n      <td>3489</td>\n      <td>0</td>\n      <td>2023-11-20</td>\n    </tr>\n    <tr>\n      <th>3489</th>\n      <td>3490</td>\n      <td>0</td>\n      <td>2023-11-20</td>\n    </tr>\n    <tr>\n      <th>3490</th>\n      <td>3491</td>\n      <td>0</td>\n      <td>2023-11-20</td>\n    </tr>\n  </tbody>\n</table>\n<p>3491 rows × 3 columns</p>\n</div>"
     },
     "execution_count": 202,
     "metadata": {},
     "output_type": "execute_result"
    }
   ],
   "source": [
    "# Children Hospital Table - extracting data from hospital_df\n",
    "children_hospital= hospital_df[['hospital_id', 'children_hospital_f', 'updated_dt']]\n",
    "children_hospital"
   ]
  },
  {
   "cell_type": "code",
   "execution_count": 203,
   "id": "8fed0bb3",
   "metadata": {
    "ExecuteTime": {
     "end_time": "2024-02-23T02:45:52.585857100Z",
     "start_time": "2024-02-23T02:45:52.494837200Z"
    }
   },
   "outputs": [
    {
     "data": {
      "text/plain": "     hospital_id  memb_counc_teach_hosps_f  updated_dt\n0              1                         0  2023-11-20\n1              2                         1  2023-11-20\n2              3                         0  2023-11-20\n3              4                         1  2023-11-20\n4              5                         0  2023-11-20\n...          ...                       ...         ...\n3486        3487                         0  2023-11-20\n3487        3488                         0  2023-11-20\n3488        3489                         0  2023-11-20\n3489        3490                         0  2023-11-20\n3490        3491                         0  2023-11-20\n\n[3491 rows x 3 columns]",
      "text/html": "<div>\n<style scoped>\n    .dataframe tbody tr th:only-of-type {\n        vertical-align: middle;\n    }\n\n    .dataframe tbody tr th {\n        vertical-align: top;\n    }\n\n    .dataframe thead th {\n        text-align: right;\n    }\n</style>\n<table border=\"1\" class=\"dataframe\">\n  <thead>\n    <tr style=\"text-align: right;\">\n      <th></th>\n      <th>hospital_id</th>\n      <th>memb_counc_teach_hosps_f</th>\n      <th>updated_dt</th>\n    </tr>\n  </thead>\n  <tbody>\n    <tr>\n      <th>0</th>\n      <td>1</td>\n      <td>0</td>\n      <td>2023-11-20</td>\n    </tr>\n    <tr>\n      <th>1</th>\n      <td>2</td>\n      <td>1</td>\n      <td>2023-11-20</td>\n    </tr>\n    <tr>\n      <th>2</th>\n      <td>3</td>\n      <td>0</td>\n      <td>2023-11-20</td>\n    </tr>\n    <tr>\n      <th>3</th>\n      <td>4</td>\n      <td>1</td>\n      <td>2023-11-20</td>\n    </tr>\n    <tr>\n      <th>4</th>\n      <td>5</td>\n      <td>0</td>\n      <td>2023-11-20</td>\n    </tr>\n    <tr>\n      <th>...</th>\n      <td>...</td>\n      <td>...</td>\n      <td>...</td>\n    </tr>\n    <tr>\n      <th>3486</th>\n      <td>3487</td>\n      <td>0</td>\n      <td>2023-11-20</td>\n    </tr>\n    <tr>\n      <th>3487</th>\n      <td>3488</td>\n      <td>0</td>\n      <td>2023-11-20</td>\n    </tr>\n    <tr>\n      <th>3488</th>\n      <td>3489</td>\n      <td>0</td>\n      <td>2023-11-20</td>\n    </tr>\n    <tr>\n      <th>3489</th>\n      <td>3490</td>\n      <td>0</td>\n      <td>2023-11-20</td>\n    </tr>\n    <tr>\n      <th>3490</th>\n      <td>3491</td>\n      <td>0</td>\n      <td>2023-11-20</td>\n    </tr>\n  </tbody>\n</table>\n<p>3491 rows × 3 columns</p>\n</div>"
     },
     "execution_count": 203,
     "metadata": {},
     "output_type": "execute_result"
    }
   ],
   "source": [
    "# Teaching Table - extracting data from hospital_df\n",
    "teaching = hospital_df[['hospital_id', 'memb_counc_teach_hosps_f', 'updated_dt']]\n",
    "teaching"
   ]
  },
  {
   "cell_type": "code",
   "execution_count": 204,
   "id": "c898e0f5",
   "metadata": {
    "ExecuteTime": {
     "end_time": "2024-02-23T02:45:52.602860800Z",
     "start_time": "2024-02-23T02:45:52.508841300Z"
    }
   },
   "outputs": [
    {
     "data": {
      "text/plain": "      urban_location_f  updated_dt hospital_id\n0                    0  2023-11-20           1\n1                    1  2023-11-20           2\n2                    1  2023-11-20           3\n3                    1  2023-11-20           4\n4                    0  2023-11-20           5\n...                ...         ...         ...\n3486                 1  2023-11-20        3487\n3487                 1  2023-11-20        3488\n3488                 1  2023-11-20        3489\n3489                 1  2023-11-20        3490\n3490                 1  2023-11-20        3491\n\n[3491 rows x 3 columns]",
      "text/html": "<div>\n<style scoped>\n    .dataframe tbody tr th:only-of-type {\n        vertical-align: middle;\n    }\n\n    .dataframe tbody tr th {\n        vertical-align: top;\n    }\n\n    .dataframe thead th {\n        text-align: right;\n    }\n</style>\n<table border=\"1\" class=\"dataframe\">\n  <thead>\n    <tr style=\"text-align: right;\">\n      <th></th>\n      <th>urban_location_f</th>\n      <th>updated_dt</th>\n      <th>hospital_id</th>\n    </tr>\n  </thead>\n  <tbody>\n    <tr>\n      <th>0</th>\n      <td>0</td>\n      <td>2023-11-20</td>\n      <td>1</td>\n    </tr>\n    <tr>\n      <th>1</th>\n      <td>1</td>\n      <td>2023-11-20</td>\n      <td>2</td>\n    </tr>\n    <tr>\n      <th>2</th>\n      <td>1</td>\n      <td>2023-11-20</td>\n      <td>3</td>\n    </tr>\n    <tr>\n      <th>3</th>\n      <td>1</td>\n      <td>2023-11-20</td>\n      <td>4</td>\n    </tr>\n    <tr>\n      <th>4</th>\n      <td>0</td>\n      <td>2023-11-20</td>\n      <td>5</td>\n    </tr>\n    <tr>\n      <th>...</th>\n      <td>...</td>\n      <td>...</td>\n      <td>...</td>\n    </tr>\n    <tr>\n      <th>3486</th>\n      <td>1</td>\n      <td>2023-11-20</td>\n      <td>3487</td>\n    </tr>\n    <tr>\n      <th>3487</th>\n      <td>1</td>\n      <td>2023-11-20</td>\n      <td>3488</td>\n    </tr>\n    <tr>\n      <th>3488</th>\n      <td>1</td>\n      <td>2023-11-20</td>\n      <td>3489</td>\n    </tr>\n    <tr>\n      <th>3489</th>\n      <td>1</td>\n      <td>2023-11-20</td>\n      <td>3490</td>\n    </tr>\n    <tr>\n      <th>3490</th>\n      <td>1</td>\n      <td>2023-11-20</td>\n      <td>3491</td>\n    </tr>\n  </tbody>\n</table>\n<p>3491 rows × 3 columns</p>\n</div>"
     },
     "execution_count": 204,
     "metadata": {},
     "output_type": "execute_result"
    }
   ],
   "source": [
    "# Urban Table\n",
    "urban = hospital_df[['urban_location_f', 'updated_dt','hospital_id']]\n",
    "urban"
   ]
  },
  {
   "cell_type": "code",
   "outputs": [
    {
     "data": {
      "text/plain": "      address_id              street_address        city state zip_code  \\\n0            609             702 Main Street         Opp    AL    36462   \n1           1075  50 Medical Park Drive East  Birmingham    AL    35235   \n2           3323     1000 First Street North   Alabaster    AL    35007   \n3           2440   1720 University Boulevard  Birmingham    AL    35233   \n4           1337         400 Northwood Drive      Centre    AL    35960   \n...          ...                         ...         ...   ...      ...   \n3486         949               5245 W Us 290      Austin    TX    78735   \n3487         718            630 Highway 71 W     Bastrop    TX    78602   \n3488        2901      12400 N Dallas Parkway      Frisco    TX    75033   \n3489        2967          1201 E Highway 287  Midlothian    TX    76065   \n3490        2007         2300 Lone Star Road   Mansfield    TX    76063   \n\n     fips_state_and_county_code            county  updated_dt  \n0                         01039  Covington County  2023-11-20  \n1                         01073  Jefferson County  2023-11-20  \n2                         01117     Shelby County  2023-11-20  \n3                         01073  Jefferson County  2023-11-20  \n4                         01019   Cherokee County  2023-11-20  \n...                         ...               ...         ...  \n3486                      48453     Travis County  2023-11-20  \n3487                      48021    Bastrop County  2023-11-20  \n3488                      48121     Denton County  2023-11-20  \n3489                      48139      Ellis County  2023-11-20  \n3490                      48439    Tarrant County  2023-11-20  \n\n[3491 rows x 8 columns]",
      "text/html": "<div>\n<style scoped>\n    .dataframe tbody tr th:only-of-type {\n        vertical-align: middle;\n    }\n\n    .dataframe tbody tr th {\n        vertical-align: top;\n    }\n\n    .dataframe thead th {\n        text-align: right;\n    }\n</style>\n<table border=\"1\" class=\"dataframe\">\n  <thead>\n    <tr style=\"text-align: right;\">\n      <th></th>\n      <th>address_id</th>\n      <th>street_address</th>\n      <th>city</th>\n      <th>state</th>\n      <th>zip_code</th>\n      <th>fips_state_and_county_code</th>\n      <th>county</th>\n      <th>updated_dt</th>\n    </tr>\n  </thead>\n  <tbody>\n    <tr>\n      <th>0</th>\n      <td>609</td>\n      <td>702 Main Street</td>\n      <td>Opp</td>\n      <td>AL</td>\n      <td>36462</td>\n      <td>01039</td>\n      <td>Covington County</td>\n      <td>2023-11-20</td>\n    </tr>\n    <tr>\n      <th>1</th>\n      <td>1075</td>\n      <td>50 Medical Park Drive East</td>\n      <td>Birmingham</td>\n      <td>AL</td>\n      <td>35235</td>\n      <td>01073</td>\n      <td>Jefferson County</td>\n      <td>2023-11-20</td>\n    </tr>\n    <tr>\n      <th>2</th>\n      <td>3323</td>\n      <td>1000 First Street North</td>\n      <td>Alabaster</td>\n      <td>AL</td>\n      <td>35007</td>\n      <td>01117</td>\n      <td>Shelby County</td>\n      <td>2023-11-20</td>\n    </tr>\n    <tr>\n      <th>3</th>\n      <td>2440</td>\n      <td>1720 University Boulevard</td>\n      <td>Birmingham</td>\n      <td>AL</td>\n      <td>35233</td>\n      <td>01073</td>\n      <td>Jefferson County</td>\n      <td>2023-11-20</td>\n    </tr>\n    <tr>\n      <th>4</th>\n      <td>1337</td>\n      <td>400 Northwood Drive</td>\n      <td>Centre</td>\n      <td>AL</td>\n      <td>35960</td>\n      <td>01019</td>\n      <td>Cherokee County</td>\n      <td>2023-11-20</td>\n    </tr>\n    <tr>\n      <th>...</th>\n      <td>...</td>\n      <td>...</td>\n      <td>...</td>\n      <td>...</td>\n      <td>...</td>\n      <td>...</td>\n      <td>...</td>\n      <td>...</td>\n    </tr>\n    <tr>\n      <th>3486</th>\n      <td>949</td>\n      <td>5245 W Us 290</td>\n      <td>Austin</td>\n      <td>TX</td>\n      <td>78735</td>\n      <td>48453</td>\n      <td>Travis County</td>\n      <td>2023-11-20</td>\n    </tr>\n    <tr>\n      <th>3487</th>\n      <td>718</td>\n      <td>630 Highway 71 W</td>\n      <td>Bastrop</td>\n      <td>TX</td>\n      <td>78602</td>\n      <td>48021</td>\n      <td>Bastrop County</td>\n      <td>2023-11-20</td>\n    </tr>\n    <tr>\n      <th>3488</th>\n      <td>2901</td>\n      <td>12400 N Dallas Parkway</td>\n      <td>Frisco</td>\n      <td>TX</td>\n      <td>75033</td>\n      <td>48121</td>\n      <td>Denton County</td>\n      <td>2023-11-20</td>\n    </tr>\n    <tr>\n      <th>3489</th>\n      <td>2967</td>\n      <td>1201 E Highway 287</td>\n      <td>Midlothian</td>\n      <td>TX</td>\n      <td>76065</td>\n      <td>48139</td>\n      <td>Ellis County</td>\n      <td>2023-11-20</td>\n    </tr>\n    <tr>\n      <th>3490</th>\n      <td>2007</td>\n      <td>2300 Lone Star Road</td>\n      <td>Mansfield</td>\n      <td>TX</td>\n      <td>76063</td>\n      <td>48439</td>\n      <td>Tarrant County</td>\n      <td>2023-11-20</td>\n    </tr>\n  </tbody>\n</table>\n<p>3491 rows × 8 columns</p>\n</div>"
     },
     "execution_count": 205,
     "metadata": {},
     "output_type": "execute_result"
    }
   ],
   "source": [
    "# Address/Location Table\n",
    "Address = hospital_df[['address_id', 'street_address','city','state','zip_code','fips_state_and_county_code','county','updated_dt']]\n",
    "Address"
   ],
   "metadata": {
    "collapsed": false,
    "ExecuteTime": {
     "end_time": "2024-02-23T02:45:52.654872400Z",
     "start_time": "2024-02-23T02:45:52.525844200Z"
    }
   },
   "id": "369a9b0328f7963",
   "execution_count": 205
  },
  {
   "cell_type": "code",
   "execution_count": 206,
   "id": "e47097b4",
   "metadata": {
    "ExecuteTime": {
     "end_time": "2024-02-23T02:45:53.120976800Z",
     "start_time": "2024-02-23T02:45:52.540846800Z"
    }
   },
   "outputs": [],
   "source": [
    "# connect to database\n",
    "\n",
    "username = \"jeremiahf24\"\n",
    "password = \"$ads507password\"\n",
    "hostName = \"ads507finalproject.mysql.database.azure.com\"\n",
    "\n",
    "conn = pymysql.connect(host=hostName,\n",
    "                       port=3306,\n",
    "                       user=username,\n",
    "                       passwd=password, \n",
    "                       db= \"ads507final\", \n",
    "                       ssl={\"fake_flag_to_enable_tls\": True})"
   ]
  },
  {
   "cell_type": "code",
   "execution_count": 207,
   "id": "389f3fe6",
   "metadata": {
    "ExecuteTime": {
     "end_time": "2024-02-23T02:45:53.230822300Z",
     "start_time": "2024-02-23T02:45:53.122977500Z"
    }
   },
   "outputs": [
    {
     "data": {
      "text/plain": "  Tables_in_ads507final\n0      address_location\n1     children_hospital\n2    church_affiliation\n3              hospital\n4     hospital_capacity\n5              teaching\n6                 urban",
      "text/html": "<div>\n<style scoped>\n    .dataframe tbody tr th:only-of-type {\n        vertical-align: middle;\n    }\n\n    .dataframe tbody tr th {\n        vertical-align: top;\n    }\n\n    .dataframe thead th {\n        text-align: right;\n    }\n</style>\n<table border=\"1\" class=\"dataframe\">\n  <thead>\n    <tr style=\"text-align: right;\">\n      <th></th>\n      <th>Tables_in_ads507final</th>\n    </tr>\n  </thead>\n  <tbody>\n    <tr>\n      <th>0</th>\n      <td>address_location</td>\n    </tr>\n    <tr>\n      <th>1</th>\n      <td>children_hospital</td>\n    </tr>\n    <tr>\n      <th>2</th>\n      <td>church_affiliation</td>\n    </tr>\n    <tr>\n      <th>3</th>\n      <td>hospital</td>\n    </tr>\n    <tr>\n      <th>4</th>\n      <td>hospital_capacity</td>\n    </tr>\n    <tr>\n      <th>5</th>\n      <td>teaching</td>\n    </tr>\n    <tr>\n      <th>6</th>\n      <td>urban</td>\n    </tr>\n  </tbody>\n</table>\n</div>"
     },
     "execution_count": 207,
     "metadata": {},
     "output_type": "execute_result"
    }
   ],
   "source": [
    "tableNames=pd.read_sql_query(\"\"\"SHOW TABLES\"\"\", conn)\n",
    "\n",
    "# print table names \n",
    "tableNames"
   ]
  },
  {
   "cell_type": "code",
   "execution_count": 208,
   "id": "a7579f63",
   "metadata": {
    "ExecuteTime": {
     "end_time": "2024-02-23T02:45:53.833956400Z",
     "start_time": "2024-02-23T02:45:53.232822900Z"
    }
   },
   "outputs": [
    {
     "name": "stdout",
     "output_type": "stream",
     "text": [
      "Error (1062, \"Duplicate entry '1' for key 'hospital.PRIMARY'\")\n"
     ]
    }
   ],
   "source": [
    "# hospital table - convert df to list of tuples\n",
    "hospital_data = [tuple(x) for x in hospital.values]\n",
    "\n",
    "# SQL query - insert data into hospital table\n",
    "sql_insert_hospital = \"\"\"\n",
    "INSERT INTO hospital (hospital_id, hospital_org_id, name, ein, medicare_provider_number, Address_id, capacity_id, updated_dt)\n",
    "VALUES (%s, %s, %s, %s, %s, %s, %s, %s)\n",
    "\"\"\"\n",
    "\n",
    "# check if insertion is needed\n",
    "if hospital_data:\n",
    "    # execute query \n",
    "    cursor = conn.cursor()\n",
    "    try:\n",
    "        cursor.executemany(sql_insert_hospital, hospital_data)\n",
    "        conn.commit()\n",
    "    except IntegrityError as e:\n",
    "        print(\"Error\", e)\n",
    "        conn.rollback()  # rollback the transaction if an error \n",
    "    finally:\n",
    "        cursor.close()\n",
    "else:\n",
    "    print(\"No new data to insert into hospital table.\")"
   ]
  },
  {
   "cell_type": "code",
   "execution_count": 209,
   "id": "60b696d3",
   "metadata": {
    "ExecuteTime": {
     "end_time": "2024-02-23T02:45:54.091015200Z",
     "start_time": "2024-02-23T02:45:53.827955200Z"
    }
   },
   "outputs": [],
   "source": [
    "# children hospital table - convert df to list of tuples\n",
    "children_hospital_data = [tuple(x) for x in children_hospital.values]\n",
    "\n",
    "# SQL query - insert data into children_hospital table\n",
    "sql_insert_children_hospital = \"\"\"\n",
    "INSERT INTO children_hospital(hospital_id, children_hospital_f, updated_dt)\n",
    "VALUES (%s, %s, %s)\n",
    "\"\"\"\n",
    "\n",
    "# check if insertion is needed\n",
    "if children_hospital_data:\n",
    "    # execute query\n",
    "    cursor = conn.cursor()\n",
    "    try:\n",
    "        cursor.executemany(sql_insert_children_hospital, children_hospital_data)\n",
    "        conn.commit()\n",
    "    except IntegrityError as e:\n",
    "        print(\"Error\", e)\n",
    "        conn.rollback()  # rollback the transaction if an error occurs \n",
    "    finally:\n",
    "        cursor.close()\n",
    "else:\n",
    "    print(\"No new data to insert into children_hospital table.\")"
   ]
  },
  {
   "cell_type": "code",
   "execution_count": 210,
   "id": "2aec0bb2",
   "metadata": {
    "ExecuteTime": {
     "end_time": "2024-02-23T02:45:54.282060900Z",
     "start_time": "2024-02-23T02:45:54.094015Z"
    }
   },
   "outputs": [
    {
     "name": "stdout",
     "output_type": "stream",
     "text": [
      "Error (1062, \"Duplicate entry '2381' for key 'hospital_capacity.PRIMARY'\")\n"
     ]
    }
   ],
   "source": [
    "# hospital_capacity table - convert df to list of tuples\n",
    "hospital_capacity_data = [tuple(x) for x in hospital_capacity.values]\n",
    "\n",
    "# SQL query - insert data into hospital_capacity table\n",
    "sql_insert_hospital_capacity = \"\"\"\n",
    "INSERT INTO hospital_capacity (capacity_id, hospital_bed_size, hospital_bed_count, updated_dt)\n",
    "VALUES (%s, %s, %s, %s)\n",
    "\"\"\"\n",
    "\n",
    "# check if insertion is needed\n",
    "if hospital_capacity_data:\n",
    "    # execute query \n",
    "    cursor = conn.cursor()\n",
    "    try:\n",
    "        cursor.executemany(sql_insert_hospital_capacity, hospital_capacity_data)\n",
    "        conn.commit()\n",
    "    except IntegrityError as e:\n",
    "        print(\"Error\", e)\n",
    "        conn.rollback()  # rollback the transaction if an error \n",
    "    finally:\n",
    "        cursor.close()\n",
    "else:\n",
    "    print(\"No new data to insert into hospital_capacity table.\")"
   ]
  },
  {
   "cell_type": "code",
   "execution_count": 211,
   "id": "30c5eb71",
   "metadata": {
    "ExecuteTime": {
     "end_time": "2024-02-23T02:45:54.563125100Z",
     "start_time": "2024-02-23T02:45:54.279060100Z"
    }
   },
   "outputs": [],
   "source": [
    "# teaching table - convert df to list of tuples\n",
    "teaching_data = [tuple(x) for x in teaching.values]\n",
    "\n",
    "# SQL query - insert data into children_hospital table\n",
    "sql_insert_teaching = \"\"\"\n",
    "INSERT INTO teaching (hospital_id, memb_counc_teach_hosps_f, updated_dt)\n",
    "VALUES (%s, %s, %s)\n",
    "\"\"\"\n",
    "\n",
    "# execute query \n",
    "if teaching_data:\n",
    "    # Execute query \n",
    "    cursor = conn.cursor()\n",
    "    try:\n",
    "        cursor.executemany(sql_insert_teaching, teaching_data)\n",
    "        conn.commit()\n",
    "    except IntegrityError as e:\n",
    "        print(\"Error\", e)\n",
    "        conn.rollback()  # rollback the transaction if an error occurs \n",
    "    finally:\n",
    "        cursor.close()\n",
    "else:\n",
    "    print(\"No new data to insert into teaching table.\")"
   ]
  },
  {
   "cell_type": "code",
   "execution_count": 212,
   "id": "04bb975a",
   "metadata": {
    "ExecuteTime": {
     "end_time": "2024-02-23T02:45:54.830185200Z",
     "start_time": "2024-02-23T02:45:54.566478900Z"
    }
   },
   "outputs": [],
   "source": [
    "# church_affiliation table - convert df to list of tuples\n",
    "church_affiliation_data = [tuple(x) for x in church_affiliation.values]\n",
    "\n",
    "# SQL query - insert data into church_affiliation table\n",
    "sql_insert_church_affiliation = \"\"\"\n",
    "INSERT INTO church_affiliation (hospital_id, chrch_affl_f, updated_dt)\n",
    "VALUES (%s, %s, %s)\n",
    "\"\"\"\n",
    "\n",
    "# execute query \n",
    "if church_affiliation_data:\n",
    "    # Execute query \n",
    "    cursor = conn.cursor()\n",
    "    try:\n",
    "        cursor.executemany(sql_insert_church_affiliation, church_affiliation_data)\n",
    "        conn.commit()\n",
    "    except IntegrityError as e:\n",
    "        print(\"Error\", e)\n",
    "        conn.rollback()  # rollback the transaction if an error occurs \n",
    "    finally:\n",
    "        cursor.close()\n",
    "else:\n",
    "    print(\"No new data to insert into church_affiliation table.\")"
   ]
  },
  {
   "cell_type": "code",
   "outputs": [
    {
     "name": "stdout",
     "output_type": "stream",
     "text": [
      "Error (1062, \"Duplicate entry '2644' for key 'address_location.PRIMARY'\")\n"
     ]
    }
   ],
   "source": [
    "# Address/Location table - convert df to list of tuples\n",
    "address_data = [tuple(x) for x in Address.values]\n",
    "\n",
    "# SQL query - insert data into address table\n",
    "sql_insert_address_data = \"\"\"\n",
    "INSERT INTO address_location (Address_id, Street_address, City, State, Zip_code, fips_state_and_county_code, county, Updated_dt)\n",
    "VALUES (%s, %s, %s, %s, %s, %s, %s, %s)\n",
    "\"\"\"\n",
    "\n",
    "# execute query \n",
    "if address_data:\n",
    "    # Execute query \n",
    "    cursor = conn.cursor()\n",
    "    try:\n",
    "        cursor.executemany(sql_insert_address_data, address_data)\n",
    "        conn.commit()\n",
    "    except IntegrityError as e:\n",
    "        print(\"Error\", e)\n",
    "        conn.rollback()  # rollback the transaction if an error occurs \n",
    "    finally:\n",
    "        cursor.close()\n",
    "else:\n",
    "    print(\"No new data to insert into address_location table.\")"
   ],
   "metadata": {
    "collapsed": false,
    "ExecuteTime": {
     "end_time": "2024-02-23T02:45:55.179246400Z",
     "start_time": "2024-02-23T02:45:54.833186300Z"
    }
   },
   "id": "1049e3ded8e38a9b",
   "execution_count": 213
  },
  {
   "cell_type": "code",
   "outputs": [
    {
     "name": "stdout",
     "output_type": "stream",
     "text": [
      "Sample data from table 'address_location':\n",
      "Sample data from table 'children_hospital':\n",
      "(1, 1, b'0', datetime.date(2023, 11, 20))\n",
      "(2, 2, b'0', datetime.date(2023, 11, 20))\n",
      "(3, 3, b'0', datetime.date(2023, 11, 20))\n",
      "(4, 4, b'0', datetime.date(2023, 11, 20))\n",
      "(5, 5, b'0', datetime.date(2023, 11, 20))\n",
      "Sample data from table 'church_affiliation':\n",
      "(1, 1, b'0', datetime.date(2023, 11, 20))\n",
      "(2, 2, b'0', datetime.date(2023, 11, 20))\n",
      "(3, 3, b'0', datetime.date(2023, 11, 20))\n",
      "(4, 4, b'0', datetime.date(2023, 11, 20))\n",
      "(5, 5, b'0', datetime.date(2023, 11, 20))\n",
      "Sample data from table 'hospital':\n",
      "(1, 1, 'Mizell Memorial Hospital', 630307951, 10007, 609, 2381, datetime.date(2023, 11, 20))\n",
      "(2, 2, 'St Vincents East', 630578923, 10011, 1075, 1270, datetime.date(2023, 11, 20))\n",
      "(3, 3, 'Shelby Baptist Medical Center', 630312913, 10016, 3323, 667, datetime.date(2023, 11, 20))\n",
      "(4, 4, 'Callahan Eye Foundation Hosp', 630459034, 10018, 2440, 556, datetime.date(2023, 11, 20))\n",
      "(5, 5, 'Cherokee Medical Center', 581973570, 10022, 1337, 445, datetime.date(2023, 11, 20))\n",
      "Sample data from table 'hospital_capacity':\n",
      "(1, '<100 beds', 69, datetime.date(2023, 11, 20), None)\n",
      "(2, '<100 beds', 25, datetime.date(2023, 11, 20), None)\n",
      "(3, '100-299 beds', 234, datetime.date(2023, 11, 20), None)\n",
      "(4, '100-299 beds', 150, datetime.date(2023, 11, 20), None)\n",
      "(5, '>299 beds', 649, datetime.date(2023, 11, 20), None)\n",
      "Sample data from table 'teaching':\n",
      "(1, 1, b'0', datetime.date(2023, 11, 20))\n",
      "(2, 2, b'1', datetime.date(2023, 11, 20))\n",
      "(3, 3, b'0', datetime.date(2023, 11, 20))\n",
      "(4, 4, b'1', datetime.date(2023, 11, 20))\n",
      "(5, 5, b'0', datetime.date(2023, 11, 20))\n",
      "Sample data from table 'urban':\n"
     ]
    }
   ],
   "source": [
    "# Create a cursor\n",
    "cursor = conn.cursor()\n",
    "\n",
    "# Execute SQL queries to get table names\n",
    "cursor.execute(\"SHOW TABLES\")\n",
    "\n",
    "# Fetch all the tables\n",
    "tables = cursor.fetchall()\n",
    "\n",
    "for table in tables:\n",
    "        table_name = table[0]\n",
    "\n",
    "        # Execute SQL query to fetch sample data from each table\n",
    "        cursor.execute(f\"SELECT * FROM {table_name} LIMIT 5\")\n",
    "\n",
    "        # Fetch and print sample data\n",
    "        sample_data = cursor.fetchall()\n",
    "        print(f\"Sample data from table '{table_name}':\")\n",
    "        for row in sample_data:\n",
    "            print(row)"
   ],
   "metadata": {
    "ExecuteTime": {
     "end_time": "2024-02-23T02:45:55.773388800Z",
     "start_time": "2024-02-23T02:45:55.174246300Z"
    }
   },
   "id": "3f4c4d3e",
   "execution_count": 214
  }
 ],
 "metadata": {
  "kernelspec": {
   "display_name": "Python 3 (ipykernel)",
   "language": "python",
   "name": "python3"
  },
  "language_info": {
   "codemirror_mode": {
    "name": "ipython",
    "version": 3
   },
   "file_extension": ".py",
   "mimetype": "text/x-python",
   "name": "python",
   "nbconvert_exporter": "python",
   "pygments_lexer": "ipython3",
   "version": "3.11.4"
  }
 },
 "nbformat": 4,
 "nbformat_minor": 5
}
